{
 "cells": [
  {
   "cell_type": "markdown",
   "id": "cb50eeb6-ad67-41bd-8248-2b2f20d995a8",
   "metadata": {},
   "source": [
    "# Web scraping. Exercise 2"
   ]
  },
  {
   "cell_type": "code",
   "execution_count": 2,
   "id": "3e951099-50d4-41b6-8c44-40ee3b4e2823",
   "metadata": {},
   "outputs": [],
   "source": [
    "# Import the libraries needed for scrapping"
   ]
  },
  {
   "cell_type": "code",
   "execution_count": 3,
   "id": "12e005aa-2187-43a9-8a53-69661f95e524",
   "metadata": {},
   "outputs": [],
   "source": [
    "import requests\n",
    "from bs4 import BeautifulSoup\n"
   ]
  },
  {
   "cell_type": "code",
   "execution_count": 4,
   "id": "058ac19a-6d02-433e-ac25-fcc157d7421d",
   "metadata": {},
   "outputs": [],
   "source": [
    "# Example page for scrapping\n",
    "# https://bigdatawirtz.github.io/exemplo-web/web_sample_practica_scraping.html"
   ]
  },
  {
   "cell_type": "code",
   "execution_count": 5,
   "id": "81224eed-8044-43f9-bbe0-f32aeb43d473",
   "metadata": {},
   "outputs": [
    {
     "name": "stdout",
     "output_type": "stream",
     "text": [
      "<html>\n",
      "\n",
      "<head>\n",
      "<title>A very simple webpage</title>\n",
      "<basefont size=4>\n",
      "</head>\n",
      "\n",
      "<body bgcolor=FFFFFF>\n",
      "\n",
      "<h1>A very simple webpage. This is an \"h1\" level header.</h1>\n",
      "\n",
      "<h2>This is a level h2 header.</h2>\n",
      "\n",
      "<h6>This is a level h6 header.  Pretty small!</h6>\n",
      "\n",
      "<p>This is a standard paragraph.</p>\n",
      "\n",
      "<p align=center>Now I've aligned it in the center of the screen.</p>\n",
      "\n",
      "<p align=right>Now aligned to the right</p>\n",
      "\n",
      "<p><b>Bold text</b></p>\n",
      "\n",
      "<p><strong>Strongly emphasized text</strong>  Can you tell the difference vs. bold?</p>\n",
      "\n",
      "<p><i>Italics</i></p>\n",
      "\n",
      "<p><em>Emphasized text</em>  Just like Italics!</p>\n",
      "\n",
      "<p>Here is a pretty picture: <img src=example/prettypicture.jpg alt=\"Pretty Picture\"></p>\n",
      "\n",
      "<p>Same thing, aligned differently to the paragraph: <img align=top src=example/prettypicture.jpg alt=\"Pretty Picture\"></p>\n",
      "\n",
      "<hr>\n",
      "\n",
      "<h2>How about a nice ordered list!</h2>\n",
      "<ol id=\"lista-porcos\">\n",
      "  <li>This little piggy went to market</li>\n",
      "  <li>This little piggy went to SB228 class</li>\n",
      "  <li>This little piggy went to an expensive restaurant in Downtown Palo Alto</li>\n",
      "  <li>This little piggy ate too much at Indian Buffet.</li>\n",
      "  <li>This little piggy got lost</li>\n",
      "</ol>\n",
      "\n",
      "<h2>Unordered list</h2>\n",
      "<ul id=\"lista-simple\">\n",
      "  <li>First element</li>\n",
      "  <li>Second element</li>\n",
      "  <li>Third element</li>\n",
      "</ul>\n",
      "\n",
      "<hr>\n",
      "\n",
      "<h2>Nested Lists!</h2>\n",
      "<ul id=\"lista-nested\">\n",
      "  <li>Things to to today:\n",
      "    <ol>\n",
      "      <li>Walk the dog</li>\n",
      "      <li>Feed the cat</li>\n",
      "      <li>Mow the lawn</li>\n",
      "    </ol>\n",
      "  </li>\n",
      "  <li>Things to do tomorrow:\n",
      "    <ol>\n",
      "      <li>Lunch with mom</li>\n",
      "      <li>Feed the hamster</li>\n",
      "      <li>Clean kitchen</li>\n",
      "    </ol>\n",
      "  </li>\n",
      "</ul>\n",
      "\n",
      "<p>And finally, how about some <a href=http://www.yahoo.com/>Links?</a></p>\n",
      "\n",
      "<p>Or let's just link to <a href=https://bigdatawirtz.github.io/exemplo-web>another page on this server</a></p>\n",
      "\n",
      "<p><strong>Remember</strong>, you can view the HTMl code from this or any other page by using the \"View Page Source\" command of your browser.</p>\n",
      "\n",
      "\n",
      "</body>\n",
      "\n",
      "</html>\n",
      "\n"
     ]
    }
   ],
   "source": [
    "# Shows the text of the web page\n",
    "url = \"https://bigdatawirtz.github.io/exemplo-web/web_sample_practica_scraping.html\"\n",
    "pagina = requests.get(url)\n",
    "print(pagina.text)"
   ]
  },
  {
   "cell_type": "code",
   "execution_count": 6,
   "id": "0a9ee591-1871-4c33-93a6-ca75b0cddbac",
   "metadata": {},
   "outputs": [
    {
     "data": {
      "text/plain": [
       "<title>A very simple webpage</title>"
      ]
     },
     "execution_count": 6,
     "metadata": {},
     "output_type": "execute_result"
    }
   ],
   "source": [
    "soup = BeautifulSoup(pagina.content, \"html.parser\")\n",
    "# Shows the page title\n",
    "soup.find(\"title\")"
   ]
  },
  {
   "cell_type": "code",
   "execution_count": 7,
   "id": "6fdae5b3-d32e-42bc-9b76-6dbe7c8bd859",
   "metadata": {},
   "outputs": [
    {
     "data": {
      "text/plain": [
       "<h1>A very simple webpage. This is an \"h1\" level header.</h1>"
      ]
     },
     "execution_count": 7,
     "metadata": {},
     "output_type": "execute_result"
    }
   ],
   "source": [
    "# Search for the contents of the H1 header\n",
    "soup.find(\"h1\")"
   ]
  },
  {
   "cell_type": "code",
   "execution_count": 8,
   "id": "877f6f6f-14b1-4c1a-ba28-b9c7885c4107",
   "metadata": {},
   "outputs": [
    {
     "data": {
      "text/plain": [
       "'example/prettypicture.jpg'"
      ]
     },
     "execution_count": 8,
     "metadata": {},
     "output_type": "execute_result"
    }
   ],
   "source": [
    "# Show the route to the image shown on the web\n",
    "img = soup.find(\"img\")\n",
    "img.get(\"src\")"
   ]
  },
  {
   "cell_type": "code",
   "execution_count": 9,
   "id": "6c6a3131-821d-4ee6-894f-276d49167e99",
   "metadata": {},
   "outputs": [
    {
     "data": {
      "text/plain": [
       "'Pretty Picture'"
      ]
     },
     "execution_count": 9,
     "metadata": {},
     "output_type": "execute_result"
    }
   ],
   "source": [
    "# Show the alternative text of the image\n",
    "img.get(\"alt\")"
   ]
  },
  {
   "cell_type": "code",
   "execution_count": 10,
   "id": "8774601b-a57d-4b85-8375-cbb61c0c0d4a",
   "metadata": {},
   "outputs": [
    {
     "data": {
      "text/plain": [
       "<strong>Strongly emphasized text</strong>"
      ]
     },
     "execution_count": 10,
     "metadata": {},
     "output_type": "execute_result"
    }
   ],
   "source": [
    "# Displays all the \"strongly\" highlighted texts on the page\n",
    "soup.find(\"strong\")"
   ]
  },
  {
   "cell_type": "code",
   "execution_count": 11,
   "id": "616eefdd-16f3-4a01-a16e-000303a094c0",
   "metadata": {},
   "outputs": [
    {
     "name": "stdout",
     "output_type": "stream",
     "text": [
      "<a href=\"http://www.yahoo.com/\">Links?</a>\n",
      "<a href=\"https://bigdatawirtz.github.io/exemplo-web\">another page on this server</a>\n"
     ]
    }
   ],
   "source": [
    "# Displays all the links on the page\n",
    "links = soup.find_all(\"a\")\n",
    "for i in links:\n",
    "    print(i)"
   ]
  },
  {
   "cell_type": "code",
   "execution_count": 12,
   "id": "8053ac3d-c6f6-4bd1-b73b-c989c76def49",
   "metadata": {},
   "outputs": [
    {
     "name": "stdout",
     "output_type": "stream",
     "text": [
      "Links?\n",
      "another page on this server\n",
      "http://www.yahoo.com/\n",
      "https://bigdatawirtz.github.io/exemplo-web\n"
     ]
    }
   ],
   "source": [
    "# Mostra os textos/palabras que teñen enlace \n",
    "for i in links:\n",
    "    print(i.text)\n",
    "# Mostra todos os enlaces presentes na páxina\n",
    "for i in links:\n",
    "    print(i.get(\"href\"))"
   ]
  },
  {
   "cell_type": "code",
   "execution_count": 40,
   "id": "545f16b1-e8a2-420b-be06-eec647271cd1",
   "metadata": {},
   "outputs": [
    {
     "data": {
      "text/plain": [
       "5"
      ]
     },
     "execution_count": 40,
     "metadata": {},
     "output_type": "execute_result"
    }
   ],
   "source": [
    "# Count the number of paragraphs on the web page\n",
    "parag = soup.find_all(\"p\")\n",
    "len(parag)"
   ]
  },
  {
   "cell_type": "code",
   "execution_count": 14,
   "id": "0e085fbf-ce66-4c41-a79c-b6186689b237",
   "metadata": {},
   "outputs": [
    {
     "data": {
      "text/plain": [
       "'Remember, you can view the HTMl code from this or any other page by using the \"View Page Source\" command of your browser.'"
      ]
     },
     "execution_count": 14,
     "metadata": {},
     "output_type": "execute_result"
    }
   ],
   "source": [
    "# Show the contents of the last paragraph\n",
    "soup.find_all(\"p\")[-1].text"
   ]
  },
  {
   "cell_type": "code",
   "execution_count": 26,
   "id": "ed20b829-5f77-45f6-b857-2e0f2abbff27",
   "metadata": {},
   "outputs": [],
   "source": [
    "# NOVA PÁXINA: https://bigdatawirtz.github.io/exemplo-web/08.html\n",
    "# Bótalle unha ollada ao código da páxina\n",
    "url = \"https://bigdatawirtz.github.io/exemplo-web/08.html\"\n",
    "pagina = requests.get(url)"
   ]
  },
  {
   "cell_type": "code",
   "execution_count": 23,
   "id": "fdd38379-0e0a-4734-9b04-2e1d06bc7850",
   "metadata": {},
   "outputs": [],
   "source": [
    "# Parsear o contido da web\n",
    "soup = BeautifulSoup(pagina.content, \"html.parser\")"
   ]
  },
  {
   "cell_type": "code",
   "execution_count": 28,
   "id": "33435700-ca30-44ee-9cc4-822d906c4139",
   "metadata": {},
   "outputs": [
    {
     "data": {
      "text/plain": [
       "'Páxina web con seccións'"
      ]
     },
     "execution_count": 28,
     "metadata": {},
     "output_type": "execute_result"
    }
   ],
   "source": [
    "# Mostra o título da páxina\n",
    "soup.find(\"title\").text"
   ]
  },
  {
   "cell_type": "code",
   "execution_count": 34,
   "id": "f1972af7-f002-44b4-bf47-2542a1c271d4",
   "metadata": {},
   "outputs": [
    {
     "data": {
      "text/plain": [
       "'utf-8'"
      ]
     },
     "execution_count": 34,
     "metadata": {},
     "output_type": "execute_result"
    }
   ],
   "source": [
    "# Mostra o charset da páxina, dentro de \"meta\"\n",
    "header = soup.find(\"meta\")\n",
    "header.get(\"charset\") #pillar un atributo dentro de lo que le pasemos (en ste caso header)"
   ]
  },
  {
   "cell_type": "code",
   "execution_count": 41,
   "id": "1082699b-435f-489f-8fd0-3d218d323e8d",
   "metadata": {},
   "outputs": [
    {
     "data": {
      "text/plain": [
       "5"
      ]
     },
     "execution_count": 41,
     "metadata": {},
     "output_type": "execute_result"
    }
   ],
   "source": [
    "# Conta o número de parágrafos que ten a páxina\n",
    "parag = soup.find_all(\"p\")\n",
    "len(parag)"
   ]
  },
  {
   "cell_type": "code",
   "execution_count": 49,
   "id": "35c29cdf-ea0c-44c8-a18c-d0cc137a7d87",
   "metadata": {},
   "outputs": [
    {
     "data": {
      "text/plain": [
       "'\\nPé do artigo\\n'"
      ]
     },
     "execution_count": 49,
     "metadata": {},
     "output_type": "execute_result"
    }
   ],
   "source": [
    "# Mostrar o texto no pé do artigo\n",
    "articulo = soup.find(\"article\")\n",
    "articulo.find(\"footer\").text\n"
   ]
  },
  {
   "cell_type": "code",
   "execution_count": 54,
   "id": "f0ad1f3e-10dd-486f-9415-2d7d1b7769df",
   "metadata": {},
   "outputs": [
    {
     "data": {
      "text/plain": [
       "'\\nPé de toda a web\\n'"
      ]
     },
     "execution_count": 54,
     "metadata": {},
     "output_type": "execute_result"
    }
   ],
   "source": [
    "# Mostrar o texto no pé da web\n",
    "footer = soup.find_all(\"footer\")\n",
    "footer[-1].text"
   ]
  },
  {
   "cell_type": "code",
   "execution_count": 70,
   "id": "561bebcf-f43a-4ab6-9ca4-74287fe3b273",
   "metadata": {},
   "outputs": [
    {
     "data": {
      "text/plain": [
       "'\\nLorem ipsum dolor sit amet, consectetur adipisicing elit, sed do eiusmod tempor incididunt ut labore et dolore magna aliqua. Ut enim ad minim veniam, quis nostrud exercitation ullamco laboris nisi ut aliquip ex ea commodo consequat.\\n'"
      ]
     },
     "execution_count": 70,
     "metadata": {},
     "output_type": "execute_result"
    }
   ],
   "source": [
    "# Mostrar id da sección\n",
    "id_section = soup.find_all(\"section\")\n",
    "id_section[0].text"
   ]
  }
 ],
 "metadata": {
  "kernelspec": {
   "display_name": "Python 3 (ipykernel)",
   "language": "python",
   "name": "python3"
  },
  "language_info": {
   "codemirror_mode": {
    "name": "ipython",
    "version": 3
   },
   "file_extension": ".py",
   "mimetype": "text/x-python",
   "name": "python",
   "nbconvert_exporter": "python",
   "pygments_lexer": "ipython3",
   "version": "3.12.1"
  }
 },
 "nbformat": 4,
 "nbformat_minor": 5
}
