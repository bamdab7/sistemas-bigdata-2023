{
 "cells": [
  {
   "cell_type": "markdown",
   "metadata": {},
   "source": [
    "# Visualizations. Exercise 3. Folium\n",
    "**Folium multilayer, clusters ...**"
   ]
  },
  {
   "cell_type": "code",
   "execution_count": null,
   "metadata": {},
   "outputs": [],
   "source": [
    "# Paint a map of Galicia with several layers\n",
    "# Selectable tile map background: minimum 3 layers\n",
    "# Counties (comarcas) limits (maps of the cartographic service (sergas))\n",
    "# Marks with beaches with blue flags in 2021 (portal \"@bertos\") + popup: beach name\n",
    "\n",
    "# 1. Make a first map using the data from the CSV file (for the beaches) (without cluster of marks) \n",
    "# 2. Make a second map with data from KML file  (for the beaches) (with cluster of marks)"
   ]
  },
  {
   "cell_type": "code",
   "execution_count": null,
   "metadata": {},
   "outputs": [],
   "source": [
    "# Xunta Shp documents\n",
    "#'https://www.sergas.es/Saude-publica/GIS-Comarcas'"
   ]
  },
  {
   "cell_type": "code",
   "execution_count": null,
   "metadata": {},
   "outputs": [],
   "source": [
    "# CSV file with blue flag beaches\n",
    "# https://abertos.xunta.gal/catalogo/cultura-ocio-deporte/-/dataset/0438/praias-galegas-con-bandeira-azul-2021"
   ]
  },
  {
   "cell_type": "code",
   "execution_count": null,
   "metadata": {},
   "outputs": [],
   "source": []
  }
 ],
 "metadata": {
  "kernelspec": {
   "display_name": "systems",
   "language": "python",
   "name": "python3"
  },
  "language_info": {
   "codemirror_mode": {
    "name": "ipython",
    "version": 3
   },
   "file_extension": ".py",
   "mimetype": "text/x-python",
   "name": "python",
   "nbconvert_exporter": "python",
   "pygments_lexer": "ipython3",
   "version": "3.7.15"
  },
  "orig_nbformat": 4,
  "vscode": {
   "interpreter": {
    "hash": "63eb1e5c3aa5268319f56c3b664e0523445c946ec0f1445e261f1f92702f6b14"
   }
  }
 },
 "nbformat": 4,
 "nbformat_minor": 2
}
