{
 "cells": [
  {
   "cell_type": "markdown",
   "metadata": {},
   "source": [
    "### Maps with Shapefiles\n",
    "\n",
    "- Working with geodataframes\n",
    "- Different ways of ploting maps\n",
    "- polygons, lines and point\n",
    "- geometric operations"
   ]
  },
  {
   "cell_type": "code",
   "execution_count": null,
   "metadata": {},
   "outputs": [],
   "source": [
    "# Import geopandas library\n",
    "import geopandas as gpd"
   ]
  },
  {
   "cell_type": "markdown",
   "metadata": {},
   "source": [
    "### Cartographic Datasets\n",
    "Cartography of Galicia in vector format for xeographic information systems.\n",
    "\n",
    "https://www.sergas.es/Saude-publica/GIS-Cartografia-Galicia-formato-vectorial-SHP\n",
    "\n",
    "https://www.sergas.es/Saude-publica/GIS-Concellos"
   ]
  },
  {
   "cell_type": "code",
   "execution_count": null,
   "metadata": {},
   "outputs": [],
   "source": [
    "# Load data\n",
    "df_concellos = gpd.read_file('../datasets/Concellos/Concellos_IGN.shp')\n",
    "df_concellos.head()"
   ]
  },
  {
   "cell_type": "code",
   "execution_count": null,
   "metadata": {},
   "outputs": [],
   "source": [
    "# Show teh coordinate system\n",
    "# https://spatialreference.org/ref/epsg/etrs89-utm-zone-29n/\n",
    "print(df_concellos.crs)"
   ]
  },
  {
   "cell_type": "code",
   "execution_count": null,
   "metadata": {},
   "outputs": [],
   "source": [
    "# Draw the map of Concellos\n",
    "df_concellos.plot()"
   ]
  },
  {
   "cell_type": "code",
   "execution_count": null,
   "metadata": {},
   "outputs": [],
   "source": [
    "# Change size\n",
    "df_concellos.plot(figsize=(10,10))"
   ]
  },
  {
   "cell_type": "markdown",
   "metadata": {},
   "source": [
    "The plot functions paint, by default, the Geometry column, where you can find us:\n",
    "- POLYGON\n",
    "- LINE\n",
    "- POINT"
   ]
  },
  {
   "cell_type": "code",
   "execution_count": null,
   "metadata": {},
   "outputs": [],
   "source": [
    "# we can define how to paint an area or border of a polygon\n",
    "# Lista de cores: https://matplotlib.org/stable/gallery/color/named_colors.html\n",
    "df_concellos.plot(color='green')"
   ]
  },
  {
   "cell_type": "code",
   "execution_count": null,
   "metadata": {},
   "outputs": [],
   "source": [
    "df_concellos.plot(edgecolor='black')"
   ]
  },
  {
   "cell_type": "code",
   "execution_count": null,
   "metadata": {},
   "outputs": [],
   "source": [
    "df_concellos.plot(color='whitesmoke',edgecolor='black')"
   ]
  },
  {
   "cell_type": "code",
   "execution_count": null,
   "metadata": {},
   "outputs": [],
   "source": [
    "# Download and load the list of population entities\n",
    "df_poboacions = gpd.read_file('/huge/datasets/Entidades_Singulares_Poboacion/ENTIDADE_SINGULAR_Pob_2010_20111205.shp')\n",
    "df_poboacions.head()"
   ]
  },
  {
   "cell_type": "code",
   "execution_count": null,
   "metadata": {},
   "outputs": [],
   "source": [
    "df_poboacions.shape"
   ]
  },
  {
   "cell_type": "code",
   "execution_count": null,
   "metadata": {},
   "outputs": [],
   "source": [
    "df_poboacions.crs"
   ]
  },
  {
   "cell_type": "code",
   "execution_count": null,
   "metadata": {},
   "outputs": [],
   "source": [
    "df_poboacions.plot()"
   ]
  },
  {
   "cell_type": "code",
   "execution_count": null,
   "metadata": {},
   "outputs": [],
   "source": [
    "df_poboacions.plot(markersize=0.05,figsize=(10,10))"
   ]
  },
  {
   "cell_type": "code",
   "execution_count": null,
   "metadata": {},
   "outputs": [],
   "source": [
    "# It is possible to plot several datasets at the same time\n",
    "base = df_concellos.plot(color='whitesmoke',figsize=(7,7))\n",
    "df_poboacions.plot(markersize=0.1,ax=base)"
   ]
  },
  {
   "cell_type": "code",
   "execution_count": null,
   "metadata": {},
   "outputs": [],
   "source": [
    "# Download 'redes de transporte', por exemplo: a rede de ferrocarril\n",
    "# https://www.sergas.es/Saude-publica/GIS-Cartografia-Galicia-formato-vectorial-SHP\n",
    "df_tren = gpd.read_file('/huge/datasets/Ferrocarril/FFCC_AVE.shp')\n",
    "df_tren.head()"
   ]
  },
  {
   "cell_type": "code",
   "execution_count": null,
   "metadata": {},
   "outputs": [],
   "source": [
    "df_tren.crs"
   ]
  },
  {
   "cell_type": "code",
   "execution_count": null,
   "metadata": {},
   "outputs": [],
   "source": [
    "df_tren.plot()"
   ]
  },
  {
   "cell_type": "code",
   "execution_count": null,
   "metadata": {},
   "outputs": [],
   "source": [
    "base = df_concellos.plot(color='whitesmoke')\n",
    "df_tren.plot(ax=base)"
   ]
  },
  {
   "cell_type": "code",
   "execution_count": null,
   "metadata": {},
   "outputs": [],
   "source": [
    "# The geometry column allows for different operations related to the space depending on the type of data it stores."
   ]
  },
  {
   "cell_type": "code",
   "execution_count": null,
   "metadata": {},
   "outputs": [],
   "source": [
    "df_concellos.head(2)"
   ]
  },
  {
   "cell_type": "code",
   "execution_count": null,
   "metadata": {},
   "outputs": [],
   "source": [
    "# We can calculate the area of polygons in km2.\n",
    "df_concellos.area / 10**6"
   ]
  },
  {
   "cell_type": "code",
   "execution_count": null,
   "metadata": {},
   "outputs": [],
   "source": [
    "df_concellos[df_concellos.Concello == 'Ferrol'].area / 10**6"
   ]
  },
  {
   "cell_type": "code",
   "execution_count": null,
   "metadata": {},
   "outputs": [],
   "source": [
    "# We can calculate the length of a line\n",
    "df_tren.head(2)"
   ]
  },
  {
   "cell_type": "code",
   "execution_count": null,
   "metadata": {},
   "outputs": [],
   "source": [
    "df_tren.length"
   ]
  },
  {
   "cell_type": "code",
   "execution_count": null,
   "metadata": {},
   "outputs": [],
   "source": [
    "df_tren.drop('SHAPE_LEN',axis='columns',inplace=True)\n",
    "df_tren.head(3)"
   ]
  },
  {
   "cell_type": "code",
   "execution_count": null,
   "metadata": {},
   "outputs": [],
   "source": [
    "df_tren.length"
   ]
  },
  {
   "cell_type": "code",
   "execution_count": null,
   "metadata": {},
   "outputs": [],
   "source": [
    "# We can paint the maps in a different way for each line depending on the internal data of the dataframe.\n",
    "# For example: different colors for different size towns\n",
    "# different colors for train lines of different category\n",
    "\n",
    "# One of the strategies is to create a new column 'color' in the dataframe, where to indicate the color to be painted."
   ]
  },
  {
   "cell_type": "code",
   "execution_count": null,
   "metadata": {},
   "outputs": [],
   "source": [
    "df_concellos.head(3)"
   ]
  },
  {
   "cell_type": "code",
   "execution_count": null,
   "metadata": {},
   "outputs": [],
   "source": [
    "# Pintar de azul as provincias que teñen mar, de vermello as que non \n",
    "df_concellos['color'] = df_concellos.Provincia.apply(lambda x: 'red' if x == 'Ourense' else 'blue')"
   ]
  },
  {
   "cell_type": "code",
   "execution_count": null,
   "metadata": {},
   "outputs": [],
   "source": [
    "df_concellos.plot(color=df_concellos.color)"
   ]
  },
  {
   "cell_type": "code",
   "execution_count": null,
   "metadata": {},
   "outputs": [],
   "source": []
  }
 ],
 "metadata": {
  "interpreter": {
   "hash": "2eaf50c46cca8d47f8fbdccf847348d8678fdaff72e1c7be6ae8fbe014f877f9"
  },
  "kernelspec": {
   "display_name": "Python 3.8.12 ('SistemasBigData')",
   "language": "python",
   "name": "python3"
  },
  "language_info": {
   "codemirror_mode": {
    "name": "ipython",
    "version": 3
   },
   "file_extension": ".py",
   "mimetype": "text/x-python",
   "name": "python",
   "nbconvert_exporter": "python",
   "pygments_lexer": "ipython3",
   "version": "3.7.15"
  },
  "orig_nbformat": 4
 },
 "nbformat": 4,
 "nbformat_minor": 2
}
