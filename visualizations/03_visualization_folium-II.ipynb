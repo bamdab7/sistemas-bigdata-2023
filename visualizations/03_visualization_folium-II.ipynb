{
 "cells": [
  {
   "cell_type": "markdown",
   "metadata": {},
   "source": [
    "# Folium II"
   ]
  },
  {
   "cell_type": "markdown",
   "metadata": {},
   "source": [
    "### Dataset: Galician Libraries\n",
    "\n",
    "**Rede de bibliotecas de Galicia**\n",
    "\n",
    "Dataset from Opendata @bertos, Xunta de GAlicia\n",
    "\n",
    "https://abertos.xunta.gal/catalogo/cultura-ocio-deporte/-/dataset/0230/rede-bibliotecas-galicia"
   ]
  },
  {
   "cell_type": "code",
   "execution_count": null,
   "metadata": {},
   "outputs": [],
   "source": []
  },
  {
   "cell_type": "code",
   "execution_count": null,
   "metadata": {},
   "outputs": [],
   "source": [
    "# Load libraries\n",
    "import pandas as pd\n",
    "import folium"
   ]
  },
  {
   "cell_type": "code",
   "execution_count": null,
   "metadata": {},
   "outputs": [],
   "source": [
    "# Display galician libraries on a map\n",
    "\n",
    "# Note: remember that you have to add markers one by one"
   ]
  },
  {
   "cell_type": "code",
   "execution_count": null,
   "metadata": {},
   "outputs": [],
   "source": [
    "bibliotecas = pd.read_csv('https://abertos.xunta.gal/catalogo/cultura-ocio-deporte/-/dataset/0230/rede-bibliotecas-galicia/001/descarga-directa-ficheiro.csv',sep=';')\n",
    "bibliotecas.head()"
   ]
  },
  {
   "cell_type": "code",
   "execution_count": null,
   "metadata": {},
   "outputs": [],
   "source": [
    "bibliotecas.info()"
   ]
  },
  {
   "cell_type": "markdown",
   "metadata": {},
   "source": [
    "The most important data that we will use are the coordinates, so we have to make sure that the data are clean and will work.\n",
    "\n",
    "Some of the problems we may encounter are:\n",
    "- null values\n",
    "- blank spaces\n",
    "- wrongly coded values\n",
    "- wrong values\n",
    "- offset columns\n",
    "\n",
    "Depending on the problem and our objectives we can:\n",
    "- correct the data\n",
    "- clean the data\n",
    "- delete the rows\n",
    "- etc..."
   ]
  },
  {
   "cell_type": "code",
   "execution_count": null,
   "metadata": {},
   "outputs": [],
   "source": [
    "# Are there null values?\n",
    "bibliotecas[bibliotecas.COORDENADAS.isnull()]\n",
    "\n",
    "# We could remove the lines with null values\n",
    "# bibliotecas.drop(index= bibliotecas[bibliotecas.COORDENADAS.isnull()].index, inplace=True)\n",
    "# bibliotecas.reset_index(drop=True,inplace=True)"
   ]
  },
  {
   "cell_type": "code",
   "execution_count": null,
   "metadata": {},
   "outputs": [],
   "source": [
    "# In this case we found that coordinates are coden in the same colum, separated by comma and a space"
   ]
  },
  {
   "cell_type": "code",
   "execution_count": null,
   "metadata": {},
   "outputs": [],
   "source": [
    "bibliotecas.COORDENADAS.head()"
   ]
  },
  {
   "cell_type": "code",
   "execution_count": null,
   "metadata": {},
   "outputs": [],
   "source": [
    "# There are no lines that do not match the next regex\n",
    "bibliotecas[bibliotecas['COORDENADAS'].str.match(r'^[0-9]+\\.[0-9]+\\,\\s[+\\-]*[0-9]+\\.[0-9]+$')==False]"
   ]
  },
  {
   "cell_type": "code",
   "execution_count": null,
   "metadata": {},
   "outputs": [],
   "source": [
    "# Create a new column with coordinates without spaces\n",
    "bibliotecas['COORDENADAS_nospaces'] = bibliotecas.COORDENADAS.apply(lambda x: x.replace(' ',''))"
   ]
  },
  {
   "cell_type": "code",
   "execution_count": null,
   "metadata": {},
   "outputs": [],
   "source": [
    "bibliotecas.drop('COORDENADAS',axis='columns',inplace=True)\n",
    "bibliotecas.rename(columns={'COORDENADAS_nospaces':'COORDENADAS'},inplace=True)"
   ]
  },
  {
   "cell_type": "code",
   "execution_count": null,
   "metadata": {},
   "outputs": [],
   "source": []
  },
  {
   "cell_type": "code",
   "execution_count": null,
   "metadata": {},
   "outputs": [],
   "source": [
    "# Create a new dataframe. Verify that all coordinates are correct\n",
    "biblios = bibliotecas[bibliotecas['COORDENADAS'].str.match(r'^[0-9]+\\.[0-9]+\\,[+\\-]*[0-9]+\\.[0-9]+$')==True].copy()"
   ]
  },
  {
   "cell_type": "code",
   "execution_count": null,
   "metadata": {},
   "outputs": [],
   "source": [
    "m = folium.Map(location=[43, -8.20],zoom_start=8, width=600, height=600)\n",
    "\n",
    "for index, biblioteca in biblios.iterrows():\n",
    "    folium.Marker([biblioteca['COORDENADAS'].split(',')[0], biblioteca['COORDENADAS'].split(',')[1]]).add_to(m)\n",
    "    #folium.Marker([biblioteca['COORDENADAS'].split(',')[0], biblioteca['COORDENADAS'].split(',')[1]],popup=biblioteca['NOME']).add_to(m)\n",
    "    #folium.Marker([biblioteca['COORDENADAS'].split(',')[0], biblioteca['COORDENADAS'].split(',')[1]],popup=biblioteca['NOME'],icon=folium.Icon(icon='book')).add_to(m)\n",
    "m"
   ]
  },
  {
   "cell_type": "code",
   "execution_count": null,
   "metadata": {},
   "outputs": [],
   "source": [
    "# There are several ways to iterate the DataFrame and display the markers\n",
    "m = folium.Map(location=[43, -8.20],zoom_start=8, width=600, height=600)\n",
    "\n",
    "for i in range(len(biblios)):\n",
    "    folium.Marker([biblios.iloc[i]['COORDENADAS'].split(',')[0], biblios.iloc[i]['COORDENADAS'].split(',')[1]]).add_to(m)\n",
    "m"
   ]
  },
  {
   "cell_type": "code",
   "execution_count": null,
   "metadata": {},
   "outputs": [],
   "source": [
    "len(bibliotecas)"
   ]
  },
  {
   "cell_type": "code",
   "execution_count": null,
   "metadata": {},
   "outputs": [],
   "source": [
    "# If we do not want to clean the data before painting, we can also manage the exceptions in case of errors.\n",
    "m = folium.Map(location=[43, -8.20],zoom_start=8, width=600, height=600)\n",
    "\n",
    "for i in range(len(bibliotecas)):\n",
    "    try:\n",
    "        folium.Marker([bibliotecas.iloc[i]['COORDENADAS'].split(',')[0], bibliotecas.iloc[i]['COORDENADAS'].split(',')[1]]).add_to(m)\n",
    "    except:\n",
    "        coordenadas = bibliotecas.iloc[i]['COORDENADAS']\n",
    "        print(f'Datos incorrectos: biblioteca {i}, coordenadas {coordenadas}')\n",
    "        # if we do not want to show any data in case of error, we can simply use the following line and \"continue\" the execution        \n",
    "        # continue\n",
    "        # pass \n",
    "m"
   ]
  },
  {
   "cell_type": "markdown",
   "metadata": {},
   "source": [
    "### Cluster of markers\n",
    "\n",
    "It is possible to user cluster to manage groups of markers\n",
    "\n",
    "1. The markers are added to the cluster.\n",
    "2. The cluster is added to the map"
   ]
  },
  {
   "cell_type": "code",
   "execution_count": null,
   "metadata": {},
   "outputs": [],
   "source": [
    "import folium.plugins\n",
    "\n",
    "m = folium.Map(location=[43, -8.20],zoom_start=8, width=600, height=600)\n",
    "\n",
    "marker_cluster = folium.plugins.MarkerCluster().add_to(m)\n",
    "\n",
    "for index, biblioteca in biblios.iterrows():\n",
    "    folium.Marker([biblioteca['COORDENADAS'].split(',')[0], biblioteca['COORDENADAS'].split(',')[1]],popup=biblioteca['NOME'],icon=folium.Icon(icon='book')).add_to(marker_cluster)\n",
    "\n",
    "m"
   ]
  },
  {
   "cell_type": "markdown",
   "metadata": {},
   "source": [
    "### KMZ/KML files\n",
    "\n",
    "In the @bertos portal created by Xunta de Galicia we can also find the data in KML format.\n",
    "\n",
    "https://abertos.xunta.gal/catalogo/cultura-ocio-deporte/-/dataset/0230/rede-bibliotecas-galicia\n",
    "\n",
    "KMZ and KML files\n",
    "- These are formats popularized by Google (Earth/Maps) to represent geographic information.\n",
    "- KML is an XML file\n",
    "- KMZ is a ZIP file where we find a doc.kml and other files with extra information.\n",
    "\n",
    "The interesting fields for us in the KML files are:\n",
    "```\n",
    "<Placemark>\n",
    "    <name>\n",
    "        <Location>\n",
    "        <longitude>\n",
    "        <latitude> # <latitude>\n",
    "```"
   ]
  },
  {
   "cell_type": "code",
   "execution_count": null,
   "metadata": {},
   "outputs": [],
   "source": [
    "# There are XML files so we can parser them with Beautifulsoup\n",
    "# KML File\n",
    "url = 'https://abertos.xunta.gal/catalogo/cultura-ocio-deporte/-/dataset/0230/rede-bibliotecas-galicia/002/descarga-directa-ficheiro.kml'\n",
    "\n",
    "import requests\n",
    "import lxml # It can be necessary to install the xml parser\n",
    "from bs4 import BeautifulSoup\n",
    "\n",
    "response = requests.get(url)\n",
    "#print(response.text)\n",
    "soup = BeautifulSoup(response.content,'lxml')"
   ]
  },
  {
   "cell_type": "code",
   "execution_count": null,
   "metadata": {},
   "outputs": [],
   "source": [
    "# A información de cada biblioteca está nun único \"placemark\"\n",
    "# Creamos unha lista de todas as bibliotecas\n",
    "bibliotecas = soup.find_all('placemark')\n",
    "len(bibliotecas)"
   ]
  },
  {
   "cell_type": "code",
   "execution_count": null,
   "metadata": {},
   "outputs": [],
   "source": [
    "# Visualizamos unha biblioteca\n",
    "bibliotecas[0]"
   ]
  },
  {
   "cell_type": "code",
   "execution_count": null,
   "metadata": {},
   "outputs": [],
   "source": [
    "# we see that the coordinates are \"upside down\" from what folium expects (longitude,latitude)\n",
    "bibliotecas[0].find('coordinates').text"
   ]
  },
  {
   "cell_type": "code",
   "execution_count": null,
   "metadata": {},
   "outputs": [],
   "source": [
    "for biblioteca in bibliotecas:\n",
    "    print(biblioteca.find('name').text)\n",
    "    print(biblioteca.find('coordinates').text)"
   ]
  },
  {
   "cell_type": "code",
   "execution_count": null,
   "metadata": {},
   "outputs": [],
   "source": [
    "# In KML there can also be errors in the coordinates\n",
    "# We could build a dataframe with the data and paint the map in the same way as before.\n",
    "# We can also iterate the data and go painting the map\n",
    "# Instead of using the \"match\" function of pandas.series we will use the search function of the module 're'.\n",
    "import re\n",
    "\n",
    "m = folium.Map(location=[43, -8.20],zoom_start=8, width=600, height=600)\n",
    "\n",
    "#^[0-9]+\\.[0-9]+\\,[+\\-]*[0-9]+\\.[0-9]+$\n",
    "\n",
    "for biblioteca in bibliotecas:\n",
    "    if (re.search('^[+\\-]*[0-9]+\\.[0-9]+\\,[0-9]+\\.[0-9]+$',biblioteca.find('coordinates').text)):\n",
    "        folium.Marker([biblioteca.find('coordinates').text.split(',')[1], biblioteca.find('coordinates').text.split(',')[0]]).add_to(m)        \n",
    "m"
   ]
  },
  {
   "cell_type": "code",
   "execution_count": null,
   "metadata": {},
   "outputs": [],
   "source": [
    "# We can also paint the map by checking for errors with the try/except structure\n",
    "m = folium.Map(location=[43, -8.20],zoom_start=8, width=600, height=600)\n",
    "\n",
    "for biblioteca in bibliotecas:\n",
    "    try:\n",
    "        folium.Marker([biblioteca.find('coordinates').text.split(',')[1], biblioteca.find('coordinates').text.split(',')[0]]).add_to(m)      \n",
    "    except:\n",
    "        pass\n",
    "m"
   ]
  },
  {
   "cell_type": "markdown",
   "metadata": {},
   "source": [
    "### Multilayer maps\n",
    "\n",
    "Folium, together with leaflet, allows the creation of interactive multilayer maps."
   ]
  },
  {
   "cell_type": "code",
   "execution_count": null,
   "metadata": {},
   "outputs": [],
   "source": [
    "import geopandas as gpd"
   ]
  },
  {
   "cell_type": "code",
   "execution_count": null,
   "metadata": {},
   "outputs": [],
   "source": [
    "# We can create DataFrames also from Shapefiles to display on Folium maps\n",
    "\n",
    "df_concellos = gpd.read_file('../datasets/Concellos/Concellos_IGN.shp')\n",
    "#df_ferrocarril = gpd.read_file('/huge/datasets/Ferrocarril/ESTACION_FFCC.shp')"
   ]
  },
  {
   "cell_type": "code",
   "execution_count": null,
   "metadata": {},
   "outputs": [],
   "source": [
    "\n",
    "# class folium.features.GeoJson\n",
    "# Creates a GeoJson object for plotting into a Map\n",
    "# https://python-visualization.github.io/folium/modules.html#folium.features.GeoJson\n",
    "\n",
    "m = folium.Map(location=[43, -8.20],zoom_start=8, width=600, height=600)\n",
    "folium.GeoJson(df_concellos).add_to(m)\n",
    "#folium.GeoJson(df_ferrocarril).add_to(m)\n",
    "m"
   ]
  },
  {
   "cell_type": "code",
   "execution_count": null,
   "metadata": {},
   "outputs": [],
   "source": [
    "df_concellos.crs"
   ]
  },
  {
   "cell_type": "code",
   "execution_count": null,
   "metadata": {},
   "outputs": [],
   "source": [
    "m.crs"
   ]
  },
  {
   "cell_type": "code",
   "execution_count": null,
   "metadata": {},
   "outputs": [],
   "source": []
  }
 ],
 "metadata": {
  "kernelspec": {
   "display_name": "Python 3",
   "language": "python",
   "name": "python3"
  },
  "language_info": {
   "codemirror_mode": {
    "name": "ipython",
    "version": 3
   },
   "file_extension": ".py",
   "mimetype": "text/x-python",
   "name": "python",
   "nbconvert_exporter": "python",
   "pygments_lexer": "ipython3",
   "version": "3.7.15"
  },
  "orig_nbformat": 4,
  "vscode": {
   "interpreter": {
    "hash": "916dbcbb3f70747c44a77c7bcd40155683ae19c65e1c03b4aa3499c5328201f1"
   }
  }
 },
 "nbformat": 4,
 "nbformat_minor": 2
}
