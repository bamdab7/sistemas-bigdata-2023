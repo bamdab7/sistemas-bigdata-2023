{
 "cells": [
  {
   "cell_type": "markdown",
   "metadata": {},
   "source": [
    "## Folium\n",
    "\n",
    "*Make beautiful, interactive maps with Python and Leaflet.js*"
   ]
  },
  {
   "cell_type": "markdown",
   "metadata": {},
   "source": [
    "**Folium is a python library that facilitates the creation of interactive maps.\n",
    "\n",
    "**Documentation**: https://python-visualization.github.io/folium/\n",
    "\n",
    "https://leafletjs.com/ (JavaScript library)"
   ]
  },
  {
   "cell_type": "code",
   "execution_count": null,
   "metadata": {},
   "outputs": [],
   "source": [
    "import folium"
   ]
  },
  {
   "cell_type": "code",
   "execution_count": null,
   "metadata": {},
   "outputs": [],
   "source": [
    "# Create and display a map\n",
    "m = folium.Map()\n",
    "m"
   ]
  },
  {
   "cell_type": "code",
   "execution_count": null,
   "metadata": {},
   "outputs": [],
   "source": [
    "# Use different parameters to configure the map:\n",
    "# Center the view, size, initial zoom\n",
    "\n",
    "lat = 43\n",
    "lon = 0\n",
    "m = folium.Map(location=[lat, lon])\n",
    "#m = folium.Map(location=[lat, lon],zoom_start=15)\n",
    "#m = folium.Map(location=[lat, lon],zoom_start=15, width=800, height=600)\n",
    "m\n"
   ]
  },
  {
   "cell_type": "code",
   "execution_count": null,
   "metadata": {},
   "outputs": [],
   "source": [
    "# Exercise:\n",
    "# Try to locate your house only editing coordinates\n",
    "lat = _ \n",
    "lon = _\n",
    "m = folium.Map(location=[lat, lon],zoom_start=_, width=800, height=600)\n",
    "m\n"
   ]
  },
  {
   "cell_type": "markdown",
   "metadata": {},
   "source": [
    "You can extract the coordinates of different sites:\n",
    "- google maps (click on the map + right button | url)\n",
    "- openstreetmap (click on the map - right mouse button | url)\n"
   ]
  },
  {
   "cell_type": "markdown",
   "metadata": {},
   "source": [
    "There are many map types you can use as base for your maps:\n",
    "- “OpenStreetMap”\n",
    "- “CartoDB” (positron and dark_matter)\n",
    "- Custom titles\n",
    "\n",
    "Documentation: https://python-visualization.github.io/folium/latest/user_guide/raster_layers/tiles.html\n",
    "Extra tilesets: https://leaflet-extras.github.io/leaflet-providers/preview/"
   ]
  },
  {
   "cell_type": "code",
   "execution_count": null,
   "metadata": {},
   "outputs": [],
   "source": [
    "tipo_mapa = 'CartoDB Positron'\n",
    "#tipo_mapa = 'CartoDB dark_matter'\n",
    "#tipo_mapa = 'Open Street Map' #Default\n",
    "\n",
    "m = folium.Map(location=[43.38, -8.42],zoom_start=15, width=800, height=600, tiles=tipo_mapa )"
   ]
  },
  {
   "cell_type": "code",
   "execution_count": null,
   "metadata": {},
   "outputs": [],
   "source": [
    "## CUSTOM TILES\n",
    "# Documentation: https://python-visualization.github.io/folium/latest/user_guide/raster_layers/tiles.html\n",
    "# Extra tilesets: https://leaflet-extras.github.io/leaflet-providers/preview/m\n",
    "\n",
    "attr = ('Map data: &copy; <a href=\"https://www.openstreetmap.org/copyright\">OpenStreetMap</a> contributors, <a href=\"http://viewfinderpanoramas.org\">SRTM</a> | Map style: &copy; <a href=\"https://opentopomap.org\">OpenTopoMap</a> (<a href=\"https://creativecommons.org/licenses/by-sa/3.0/\">CC-BY-SA</a>)')\n",
    "\n",
    "tiles = 'https://{s}.tile.opentopomap.org/{z}/{x}/{y}.png'\n",
    "\n",
    "m = folium.Map(location=[43.38, -8.42],zoom_start=8, width=800, height=600, attr=attr, tiles=tiles )\n",
    "m"
   ]
  },
  {
   "cell_type": "code",
   "execution_count": null,
   "metadata": {},
   "outputs": [],
   "source": [
    "# We can add different 'map tiles' to our map and display a button that allows us to switch between them.\n",
    "\n",
    "m = folium.Map(location=[43.38, -8.42],zoom_start=15, width=800, height=600)\n",
    "folium.TileLayer('CartoDB Positron').add_to(m)\n",
    "folium.LayerControl().add_to(m)\n",
    "m"
   ]
  },
  {
   "cell_type": "markdown",
   "metadata": {},
   "source": [
    "**Markers**\n",
    "\n",
    "Markers allow to add points of interest on a map"
   ]
  },
  {
   "cell_type": "code",
   "execution_count": null,
   "metadata": {},
   "outputs": [],
   "source": [
    "m = folium.Map(location=[43.38, -8.42],zoom_start=14, width=800, height=600)\n",
    "\n",
    "folium.Marker([43.38594, -8.40653]).add_to(m)\n",
    "m"
   ]
  },
  {
   "cell_type": "code",
   "execution_count": null,
   "metadata": {},
   "outputs": [],
   "source": [
    "# Markers are added one by one\n",
    "\n",
    "m = folium.Map(location=[43.38, -8.42],zoom_start=14, width=800, height=600)\n",
    "\n",
    "folium.Marker([43.38594, -8.40653]).add_to(m)\n",
    "folium.Marker([43.37245, -8.44646]).add_to(m)\n",
    "folium.Marker([43.36209, -8.41247]).add_to(m)\n",
    "\n",
    "m"
   ]
  },
  {
   "cell_type": "code",
   "execution_count": null,
   "metadata": {},
   "outputs": [],
   "source": [
    "# We can add information to Markers\n",
    "# Info can be viewed in pop-ups, mouse-overs, different icons ...\n",
    "# https://www.w3schools.com/icons/bootstrap_icons_glyphicons.asp\n",
    "\n",
    "m = folium.Map(location=[43.38, -8.42],zoom_start=14, width=800, height=600)\n",
    "\n",
    "folium.Marker([43.38594, -8.40653], popup='Torre de Hércules').add_to(m)\n",
    "folium.Marker([43.37245, -8.44646], popup='Portiño', icon=folium.Icon(icon='info-sign')).add_to(m)\n",
    "folium.Marker([43.36209, -8.41247], popup='Casa das ciencias', icon=folium.Icon(icon='envelope',color='green')).add_to(m)\n",
    "\n",
    "m"
   ]
  },
  {
   "cell_type": "code",
   "execution_count": null,
   "metadata": {},
   "outputs": [],
   "source": [
    "# Folium allows you to save maps by exporting them to an html file: interactive maps! wow!!!\n",
    "m.save('mapita.html')"
   ]
  }
 ],
 "metadata": {
  "kernelspec": {
   "display_name": "Python 3",
   "language": "python",
   "name": "python3"
  },
  "language_info": {
   "codemirror_mode": {
    "name": "ipython",
    "version": 3
   },
   "file_extension": ".py",
   "mimetype": "text/x-python",
   "name": "python",
   "nbconvert_exporter": "python",
   "pygments_lexer": "ipython3",
   "version": "3.7.15"
  },
  "orig_nbformat": 4,
  "vscode": {
   "interpreter": {
    "hash": "916dbcbb3f70747c44a77c7bcd40155683ae19c65e1c03b4aa3499c5328201f1"
   }
  }
 },
 "nbformat": 4,
 "nbformat_minor": 2
}
