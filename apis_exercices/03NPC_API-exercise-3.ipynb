{
 "cells": [
  {
   "cell_type": "markdown",
   "id": "78d109a8",
   "metadata": {},
   "source": [
    "# APIs. Exercise 3"
   ]
  },
  {
   "cell_type": "markdown",
   "id": "22a59c4e",
   "metadata": {},
   "source": [
    "### Geocoding and weather forecasting\n",
    "Geocoding: https://openweathermap.org/api/geocoding-api\n",
    "\n",
    "La api es de martin => 02d596d844f0c8ca0063f7988e1dece7\n",
    "\n",
    "Forecasting: http://api.openweathermap.org/data/2.5/forecast\n"
   ]
  },
  {
   "cell_type": "code",
   "execution_count": 2,
   "id": "f87aea7b",
   "metadata": {},
   "outputs": [],
   "source": [
    "import requests"
   ]
  },
  {
   "cell_type": "code",
   "execution_count": 9,
   "id": "bcb1b212",
   "metadata": {},
   "outputs": [],
   "source": [
    "# Use the two APIs from openweathermap.org to query the forecast for a place you like\n",
    "# 1. Use geocoding-api to get coordinates from the name of a place\n",
    "\n",
    "url = \"http://api.openweathermap.org/geo/1.0/direct\"\n",
    "api_key = \"02d596d844f0c8ca0063f7988e1dece7\"\n",
    "response = requests.get(url, params = {\"q\":\"Paris\", \"appid\": api_key})\n",
    "response.json()\n",
    "\n",
    "lat = response.json()[0][\"lat\"]\n",
    "lon = response.json()[0][\"lon\"]\n",
    "\n",
    "lat, lon"
   ]
  },
  {
   "cell_type": "code",
   "execution_count": null,
   "id": "0dbc582e",
   "metadata": {},
   "outputs": [],
   "source": [
    "# 2. Use forecast api to get the prediction to the given coordinates\n",
    "url_forecast = \"http://api.openweathermap.org/data/2.5/forecast\"\n",
    "response = requests.get(url_forecast, params= {\"lat\": lat, \"lon\": lon,\"appid\" : api_key})\n",
    "response.json()\n"
   ]
  },
  {
   "cell_type": "markdown",
   "id": "5534ea2f",
   "metadata": {},
   "source": [
    "## Cryptocurrencies\n",
    "\n",
    "**Help**: Use some free api, for example:\n",
    "- https://www.coinapi.io/\n",
    "- https://min-api.cryptocompare.com/ => ac0dc6c37364b9d66db2c48bf4407f76ded4811971b434e22953f9ca8bd14946\n",
    "- ..."
   ]
  },
  {
   "cell_type": "code",
   "execution_count": null,
   "id": "90c2bea6-592c-457d-9569-6955ba45bef4",
   "metadata": {},
   "outputs": [],
   "source": [
    "# Speculation with cryptocurrencies\n",
    "# Use an API to calculate how many euros you can get from the two bitcoins you found cleaning the sofa"
   ]
  },
  {
   "cell_type": "code",
   "execution_count": 30,
   "id": "a162f217-01fe-46e4-8b74-5f307aa8a611",
   "metadata": {},
   "outputs": [
    {
     "data": {
      "text/plain": [
       "79030.12"
      ]
     },
     "execution_count": 30,
     "metadata": {},
     "output_type": "execute_result"
    }
   ],
   "source": [
    "url = \"https://min-api.cryptocompare.com/data/price\"\n",
    "api = \"ac0dc6c37364b9d66db2c48bf4407f76ded4811971b434e22953f9ca8bd14946\"\n",
    "\n",
    "response = requests.get(url, params= {\"fsym\" : \"BTC\", \"tsyms\": \"EUR\", \"api_key\": api})\n",
    "response.json()\n",
    "\n",
    "eur = response.json()[\"EUR\"]\n",
    "\n",
    "# lo multiplicamos\n",
    "2*eur"
   ]
  },
  {
   "cell_type": "code",
   "execution_count": null,
   "id": "327cf95f-b17d-425c-ab3f-b50279e7127d",
   "metadata": {},
   "outputs": [],
   "source": [
    "# You can continue speculating\n",
    "# Withdraw 20.000€ and invest the rest in Ethereum\n",
    "# How many ethereum cryptocurrencies can you get?"
   ]
  },
  {
   "cell_type": "code",
   "execution_count": null,
   "id": "96444b46",
   "metadata": {},
   "outputs": [],
   "source": []
  }
 ],
 "metadata": {
  "kernelspec": {
   "display_name": "Python 3 (ipykernel)",
   "language": "python",
   "name": "python3"
  },
  "language_info": {
   "codemirror_mode": {
    "name": "ipython",
    "version": 3
   },
   "file_extension": ".py",
   "mimetype": "text/x-python",
   "name": "python",
   "nbconvert_exporter": "python",
   "pygments_lexer": "ipython3",
   "version": "3.12.0"
  }
 },
 "nbformat": 4,
 "nbformat_minor": 5
}
