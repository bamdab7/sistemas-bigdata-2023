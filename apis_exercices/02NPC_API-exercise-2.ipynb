{
 "cells": [
  {
   "cell_type": "markdown",
   "metadata": {},
   "source": [
    "# APIs. Exercise 2\n",
    "## Meteogalicia API"
   ]
  },
  {
   "cell_type": "code",
   "execution_count": 1,
   "id": "a4a78c8f-6cdb-4fcd-89f5-729135106c5e",
   "metadata": {},
   "outputs": [],
   "source": [
    "# METEOGALICIA\n",
    "import requests\n",
    "# Look for the documentation for the meteorological forecast by counties in the short term (\"Predición por concellos\")\n",
    "# In the main page go to RSS, GeoRSS and JSON-> https://www.meteogalicia.gal/web/rss-georss-json \n",
    "# Copy the PDF file url\n",
    "# LINK HERE: https://meteo-estaticos.xunta.gal/datosred/infoweb/meteo/docs/rss/JSON_Pred_Concello_gl.pdf"
   ]
  },
  {
   "cell_type": "code",
   "execution_count": null,
   "id": "4984891c-7fb2-4734-b688-40aa5734e84c",
   "metadata": {},
   "outputs": [],
   "source": [
    "# Each API has its specific documentation, sometimes in web format, sometimes PDF, ... \n",
    "# Take a look at the documentation offered by Meteogalicia for the short term forecasting by municipality\n",
    "# to understand the type of service and data offered and to be able to carry out the exercise."
   ]
  },
  {
   "cell_type": "code",
   "execution_count": null,
   "id": "583581b9-0b93-42ae-b56e-54372b957b65",
   "metadata": {},
   "outputs": [],
   "source": [
    "# Query the short term forecast for the municipality of Monfero. (15050)\n",
    "# Use the documentation to understand how the API works and what the results mean\n",
    "# It's enough to get the JSON with the prediction\n",
    "# You can try to access the different elements"
   ]
  },
  {
   "cell_type": "code",
   "execution_count": 26,
   "id": "53d53d0b",
   "metadata": {},
   "outputs": [
    {
     "data": {
      "text/plain": [
       "{'predConcello': {'idConcello': 15050,\n",
       "  'listaPredDiaConcello': [{'ceo': {'manha': 118, 'noite': 201, 'tarde': 118},\n",
       "    'dataPredicion': '2024-01-11T00:00:00',\n",
       "    'nivelAviso': 0,\n",
       "    'pchoiva': {'manha': 15, 'noite': 5, 'tarde': 55},\n",
       "    'tMax': 7,\n",
       "    'tMin': 4,\n",
       "    'tmaxFranxa': {'manha': 7, 'noite': 4, 'tarde': 7},\n",
       "    'tminFranxa': {'manha': 5, 'noite': 1, 'tarde': 4},\n",
       "    'uvMax': 1,\n",
       "    'vento': {'manha': 302, 'noite': 311, 'tarde': 302}},\n",
       "   {'ceo': {'manha': 101, 'noite': 204, 'tarde': 102},\n",
       "    'dataPredicion': '2024-01-12T00:00:00',\n",
       "    'nivelAviso': 0,\n",
       "    'pchoiva': {'manha': 5, 'noite': 5, 'tarde': 5},\n",
       "    'tMax': 9,\n",
       "    'tMin': 1,\n",
       "    'tmaxFranxa': {'manha': 6, 'noite': 8, 'tarde': 9},\n",
       "    'tminFranxa': {'manha': 2, 'noite': 6, 'tarde': 6},\n",
       "    'uvMax': 1,\n",
       "    'vento': {'manha': 311, 'noite': 304, 'tarde': 304}},\n",
       "   {'ceo': {'manha': 108, 'noite': 208, 'tarde': 108},\n",
       "    'dataPredicion': '2024-01-13T00:00:00',\n",
       "    'nivelAviso': 0,\n",
       "    'pchoiva': {'manha': 55, 'noite': 65, 'tarde': 55},\n",
       "    'tMax': 12,\n",
       "    'tMin': 7,\n",
       "    'tmaxFranxa': {'manha': -9999, 'noite': -9999, 'tarde': -9999},\n",
       "    'tminFranxa': {'manha': -9999, 'noite': -9999, 'tarde': -9999},\n",
       "    'uvMax': 1,\n",
       "    'vento': {'manha': 312, 'noite': 304, 'tarde': 313}},\n",
       "   {'ceo': {'manha': 108, 'noite': 218, 'tarde': 118},\n",
       "    'dataPredicion': '2024-01-14T00:00:00',\n",
       "    'nivelAviso': None,\n",
       "    'pchoiva': {'manha': 75, 'noite': 90, 'tarde': 70},\n",
       "    'tMax': 14,\n",
       "    'tMin': 11,\n",
       "    'tmaxFranxa': {'manha': -9999, 'noite': -9999, 'tarde': -9999},\n",
       "    'tminFranxa': {'manha': -9999, 'noite': -9999, 'tarde': -9999},\n",
       "    'uvMax': 1,\n",
       "    'vento': {'manha': 305, 'noite': 306, 'tarde': 306}}],\n",
       "  'nome': 'Monfero'}}"
      ]
     },
     "execution_count": 26,
     "metadata": {},
     "output_type": "execute_result"
    }
   ],
   "source": [
    "url = \" https://servizos.meteogalicia.gal/mgrss/predicion/jsonPredConcellos.action\"\n",
    "response = requests.get(url,params = {\"idConc\" : 15050})\n",
    "response.json()\n",
    "#response.json()[\"predConcello\"]"
   ]
  },
  {
   "cell_type": "code",
   "execution_count": 55,
   "id": "b9d98ad8",
   "metadata": {},
   "outputs": [
    {
     "name": "stdout",
     "output_type": "stream",
     "text": [
      "Temperatura maxima de mañá: 11 e temperatura minima de mañá: 1\n"
     ]
    }
   ],
   "source": [
    "# Check the maximum and minimum temperatures forecast in the short term for the municipality of Paderne.\n",
    "# In concrete, for the day after the current one (for tomorrow)\n",
    "response = requests.get(url,params = {\"idConc\" : 15064})\n",
    "tMax = response.json()[\"predConcello\"][\"listaPredDiaConcello\"][1][\"tMax\"]\n",
    "tMin = response.json()[\"predConcello\"][\"listaPredDiaConcello\"][1][\"tMin\"]\n",
    "\n",
    "print(f\"Temperatura maxima de mañá: {tMax} e temperatura minima de mañá: {tMin}\")\n"
   ]
  },
  {
   "cell_type": "code",
   "execution_count": null,
   "id": "d6bb683a-95ab-4dbc-a7ce-6504a7ac5b2e",
   "metadata": {},
   "outputs": [],
   "source": []
  },
  {
   "cell_type": "code",
   "execution_count": null,
   "id": "2f2e1260-d2b9-42d0-bb91-5fc64ad37c00",
   "metadata": {},
   "outputs": [],
   "source": [
    "# Meteogalicia also offers information about the beaches through its API.\n",
    "# https://www.meteogalicia.gal/datosred/infoweb/meteo/docs/rss/JSON_Pred_Praia_gl.pdf"
   ]
  },
  {
   "cell_type": "code",
   "execution_count": 12,
   "id": "46c52797-4aaa-49d2-8555-2245597c2a3d",
   "metadata": {},
   "outputs": [
    {
     "name": "stdout",
     "output_type": "stream",
     "text": [
      "La temperatura de riazor es de: 12 y la de as Catedrais es: 14\n"
     ]
    }
   ],
   "source": [
    "# Check the prediction for the temperature of the water in Riazor beach and compare it with that of the Catedrais beach.\n",
    "#RIAZOR (2448) CATEDRAIS (1987)\n",
    "\n",
    "url =\"https://servizos.meteogalicia.gal/mgrss/predicion/jsonPredPraia.action?\"\n",
    "riazor = requests.get(url, params= {\"idPraia\" : 2448})\n",
    "catedrais =  requests.get(url, params= {\"idPraia\" : 1987})\n",
    "\n",
    "riazortAuga = riazor.json()[\"predPraia\"][\"listaPredDiaPraia\"][0][\"tAuga\"]\n",
    "catedraisAuga = catedrais.json()[\"predPraia\"][\"listaPredDiaPraia\"][0][\"tAuga\"]\n",
    "\n",
    "print(f\"La temperatura de Riazor es de: {riazortAuga} y la de as Catedrais es: {catedraisAuga}\")"
   ]
  },
  {
   "cell_type": "code",
   "execution_count": null,
   "id": "1ff27f02-80f3-428c-b192-2bf8948b95c1",
   "metadata": {},
   "outputs": [],
   "source": []
  },
  {
   "cell_type": "code",
   "execution_count": null,
   "id": "fdfe2aad",
   "metadata": {},
   "outputs": [],
   "source": [
    "# Research on the Meteogalicia website among the different services available.\n",
    "# Connect to one of the services and extract some information.\n",
    "# Imagine a use case for this data (it can be something simple, you don't have to think in BigData)\n",
    "# If it's something simple, you can try programming it!!! no"
   ]
  },
  {
   "cell_type": "code",
   "execution_count": null,
   "id": "902fed70",
   "metadata": {},
   "outputs": [],
   "source": []
  }
 ],
 "metadata": {
  "kernelspec": {
   "display_name": "Python 3 (ipykernel)",
   "language": "python",
   "name": "python3"
  },
  "language_info": {
   "codemirror_mode": {
    "name": "ipython",
    "version": 3
   },
   "file_extension": ".py",
   "mimetype": "text/x-python",
   "name": "python",
   "nbconvert_exporter": "python",
   "pygments_lexer": "ipython3",
   "version": "3.12.1"
  }
 },
 "nbformat": 4,
 "nbformat_minor": 5
}
