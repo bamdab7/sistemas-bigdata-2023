{
 "cells": [
  {
   "cell_type": "markdown",
   "metadata": {},
   "source": [
    "### API's. 2"
   ]
  },
  {
   "cell_type": "code",
   "execution_count": null,
   "id": "243b4d68-b9bb-40ec-8acf-fd44dbdd6a5d",
   "metadata": {},
   "outputs": [],
   "source": [
    "import requests"
   ]
  },
  {
   "cell_type": "markdown",
   "metadata": {},
   "source": [
    "To recap...\n",
    "- We connect to an ENDPOIND\n",
    "- We use GET method\n",
    "- We receive a RESPONSE\n",
    "- response has a STATUS\n",
    "- response has a CONTENT\n",
    "- response has a HEADERS"
   ]
  },
  {
   "cell_type": "code",
   "execution_count": null,
   "id": "2bd27040-1e55-432e-b9f4-8fb53f25147c",
   "metadata": {},
   "outputs": [],
   "source": [
    "# QUERY STRING PARAMETERS\n",
    "\n",
    "# Many times we have to send parameters to our GET requests.\n",
    "# We can add the data as parameters as a dictionary"
   ]
  },
  {
   "cell_type": "code",
   "execution_count": null,
   "id": "fcf06d5b-2f59-4238-a4fd-69d10bc1f71d",
   "metadata": {},
   "outputs": [],
   "source": [
    "# Example of a search API for github repositories\n",
    "url = 'https://api.github.com/search/repositories'\n",
    "response = requests.get(url)"
   ]
  },
  {
   "cell_type": "code",
   "execution_count": null,
   "id": "8258e7fc-6e8e-4f72-9e67-51ce9c6335f5",
   "metadata": {},
   "outputs": [],
   "source": [
    "response.json()"
   ]
  },
  {
   "cell_type": "code",
   "execution_count": null,
   "id": "57008a1c-2590-4776-8db7-2cdd81f5b75e",
   "metadata": {},
   "outputs": [],
   "source": [
    "# It doesn't work because it requires parameters\n",
    "# We can navigate the API documentation to see what parameters we need\n",
    "# Look at the response: https://docs.github.com/v3/search\n",
    "# Search repositories\n",
    "# https://docs.github.com/en/rest/reference/search#search-repositories\n",
    "# https://docs.github.com/en/search-github/searching-on-github/searching-for-repositories"
   ]
  },
  {
   "cell_type": "code",
   "execution_count": null,
   "id": "62d5e2af-cddb-4e03-9730-6c8cfd861dfa",
   "metadata": {},
   "outputs": [],
   "source": [
    "# We can search for repositories associated with a user name\n",
    "response = requests.get(url,\n",
    "                       params={'q': 'user:bigdatawirtz'})"
   ]
  },
  {
   "cell_type": "code",
   "execution_count": null,
   "id": "853703c1-bd3c-4763-ab17-0f33362cab74",
   "metadata": {},
   "outputs": [],
   "source": [
    "response.json()"
   ]
  },
  {
   "cell_type": "code",
   "execution_count": null,
   "id": "969a2e2a-675d-4ba9-8e98-b592401cd824",
   "metadata": {},
   "outputs": [],
   "source": [
    "# You have to identify the format of the answer to access data\n",
    "# Number of answers?\n",
    "response.json()['total_count']"
   ]
  },
  {
   "cell_type": "code",
   "execution_count": null,
   "id": "0af8f05c-ceac-4bb0-83bc-74a3e0394f2a",
   "metadata": {},
   "outputs": [],
   "source": [
    "# Access the first element\n",
    "response.json()['items'][0]"
   ]
  },
  {
   "cell_type": "code",
   "execution_count": null,
   "id": "f30f6639-a20d-4f67-994c-e26cba8815b4",
   "metadata": {},
   "outputs": [],
   "source": [
    "# Access to the first repository name\n",
    "response.json()['items'][0]['name']"
   ]
  },
  {
   "cell_type": "code",
   "execution_count": null,
   "id": "1014a038-7e3b-4576-a21d-7306b17251a4",
   "metadata": {},
   "outputs": [],
   "source": [
    "# We can add several parameters according to the documentation.\n",
    "# for example: limit the number of results\n",
    "response = requests.get(url,\n",
    "                       params={'q': 'user:bigdatawirtz','per_page':'1'})\n",
    "response.json()"
   ]
  },
  {
   "cell_type": "code",
   "execution_count": null,
   "id": "c1618181-9b9e-4969-8433-ea9e3d1edf6b",
   "metadata": {},
   "outputs": [],
   "source": [
    "# We can search for repositories that contain a word in their name\n",
    "response = requests.get(url,\n",
    "                       params={'q': 'sistemas-bigdata in:name'})\n",
    "response.json()"
   ]
  },
  {
   "cell_type": "code",
   "execution_count": null,
   "id": "9d5f56d8-44ee-4dad-86f9-694aaee70ebd",
   "metadata": {},
   "outputs": [],
   "source": [
    "# We can search for repositories that contain a word in their name\n",
    "response = requests.get(url,\n",
    "                       params={'q': 'bigdata in:name'})\n",
    "response.json()                       "
   ]
  },
  {
   "cell_type": "code",
   "execution_count": null,
   "id": "4aebf1e3-ee1d-4f2b-96d0-d13c3e1966e3",
   "metadata": {},
   "outputs": [],
   "source": [
    "# Check how many elements I get as answers\n",
    "response.json()['total_count']"
   ]
  },
  {
   "cell_type": "code",
   "execution_count": null,
   "id": "1e8f8617-4ea1-44b2-b914-a71374d59983",
   "metadata": {},
   "outputs": [],
   "source": [
    "# limit or number of results displayed\n",
    "response.json()\n",
    "response = requests.get(url,\n",
    "                       params={'q': 'bigdata in:name','per_page':5})\n",
    "response.json()"
   ]
  },
  {
   "cell_type": "code",
   "execution_count": null,
   "id": "6079c032-1b94-4ee8-809c-09a86dcebdb5",
   "metadata": {},
   "outputs": [],
   "source": [
    "# In the response there are several fields, including a list of items.\n",
    "# Access to the url of the first two repos\n",
    "repo1 = response.json()['items'][0]['html_url']\n",
    "repo1"
   ]
  },
  {
   "cell_type": "code",
   "execution_count": null,
   "id": "8f9da18f-0d4a-459c-a110-b23fe768efc2",
   "metadata": {},
   "outputs": [],
   "source": [
    "# To access the address of the second of the repos\n",
    "repo2 = response.json()['items'][1]['html_url']\n",
    "repo2"
   ]
  },
  {
   "cell_type": "code",
   "execution_count": null,
   "id": "0f464146-0840-496d-8dce-96ac42a363a7",
   "metadata": {},
   "outputs": [],
   "source": [
    "# Example with HTTPBin (in local - docker)\n",
    "# We do not pass any \"argument = args\".\n",
    "url = 'http://localhost/get'\n",
    "response = requests.get(url)\n",
    "response.json()"
   ]
  },
  {
   "cell_type": "code",
   "execution_count": null,
   "id": "8c67e639-ed26-4541-8cfe-2503b6e7b5b8",
   "metadata": {},
   "outputs": [],
   "source": [
    "# We pass a key argument: value\n",
    "# Check how the URL is constructed (try to open it with the browser)\n",
    "url = 'http://localhost/get'\n",
    "response = requests.get(url,\n",
    "                       params = {'key':'value'})\n",
    "response.json()"
   ]
  },
  {
   "cell_type": "code",
   "execution_count": null,
   "id": "c1da9b64-4f05-4117-8e13-e6027070ff26",
   "metadata": {},
   "outputs": [],
   "source": [
    "# We pass two pairs of arguments\n",
    "# Check how the URL is constructed (try to open it with the browser)\n",
    "url = 'http://localhost/get'\n",
    "response = requests.get(url,\n",
    "                       params = {'nome':'fulanito','apelido':'menganez'})\n",
    "response.json()"
   ]
  },
  {
   "cell_type": "markdown",
   "metadata": {},
   "source": [
    "**PAYLOAD**\n",
    "\n",
    "In computing and telecommunications the payload is the set of transmitted data which is actually the message sent. The payload excludes the headers or metadata, which are sent simply to facilitate the delivery of the message. The term is borrowed from freight transport, where payload refers to that part of the cargo which is used to pay for the transport."
   ]
  },
  {
   "cell_type": "code",
   "execution_count": null,
   "id": "be71e23c-d15f-4ee8-a45a-f9a846b87513",
   "metadata": {},
   "outputs": [],
   "source": [
    "## PAYLOAD\n",
    "# En informática y telecomunicaciones la carga útil1(payload en inglés) es el conjunto de datos\n",
    "# transmitidos que es en realidad el mensaje enviado. La carga útil excluye las cabeceras o metadatos,\n",
    "# que son enviados simplemente para facilitar la entrega del mensaje. El término está tomado prestado\n",
    "# del transporte de mercancías, donde carga útil se refiere a la parte de la carga que se utiliza \n",
    "# para costear el transporte. \n",
    "\n",
    "url = 'http://localhost/get'\n",
    "payload = {'nome':'fulanito','apelido':'menganez'}\n",
    "response = requests.get(url,\n",
    "                       params = payload)\n",
    "response.json()"
   ]
  },
  {
   "cell_type": "code",
   "execution_count": null,
   "id": "15d9a20b-89c6-4064-84b2-d21cac696863",
   "metadata": {},
   "outputs": [],
   "source": [
    "# In summary, some endpoints support or require the sending of parameters to provide a response."
   ]
  },
  {
   "cell_type": "code",
   "execution_count": null,
   "id": "ac7a2ee5-8e05-4caf-a656-fded219bcad4",
   "metadata": {},
   "outputs": [],
   "source": [
    "### REQUEST HEADERS\n",
    "# In addition to modifying the requests by adding parameters you can also parameterise the requests \n",
    "# through the headers or REQUEST HEADERS"
   ]
  },
  {
   "cell_type": "code",
   "execution_count": null,
   "id": "1d8d9502-b583-42fd-9e65-49a7a96342f7",
   "metadata": {},
   "outputs": [],
   "source": [
    "# Example with HTTPBin (local - docker)\n",
    "# Look at our \"default\" HEADERS\n",
    "url = 'http://localhost/get'\n",
    "response = requests.get(url)\n",
    "response.json()"
   ]
  },
  {
   "cell_type": "code",
   "execution_count": null,
   "id": "9962ac5c-96c0-4815-9203-3582245f5fbd",
   "metadata": {},
   "outputs": [],
   "source": [
    "# We can falsify the \"user-agent\", i.e., who is making the requests.\n",
    "response = requests.get(url,\n",
    "                     headers={'User-Agent' : 'Mozilla/5.0 (Windows NT 10.0;Win64;x64) AppleWebKit/537.36 (KHTML, like Gecko) Chrome/74.0.3729.169 Safari/537.36'})\n",
    "response.json()"
   ]
  },
  {
   "cell_type": "code",
   "execution_count": null,
   "id": "80adcf5d-353f-40d0-93e1-84468c270b19",
   "metadata": {},
   "outputs": [],
   "source": [
    "# We can falsify the \"user-agent\", i.e. who is making the requests (we can actually add anything).\n",
    "response = requests.get(url,\n",
    "                     headers={'User-Agent' : 'Macanudo Browser 5.1'})\n",
    "response.json()"
   ]
  },
  {
   "cell_type": "code",
   "execution_count": null,
   "id": "29da7977-1ee8-432a-8597-e42158cf917b",
   "metadata": {},
   "outputs": [],
   "source": [
    "# Some applications require us to indicate which formats we accept in our responses.\n",
    "# It is common to indicate: application/json\n",
    "response = requests.get(url,\n",
    "                     headers={'User-Agent' : 'Macanudo Browser 5.1','Accept':'application/json'})\n",
    "response.json()"
   ]
  },
  {
   "cell_type": "code",
   "execution_count": null,
   "id": "88d1b7bb-8a19-42d1-a1be-b4b0fafc8991",
   "metadata": {},
   "outputs": [],
   "source": [
    "# Show the same request through the browser by navigating to api\n",
    "# http://localhost/get <- different user-agent"
   ]
  },
  {
   "cell_type": "code",
   "execution_count": null,
   "id": "a72657be-eef3-4b2e-9ddf-f22f1adb22c4",
   "metadata": {},
   "outputs": [],
   "source": [
    "# Show the same request through CURL\n",
    "# curl -X GET \"http://localhost/get\" -H \"accept: application/json\"\n",
    "# On Windows, download CURL\n",
    "# https://curl.se/windows/\n",
    "\n",
    "# curl -X == --request <command> -> curl -X GET (for example) or curl -X PUT\n",
    "# -H \"accept: application/json\" <- pass in headers do request\n",
    "# Indicates the type of response we will accept"
   ]
  }
 ],
 "metadata": {
  "kernelspec": {
   "display_name": "sistemasbd",
   "language": "python",
   "name": "python3"
  },
  "language_info": {
   "codemirror_mode": {
    "name": "ipython",
    "version": 3
   },
   "file_extension": ".py",
   "mimetype": "text/x-python",
   "name": "python",
   "nbconvert_exporter": "python",
   "pygments_lexer": "ipython3",
   "version": "3.7.15"
  },
  "vscode": {
   "interpreter": {
    "hash": "bffa40b28f725fac3890ccdeb0d1aa92d4cd0fd5206d12c21a7df4c37fb25947"
   }
  }
 },
 "nbformat": 4,
 "nbformat_minor": 5
}
