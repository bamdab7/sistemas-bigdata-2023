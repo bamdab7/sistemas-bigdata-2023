{
 "cells": [
  {
   "cell_type": "markdown",
   "metadata": {},
   "source": [
    "# APIs. Exercise 1"
   ]
  },
  {
   "cell_type": "code",
   "execution_count": null,
   "id": "5b298500-6912-4bfb-a72f-602d5379fba6",
   "metadata": {},
   "outputs": [],
   "source": [
    "# Import the library to work with APIs"
   ]
  },
  {
   "cell_type": "markdown",
   "metadata": {},
   "source": [
    "### Sample APIs\n",
    "\n",
    "https://sampleapis.com/\n",
    "\n",
    "A simple, no fuss, no mess, no auth playground for learning RESTful or GraphQL APIs."
   ]
  },
  {
   "cell_type": "code",
   "execution_count": null,
   "id": "71e58e58-2738-4659-994d-d6bec6c3f227",
   "metadata": {},
   "outputs": [],
   "source": [
    "# Configure the endpoint\n",
    "# Page with sample APIs: https://sampleapis.com/\n",
    "# Use the endpoint url for hot coffees\n"
   ]
  },
  {
   "cell_type": "code",
   "execution_count": null,
   "id": "6c50dc1d-2766-49e1-86bb-f07a968a1656",
   "metadata": {},
   "outputs": [],
   "source": [
    "# Make a first request to the endpoint\n"
   ]
  },
  {
   "cell_type": "code",
   "execution_count": null,
   "id": "2c355b0c-1171-4dce-b106-7a24e4310a98",
   "metadata": {},
   "outputs": [],
   "source": [
    "# Check the status of the response\n"
   ]
  },
  {
   "cell_type": "code",
   "execution_count": null,
   "id": "713707fb-2e4f-4653-9f99-76a4867e8f7b",
   "metadata": {},
   "outputs": [],
   "source": [
    "# Modify the endpoint and consult the status of the response after a request (force some failure)\n"
   ]
  },
  {
   "cell_type": "code",
   "execution_count": null,
   "id": "8636f3ee-cab8-496d-ab4b-c166fca6867a",
   "metadata": {},
   "outputs": [],
   "source": [
    "# Check the correct endpoint again and check the raw content of the API response.\n"
   ]
  },
  {
   "cell_type": "code",
   "execution_count": null,
   "id": "8cd47564-8d1b-48c1-879b-cf0110e0531e",
   "metadata": {},
   "outputs": [],
   "source": [
    "# Visualize the content of the list in JSON format\n"
   ]
  },
  {
   "cell_type": "code",
   "execution_count": null,
   "id": "dcdb7a34-b820-41b3-aafe-76ebbd47b62b",
   "metadata": {},
   "outputs": [],
   "source": [
    "# Check the type of response\n"
   ]
  },
  {
   "cell_type": "code",
   "execution_count": null,
   "id": "196dd16c-18da-4107-97be-6d1f7dad3156",
   "metadata": {},
   "outputs": [],
   "source": [
    "# Access the first item on the list\n"
   ]
  },
  {
   "cell_type": "code",
   "execution_count": null,
   "id": "41ae6448-e57e-48b0-8b89-df6da577a477",
   "metadata": {},
   "outputs": [],
   "source": [
    "# Check the type of the first item in the list\n"
   ]
  },
  {
   "cell_type": "code",
   "execution_count": null,
   "id": "328b2e18-eea6-4428-bd48-b4dc61feda20",
   "metadata": {},
   "outputs": [],
   "source": [
    "# Consult the \"title\" of the first element returned by the endpoint\n"
   ]
  },
  {
   "cell_type": "code",
   "execution_count": null,
   "id": "a7b1d8e6-7e3e-4ec7-9204-d7ea9f1f0d9c",
   "metadata": {},
   "outputs": [],
   "source": [
    "# Query the \"title\" of the penultimate element returned by the endpoint"
   ]
  },
  {
   "cell_type": "code",
   "execution_count": null,
   "id": "69026c49-17fa-4056-a44f-68ff6b415a06",
   "metadata": {},
   "outputs": [],
   "source": [
    "# Change the endpoint and point to movies\n",
    "# https://sampleapis.com/api-list/movies\n",
    "# Choose the animation movies\n",
    "# Shows the result of the query\n"
   ]
  },
  {
   "cell_type": "code",
   "execution_count": null,
   "id": "1d1bf40a-f619-425c-906d-634cc3728daf",
   "metadata": {},
   "outputs": [],
   "source": [
    "# Count or number of animated films\n"
   ]
  },
  {
   "cell_type": "code",
   "execution_count": null,
   "id": "dd6fa827-4f59-497d-ac06-ab70c6a23692",
   "metadata": {},
   "outputs": [],
   "source": [
    "# Check the type of server behind the API (consult the headers)\n"
   ]
  },
  {
   "cell_type": "code",
   "execution_count": null,
   "id": "72077c6c-0337-49eb-b3bf-e7c4e7124156",
   "metadata": {},
   "outputs": [],
   "source": [
    "# Check if it is the same server used for the coffee API."
   ]
  },
  {
   "cell_type": "code",
   "execution_count": null,
   "id": "c2781912-fea4-4ea2-aae1-395dd614b076",
   "metadata": {},
   "outputs": [],
   "source": [
    "# Consult the following header information: Content-Type\n"
   ]
  },
  {
   "cell_type": "markdown",
   "id": "de908d8d-f6ec-4c85-924c-00f7bbfabaf5",
   "metadata": {},
   "source": [
    "### Extra"
   ]
  },
  {
   "cell_type": "code",
   "execution_count": null,
   "id": "009c1c23-3769-467d-a848-059ce9b660df",
   "metadata": {},
   "outputs": [],
   "source": [
    "# Show the data of the first film"
   ]
  },
  {
   "cell_type": "code",
   "execution_count": null,
   "id": "93148307-5955-4d18-9cb9-bc774ef93c73",
   "metadata": {},
   "outputs": [],
   "source": [
    "# Save the url of the image in a variable\n",
    "imaxeURL = ..."
   ]
  },
  {
   "cell_type": "code",
   "execution_count": null,
   "id": "68270a98-4933-4b77-ab0d-09eda9da24f1",
   "metadata": {},
   "outputs": [],
   "source": [
    "# Show the image\n",
    "from IPython import display\n",
    "display.Image(imaxeURL)"
   ]
  }
 ],
 "metadata": {
  "kernelspec": {
   "display_name": "Python 3",
   "language": "python",
   "name": "python3"
  },
  "language_info": {
   "codemirror_mode": {
    "name": "ipython",
    "version": 3
   },
   "file_extension": ".py",
   "mimetype": "text/x-python",
   "name": "python",
   "nbconvert_exporter": "python",
   "pygments_lexer": "ipython3",
   "version": "3.8.10 (default, Nov 14 2022, 12:59:47) \n[GCC 9.4.0]"
  },
  "vscode": {
   "interpreter": {
    "hash": "916dbcbb3f70747c44a77c7bcd40155683ae19c65e1c03b4aa3499c5328201f1"
   }
  }
 },
 "nbformat": 4,
 "nbformat_minor": 5
}
