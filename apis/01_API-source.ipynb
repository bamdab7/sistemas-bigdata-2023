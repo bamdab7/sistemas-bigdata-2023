{
 "cells": [
  {
   "cell_type": "markdown",
   "id": "0765d326-8bbd-4848-9bbc-cbade94387a6",
   "metadata": {},
   "source": [
    "### API's. 1"
   ]
  },
  {
   "cell_type": "markdown",
   "metadata": {},
   "source": [
    "APIs are used to access data, services or facilitate communication between programs.\n",
    "\n",
    "They are very useful in some of the following cases:\n",
    "* Data that changes very quickly. For example: weather data or stock market data.\n",
    "* We need only smaller sets of the data set. For example: tweets from a single account.\n",
    "* Consumption of a specialised service. For example, xeocoding\n",
    "\n",
    "APIs return results in formats such as XML and especially **JSON**.\n",
    "\n",
    "Examples of JSON vs XML https://www.json.org/example.html"
   ]
  },
  {
   "attachments": {},
   "cell_type": "markdown",
   "id": "56005280",
   "metadata": {},
   "source": [
    "What is a API and specifically a Rest API?\n",
    "\n",
    "https://dossetenta.com/que-es-una-api-rest/\n",
    "\n",
    "https://www.ibm.com/es-es/cloud/learn/rest-apis"
   ]
  },
  {
   "attachments": {},
   "cell_type": "markdown",
   "id": "4f9397d8",
   "metadata": {},
   "source": [
    "![imaxe-API-REST](img/imaxe_api_rest.png)"
   ]
  },
  {
   "cell_type": "code",
   "execution_count": null,
   "id": "5b298500-6912-4bfb-a72f-602d5379fba6",
   "metadata": {},
   "outputs": [],
   "source": [
    "# Requests library\n",
    "# The requests library is the main Python library for working with APIs.\n",
    "import requests"
   ]
  },
  {
   "cell_type": "markdown",
   "metadata": {},
   "source": [
    "We will use different APIs to practice with the **request** library.\n",
    "\n",
    "APIs should be documented to help us understand how to work with them.\n",
    "\n",
    "They generally follow the **REST standards**\n",
    "\n",
    "\n",
    "\n",
    "To work with APIs it is essential to know their url. We speak of **endpoint** as the point at which we communicate with the API"
   ]
  },
  {
   "cell_type": "code",
   "execution_count": null,
   "id": "71e58e58-2738-4659-994d-d6bec6c3f227",
   "metadata": {},
   "outputs": [],
   "source": [
    "# GitHub provides an API to access its data\n",
    "# GitHub REST API\n",
    "# Documentation: https://docs.github.com/en/rest#root-endpoint\n",
    "# List of endpoints: https://docs.github.com/en/rest/overview/endpoints-available-for-github-apps\n",
    "\n",
    "endpoint = 'https://api.github.com'"
   ]
  },
  {
   "cell_type": "code",
   "execution_count": null,
   "id": "6c50dc1d-2766-49e1-86bb-f07a968a1656",
   "metadata": {},
   "outputs": [],
   "source": [
    "# We can execute different methods against an API: GET, POST, DELETE.... \n",
    "# Let's focus on the use of GET to obtain data from the API.\n",
    "\n",
    "requests.get(endpoint)"
   ]
  },
  {
   "cell_type": "markdown",
   "metadata": {},
   "source": [
    "### Response\n",
    "\n",
    "The execution of a GET request can return different values.\n",
    "\n",
    "The _status code_ tells us if the request was successful and, in case of error, gives us information about its causes.\n",
    "Some codes are:\n",
    "* 200: success\n",
    "* 300: redirection\n",
    "* 400: incorrect request\n",
    "* 401: authentication error\n",
    "* 403: no permissions or incorrect credentials\n",
    "* 404: resource does not exist\n",
    "* 500: server gave error\n",
    "\n",
    "Complete list of codes: [here](https://en.wikipedia.org/wiki/List_of_HTTP_status_codes)\n",
    "\n",
    "You might like these list better: [http.dogs](https://http.dog/) or [httpstatusdogs](https://httpstatusdogs.com/)"
   ]
  },
  {
   "cell_type": "code",
   "execution_count": null,
   "id": "57e5ca40-acd5-4226-9d0d-3ba17ef1c379",
   "metadata": {},
   "outputs": [],
   "source": [
    "# Query the status code\n",
    "response = requests.get(endpoint)\n",
    "response.status_code"
   ]
  },
  {
   "cell_type": "code",
   "execution_count": null,
   "id": "db3c1dad-6ae3-4238-85c2-1b3d5ff8b4ca",
   "metadata": {},
   "outputs": [],
   "source": [
    "# Control the API response\n",
    "if response.status_code == 200:\n",
    "    print('Funciona!')\n",
    "else:\n",
    "    print('Non funciona')    "
   ]
  },
  {
   "cell_type": "code",
   "execution_count": null,
   "id": "0289a17f-2abb-4809-a07f-77d16b421be6",
   "metadata": {},
   "outputs": [],
   "source": [
    "# Force an error situation\n",
    "# Beware, it may be necessary to use exceptions\n",
    "\n",
    "url_invalida = 'https://api.github.com/2'\n",
    "\n",
    "response = requests.get(url_invalida)\n",
    "\n",
    "if response.status_code == 200:\n",
    "    print('Funciona!')\n",
    "else:\n",
    "    print('Non funciona')  "
   ]
  },
  {
   "cell_type": "code",
   "execution_count": null,
   "id": "60cac7c7-896f-472c-8992-b85f82f233ed",
   "metadata": {},
   "outputs": [],
   "source": [
    "# http://http.dog\n",
    "response.status_code"
   ]
  },
  {
   "cell_type": "code",
   "execution_count": null,
   "id": "c31d8e0d-0b50-43d8-838d-439867419913",
   "metadata": {},
   "outputs": [],
   "source": [
    "# The interesting thing about APIS is not so much the state of the response, but the content that is returned.\n",
    "# Everything is stored in \"response\" or in the variable to which we assign the result.\n",
    "\n",
    "endpoint = 'https://api.github.com'\n",
    "response = requests.get(endpoint)\n",
    "response.content"
   ]
  },
  {
   "cell_type": "code",
   "execution_count": null,
   "id": "13aff9ff-7720-4596-8b7a-8eaf24e2a303",
   "metadata": {},
   "outputs": [],
   "source": [
    "# .content returns the result as a flow of bytes (note the b' at the beginning)\n",
    "# Podes mostrar o resultado como un texto\n",
    "response.text"
   ]
  },
  {
   "cell_type": "code",
   "execution_count": null,
   "id": "2df44f36-4dac-4a7e-8e19-46301b381fc0",
   "metadata": {},
   "outputs": [],
   "source": [
    "# .text may not help much either.\n",
    "# As you can see, this is a JSON object, so a good idea would be to interpret it as JSON object\n",
    "response.json()"
   ]
  },
  {
   "cell_type": "code",
   "execution_count": null,
   "id": "1c4e253a-2c77-4283-887b-c9a2f6f4194b",
   "metadata": {},
   "outputs": [],
   "source": [
    "# The type of the answer is a python dictionary, so the data can be accessed as such.\n",
    "type(response.json())"
   ]
  },
  {
   "cell_type": "code",
   "execution_count": null,
   "id": "44b27bf9-59c5-49df-8a56-7a9eb555d88f",
   "metadata": {},
   "outputs": [],
   "source": [
    "# You can access any value through its name\n",
    "response_dict = response.json()\n",
    "response_dict['current_user_url']"
   ]
  },
  {
   "cell_type": "code",
   "execution_count": null,
   "id": "d87fb585-59ee-4bf4-bec0-288ba64f613f",
   "metadata": {},
   "outputs": [],
   "source": [
    "response_dict['keys_url']"
   ]
  },
  {
   "cell_type": "code",
   "execution_count": null,
   "id": "f80b3161-abf9-471c-b171-dd0687aee6f2",
   "metadata": {},
   "outputs": [],
   "source": [
    "# You can access the data directly from the response variable\n",
    "response.json()['emails_url']"
   ]
  },
  {
   "cell_type": "markdown",
   "metadata": {},
   "source": [
    "### Httpbin. Another API sample\n",
    "\n",
    "A simple HTTP Request & Response Service. \n",
    "\n",
    "[https://httpbin.org](https://httpbin.org)"
   ]
  },
  {
   "cell_type": "code",
   "execution_count": null,
   "id": "85546b80-544d-41bc-85c4-84c0f0a6d8d9",
   "metadata": {},
   "outputs": [],
   "source": [
    "# Probas con outra API diferente\n",
    "# Revisa a páxina web para ver os endpoints\n",
    "endpoint = 'https://httpbin.org/get'"
   ]
  },
  {
   "cell_type": "code",
   "execution_count": null,
   "id": "17b6dbe9-ce1e-436b-806e-03d7166c03d1",
   "metadata": {},
   "outputs": [],
   "source": [
    "response = requests.get(endpoint)\n",
    "response.json()"
   ]
  },
  {
   "cell_type": "code",
   "execution_count": null,
   "id": "1932df1d-ab76-4801-84bb-2df2847188c8",
   "metadata": {},
   "outputs": [],
   "source": [
    "# HTTPBIN pode instalarse en local grazas a docker\n",
    "endpoint = 'http://localhost/get'\n",
    "response = requests.get(endpoint)\n",
    "response.json()"
   ]
  },
  {
   "cell_type": "code",
   "execution_count": null,
   "id": "241e0138-b844-4ec3-9b30-3ee5f712b07f",
   "metadata": {},
   "outputs": [],
   "source": [
    "# The headers are a part of the request or response of an API.\n",
    "# They can provide us with interesting information\n",
    "response.headers"
   ]
  },
  {
   "cell_type": "code",
   "execution_count": null,
   "id": "fe605560-383e-476e-aef1-7e3b429b0d47",
   "metadata": {},
   "outputs": [],
   "source": [
    "# Verifying some information on content\n",
    "len(response.text)"
   ]
  },
  {
   "cell_type": "code",
   "execution_count": null,
   "id": "49c7c7d3-a8ac-45af-a64c-ad54f3ff8c7c",
   "metadata": {},
   "outputs": [],
   "source": [
    "type(response.headers)"
   ]
  },
  {
   "cell_type": "code",
   "execution_count": null,
   "id": "7d29608a-4ac8-4d19-9312-579402bb009a",
   "metadata": {},
   "outputs": [],
   "source": [
    "# We can access to the data in headers as we access a dictionary.\n",
    "response.headers['Server']"
   ]
  },
  {
   "cell_type": "code",
   "execution_count": null,
   "id": "6bf375e9-fad4-4359-9779-fbbb54d83f4f",
   "metadata": {},
   "outputs": [],
   "source": [
    "endpoint = 'https://httpbin.org/get'\n",
    "response = requests.get(endpoint)\n",
    "response.headers"
   ]
  },
  {
   "cell_type": "code",
   "execution_count": null,
   "id": "6dd0eb55-7e12-4020-9b41-bca3a38f33c3",
   "metadata": {},
   "outputs": [],
   "source": [
    "# We can access to the data in headers as we access a dictionary.\n",
    "response.headers['Server']"
   ]
  },
  {
   "cell_type": "code",
   "execution_count": null,
   "id": "086000b1-d3ed-41b0-989c-9b950d4e3eb2",
   "metadata": {},
   "outputs": [],
   "source": [
    "response.headers['content-type']"
   ]
  },
  {
   "cell_type": "code",
   "execution_count": null,
   "id": "062b0bcf-c75a-40e2-8ca5-e30cfae33612",
   "metadata": {},
   "outputs": [],
   "source": [
    "endpoint = 'https://api.github.com'\n",
    "response = requests.get(endpoint)\n",
    "response.headers"
   ]
  },
  {
   "cell_type": "code",
   "execution_count": null,
   "id": "3fc7788b-8223-41ac-b49c-07ad2dc8a812",
   "metadata": {},
   "outputs": [],
   "source": [
    "# We can access to the data in headers as we access a dictionary.\n",
    "response.headers['Server']"
   ]
  },
  {
   "cell_type": "code",
   "execution_count": null,
   "id": "2f6008a6-6b44-45af-839d-9450f88e5f74",
   "metadata": {},
   "outputs": [],
   "source": [
    "response.headers['content-type']"
   ]
  },
  {
   "cell_type": "markdown",
   "metadata": {},
   "source": [
    "To recap...\n",
    "- We connect to an ENDPOIND\n",
    "- We use GET method\n",
    "- We receive a RESPONSE\n",
    "- response has a STATUS\n",
    "- response has a CONTENT\n",
    "- response has a HEADERS"
   ]
  },
  {
   "cell_type": "markdown",
   "metadata": {},
   "source": []
  }
 ],
 "metadata": {
  "kernelspec": {
   "display_name": "sistemasbd",
   "language": "python",
   "name": "python3"
  },
  "language_info": {
   "codemirror_mode": {
    "name": "ipython",
    "version": 3
   },
   "file_extension": ".py",
   "mimetype": "text/x-python",
   "name": "python",
   "nbconvert_exporter": "python",
   "pygments_lexer": "ipython3",
   "version": "3.7.15"
  },
  "vscode": {
   "interpreter": {
    "hash": "bffa40b28f725fac3890ccdeb0d1aa92d4cd0fd5206d12c21a7df4c37fb25947"
   }
  }
 },
 "nbformat": 4,
 "nbformat_minor": 5
}
