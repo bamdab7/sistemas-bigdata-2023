{
 "cells": [
  {
   "cell_type": "markdown",
   "id": "fe37580d",
   "metadata": {},
   "source": [
    "# APIs. Exercise 5. TMDB"
   ]
  },
  {
   "cell_type": "markdown",
   "id": "68c585f5",
   "metadata": {},
   "source": [
    "## API: The Movie DataBase (TMDB)\n",
    "https://www.themoviedb.org/about\n",
    "\n",
    "TMDB (The Movie Database) is a film and TV database created by the community.\n",
    "\n",
    "**API documentation**\n",
    "\n",
    "https://developers.themoviedb.org/3/getting-started/introduction\n",
    "\n",
    "sample: https://api.themoviedb.org/3/movie/76341?api_key=<<api_key>>"
   ]
  },
  {
   "cell_type": "markdown",
   "id": "2efeb32e",
   "metadata": {},
   "source": []
  },
  {
   "cell_type": "code",
   "execution_count": null,
   "id": "9c9336a5-795f-4adc-8131-77fb846f6005",
   "metadata": {},
   "outputs": [],
   "source": [
    "# 1. Query information about the 551 film using simple authentication (v3)\n",
    "# The movies are identified by a number\n",
    "# Title, genres, duration, average score"
   ]
  },
  {
   "cell_type": "code",
   "execution_count": null,
   "id": "c049d703-2880-434a-8b74-80906c4ad0bd",
   "metadata": {},
   "outputs": [],
   "source": []
  },
  {
   "cell_type": "code",
   "execution_count": null,
   "id": "abba9c0a-8c79-43e3-95a8-a791c069835e",
   "metadata": {},
   "outputs": [],
   "source": [
    "# 2. Repeat the query using authentication (v4), with API Read Token\n",
    "# Title, genres, duration, average score"
   ]
  },
  {
   "cell_type": "code",
   "execution_count": null,
   "id": "fc61b85f-800c-4271-9838-8348f56b93c6",
   "metadata": {},
   "outputs": [],
   "source": []
  },
  {
   "cell_type": "code",
   "execution_count": null,
   "id": "ba5ffce1-6227-409d-b803-c57dfb12ff95",
   "metadata": {},
   "outputs": [],
   "source": [
    "# 3. Search for information about the movie: Matrix\n",
    "# Answer the following questions:\n",
    "# 3.1 How many movies does the search return?\n",
    "# 3.2 Shows what are its titles, date of release and rating\n",
    "# 3.3 Shows the information of the movies sorted by star date (ascending)\n",
    "# 3.4 Shows the information of the movies sorted by score (descending)"
   ]
  },
  {
   "cell_type": "code",
   "execution_count": null,
   "id": "cea2903e-908f-4ff4-8a8e-5e398bb85054",
   "metadata": {},
   "outputs": [],
   "source": []
  },
  {
   "cell_type": "code",
   "execution_count": 1,
   "id": "d1a78dc5-eb6d-4fa1-81ca-3f6e52f2d6d5",
   "metadata": {},
   "outputs": [],
   "source": [
    "# 4. Shows the information of the highest rated Matrix movie\n",
    "# (title, duration, score, year of release, website, synopsis (overview) and image)"
   ]
  },
  {
   "cell_type": "code",
   "execution_count": null,
   "id": "b2cb03bb-d56f-4ac2-8189-8b72054dd1ca",
   "metadata": {},
   "outputs": [],
   "source": []
  },
  {
   "cell_type": "code",
   "execution_count": null,
   "id": "7606a29d-7f1e-49e4-997f-c3218dc5b54f",
   "metadata": {},
   "outputs": [],
   "source": []
  },
  {
   "cell_type": "code",
   "execution_count": null,
   "id": "faebdbba-3ade-4bb9-a97b-872ff3ab0384",
   "metadata": {},
   "outputs": [],
   "source": [
    "# 5. Search information about Star Wars movies\n",
    "# Save information in CSV format\n",
    "# Save information in JSON format"
   ]
  },
  {
   "cell_type": "code",
   "execution_count": null,
   "id": "a38dc430-4574-4549-987b-cb879f3b5587",
   "metadata": {},
   "outputs": [],
   "source": []
  },
  {
   "cell_type": "code",
   "execution_count": 2,
   "id": "ba79a4c5",
   "metadata": {},
   "outputs": [],
   "source": [
    "# 6. Search information about your favorite actor/actress (or about any other)\n",
    "# Search information about the movies in which he/she participated\n",
    "# Export to JSON format the information about your actor/actress\n",
    "# Exports to JSON format the information of the movies in which you participated"
   ]
  },
  {
   "cell_type": "code",
   "execution_count": null,
   "id": "2f274112",
   "metadata": {},
   "outputs": [],
   "source": []
  }
 ],
 "metadata": {
  "kernelspec": {
   "display_name": "systems",
   "language": "python",
   "name": "python3"
  },
  "language_info": {
   "codemirror_mode": {
    "name": "ipython",
    "version": 3
   },
   "file_extension": ".py",
   "mimetype": "text/x-python",
   "name": "python",
   "nbconvert_exporter": "python",
   "pygments_lexer": "ipython3",
   "version": "3.7.15 (default, Nov 24 2022, 21:12:53) \n[GCC 11.2.0]"
  },
  "vscode": {
   "interpreter": {
    "hash": "63eb1e5c3aa5268319f56c3b664e0523445c946ec0f1445e261f1f92702f6b14"
   }
  }
 },
 "nbformat": 4,
 "nbformat_minor": 5
}
