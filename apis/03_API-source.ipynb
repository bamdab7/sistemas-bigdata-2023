{
 "cells": [
  {
   "cell_type": "markdown",
   "metadata": {},
   "source": [
    "### API's. 3"
   ]
  },
  {
   "cell_type": "code",
   "execution_count": null,
   "id": "243b4d68-b9bb-40ec-8acf-fd44dbdd6a5d",
   "metadata": {},
   "outputs": [],
   "source": [
    "import requests"
   ]
  },
  {
   "cell_type": "markdown",
   "metadata": {},
   "source": [
    "#### AUTHENTICATION\n",
    "Some APIs require authentication\n",
    "- Some of the reasons may be:\n",
    "- they are a paid service offered by a company\n",
    "- They are very demanding at the processing level and impose limitations\n",
    "- ..."
   ]
  },
  {
   "cell_type": "markdown",
   "id": "cb7abd2e",
   "metadata": {},
   "source": [
    "### currencyconvertapi.com\n",
    "Currency conversion api\n",
    "\n",
    "https://www.currencyconverterapi.com/\n",
    "\n",
    "**SERVICE CURRENTLY VERY LIMITED (2023)**\n",
    "\n",
    "Please take into account the documentation\n",
    "\n",
    "https://www.currencyconverterapi.com/docs"
   ]
  },
  {
   "cell_type": "code",
   "execution_count": null,
   "id": "488d4529-3884-4b54-9ca3-73b1430446a4",
   "metadata": {},
   "outputs": [],
   "source": [
    "# List conversions\n",
    "url = 'https://free.currconv.com/api/v7/currencies'\n",
    "response = requests.get(url)\n",
    "response.json()\n",
    "#response.url\n",
    "\n",
    "# service requires authentication"
   ]
  },
  {
   "cell_type": "markdown",
   "id": "dc1817a6",
   "metadata": {},
   "source": [
    "Request a new API KEY (valid for a month)\n",
    "\n",
    "Check if the server is up or down\n",
    "\n",
    "https://free.currencyconverterapi.com/\n",
    "\n",
    "May take days to create the API-KEY!!!"
   ]
  },
  {
   "cell_type": "code",
   "execution_count": null,
   "id": "2a89f13e",
   "metadata": {},
   "outputs": [],
   "source": [
    "# Listar cambios: con API KEY\n",
    "\n",
    "url  = 'https://free.currconv.com/api/v7/currencies'\n",
    "#API_KEY = 'a_minha_api_key'\n",
    "API_KEY = 'a_minha_api_key'\n",
    "\n",
    "response = requests.get(url, params = {'apiKey':API_KEY})\n",
    "response.json()\n",
    "#response.url"
   ]
  },
  {
   "cell_type": "markdown",
   "id": "ac1136b1",
   "metadata": {},
   "source": [
    "### exchangeratesapi.io\n",
    "Alternative for currency exchange\n",
    "\n",
    "Exchangerates offers information services on currency exchange\n",
    "\n",
    "Register to get an API-KEY\n",
    "\n",
    "https://exchangeratesapi.io/\n",
    "\n",
    "Read the documentation\n",
    "\n",
    "https://exchangeratesapi.io/documentation/"
   ]
  },
  {
   "cell_type": "code",
   "execution_count": null,
   "id": "8b327370-8806-42ef-a3f1-5747997da4fb",
   "metadata": {},
   "outputs": [],
   "source": [
    "# Listar cambios\n",
    "url  = 'https://api.exchangeratesapi.io/v1/'\n",
    "response = requests.get(url)\n",
    "response.json()\n",
    "#response.url"
   ]
  },
  {
   "cell_type": "code",
   "execution_count": null,
   "id": "efa11817-b134-4f24-a7a9-dd582dea965c",
   "metadata": {},
   "outputs": [],
   "source": [
    "# http://api.exchangeratesapi.io/v1/\n",
    "# http://api.exchangeratesapi.io/v1/latest?access_key=08e6e099041473b9af52120ae48619a7\n",
    "\n",
    "url  = 'http://api.exchangeratesapi.io/v1/latest'\n",
    "API_KEY = 'a_minha_api_key'\n",
    "response = requests.get(url, params = {'access_key':API_KEY})\n",
    "response.json()\n",
    "#response.url"
   ]
  },
  {
   "cell_type": "code",
   "execution_count": null,
   "id": "a62dc3bc",
   "metadata": {},
   "outputs": [],
   "source": [
    "# If we want to select a specific value, for example: 'GBP'.\n",
    "response.json()['rates']['GBP']"
   ]
  },
  {
   "cell_type": "code",
   "execution_count": null,
   "id": "aa542f9c-7bf4-4770-be0e-d9ff3b098308",
   "metadata": {},
   "outputs": [],
   "source": [
    "# Specify currencies\n",
    "# The API also allows us to choose the currencies for which we want to consult the exchange rate\n",
    "# (we always use EURO base)\n",
    "# The exchange rate (currently) has become a service only accessible in the payment subscription.\n",
    "\n",
    "url  = 'http://api.exchangeratesapi.io/v1/latest'\n",
    "API_KEY = 'a_minha_api_key'\n",
    "payload = {'access_key':API_KEY, 'symbols':'USD,CAD,JPY'}\n",
    "response = requests.get(url, params = payload )\n",
    "response.json()\n",
    "#response.url"
   ]
  },
  {
   "cell_type": "code",
   "execution_count": null,
   "id": "55c7ac27-9465-43ae-bbcd-4a12f06b7ba6",
   "metadata": {},
   "outputs": [],
   "source": [
    "# CURRENCY CONVERSION\n",
    "\n",
    "# (this service also became a paid service)\n",
    "# documentation: https://exchangeratesapi.io/documentation/#latestrates\n",
    "\n",
    "url  = 'http://api.exchangeratesapi.io/v1/convert'\n",
    "API_KEY = 'a_minha_api_key'\n",
    "payload = {'access_key':API_KEY, 'from':'EU','to':'GBP', 'amount':10}\n",
    "response = requests.get(url, params = payload )\n",
    "response.json()\n",
    "#response.url"
   ]
  },
  {
   "cell_type": "markdown",
   "id": "f470511a",
   "metadata": {},
   "source": [
    "The authentication we pass as parameter is not secure at all.\n",
    "\n",
    "There are other methods of authentication that are more secure. For example, sending the information of a token in the header"
   ]
  },
  {
   "cell_type": "code",
   "execution_count": null,
   "id": "7b20da23",
   "metadata": {},
   "outputs": [],
   "source": [
    "# Sending a token as a parameter\n",
    "\n",
    "url = 'http://httpbin.org/get'\n",
    "payload = { 'token': 'O-MEU-TOKEN-XENIAL'}\n",
    "response = requests.get(url, params = token )\n",
    "response.json()"
   ]
  },
  {
   "cell_type": "code",
   "execution_count": null,
   "id": "fa569a94",
   "metadata": {},
   "outputs": [],
   "source": [
    "# the information goes in the headers, not in the url\n",
    "response.url"
   ]
  },
  {
   "cell_type": "code",
   "execution_count": null,
   "id": "80be93f9-00e1-4cd4-9fa5-1260fa008193",
   "metadata": {},
   "outputs": [],
   "source": [
    "# Sending a token in the headers\n",
    "\n",
    "url = 'http://httpbin.org/get'\n",
    "token = { 'token': 'O-MEU-TOKEN-XENIAL'}\n",
    "response = requests.get(url, headers = token )\n",
    "response.json()"
   ]
  },
  {
   "cell_type": "code",
   "execution_count": null,
   "id": "d050b1e3-f491-440b-99ee-d2f4aece9b2b",
   "metadata": {},
   "outputs": [],
   "source": [
    "# the information goes in the headers, not in the url\n",
    "response.url"
   ]
  },
  {
   "cell_type": "markdown",
   "id": "c9ab3f04",
   "metadata": {},
   "source": [
    "### openweathermap.org\n",
    "\n",
    "OpenWeatherMap is a page that offers weather information.\n",
    "\n",
    "Requires registration to access some services but it offers a free layer.\n",
    " \n",
    "https://openweathermap.org/\n",
    "\n",
    "Register and get an API-KEY\n",
    "- Register -> Create an account\n",
    "- View API-KEY"
   ]
  },
  {
   "cell_type": "code",
   "execution_count": null,
   "id": "794473a2",
   "metadata": {},
   "outputs": [],
   "source": [
    "# Documentacion: How to Start\n",
    "# https://openweathermap.org/appid\n",
    "\n",
    "API_KEY='API-KEY'\n",
    "url ='http://api.openweathermap.org/data/2.5/forecast'\n",
    "response = requests.get(url, params = {'id':524901, 'appid':API_KEY})\n",
    "response.json()"
   ]
  },
  {
   "cell_type": "code",
   "execution_count": null,
   "id": "b87938e7",
   "metadata": {},
   "outputs": [],
   "source": [
    "API_KEY='a_minha_api_key'\n",
    "url ='http://api.openweathermap.org/data/2.5/forecast'\n",
    "response = requests.get(url, params = {'id':524901, 'appid':API_KEY})\n",
    "response.json()"
   ]
  },
  {
   "cell_type": "code",
   "execution_count": null,
   "id": "731576be",
   "metadata": {},
   "outputs": [],
   "source": [
    "# Documentation: Call current weather data\n",
    "# https://openweathermap.org/current#one\n",
    "# https://api.openweathermap.org/data/2.5/weather?lat={lat}&lon={lon}&appid={API key}\n",
    "\n",
    "# You need to specify latitude and longitude\n",
    "# A Coruña: 'lat':43.372, 'lon':-8.3999\n",
    "\n",
    "API_KEY='a_minha_api_key'\n",
    "url ='http://api.openweathermap.org/data/2.5/forecast'\n",
    "response = requests.get(url, params = {'lat':43.372, 'lon':-8.3999,'appid':API_KEY})\n",
    "response.json()"
   ]
  },
  {
   "cell_type": "code",
   "execution_count": null,
   "id": "af5cd5f6",
   "metadata": {},
   "outputs": [],
   "source": [
    "# PROPOSAL: use Geocoding API to obtain longitude and latitude.\n",
    "# https://openweathermap.org/api/geocoding-api\n",
    "# http://api.openweathermap.org/geo/1.0/direct?q={city name},{state code},{country code}&limit={limit}&appid={API key}"
   ]
  },
  {
   "cell_type": "code",
   "execution_count": null,
   "id": "a5ec74a7",
   "metadata": {},
   "outputs": [],
   "source": [
    "\n",
    "\n"
   ]
  },
  {
   "cell_type": "markdown",
   "id": "5290112a",
   "metadata": {},
   "source": [
    "To recap:\n",
    "- Query String Parameters to configure GET requests\n",
    "- Request Headers to configure GET requests\n",
    "- Authentication using parameters\n",
    "- Authentication using headers"
   ]
  }
 ],
 "metadata": {
  "kernelspec": {
   "display_name": "systems",
   "language": "python",
   "name": "python3"
  },
  "language_info": {
   "codemirror_mode": {
    "name": "ipython",
    "version": 3
   },
   "file_extension": ".py",
   "mimetype": "text/x-python",
   "name": "python",
   "nbconvert_exporter": "python",
   "pygments_lexer": "ipython3",
   "version": "3.7.15"
  },
  "vscode": {
   "interpreter": {
    "hash": "63eb1e5c3aa5268319f56c3b664e0523445c946ec0f1445e261f1f92702f6b14"
   }
  }
 },
 "nbformat": 4,
 "nbformat_minor": 5
}
