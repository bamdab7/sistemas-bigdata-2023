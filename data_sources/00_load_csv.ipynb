{
 "cells": [
  {
   "cell_type": "markdown",
   "metadata": {},
   "source": [
    "How to read and print any CSV file."
   ]
  },
  {
   "cell_type": "code",
   "execution_count": null,
   "id": "f7a9f05e",
   "metadata": {},
   "outputs": [],
   "source": [
    "with open('../datasets/iris.csv') as ficheiro:\n",
    "    for linha in ficheiro:\n",
    "        print(linha)"
   ]
  }
 ],
 "metadata": {
  "kernelspec": {
   "display_name": "Python 3.8.15 ('sistemas')",
   "language": "python",
   "name": "python3"
  },
  "language_info": {
   "codemirror_mode": {
    "name": "ipython",
    "version": 3
   },
   "file_extension": ".py",
   "mimetype": "text/x-python",
   "name": "python",
   "nbconvert_exporter": "python",
   "pygments_lexer": "ipython3",
   "version": "3.8.15"
  },
  "vscode": {
   "interpreter": {
    "hash": "0e884a0ec9feefaf3a914d578a359c036e9f33fc4d2669d69b11c8c204f1f6a8"
   }
  }
 },
 "nbformat": 4,
 "nbformat_minor": 5
}
