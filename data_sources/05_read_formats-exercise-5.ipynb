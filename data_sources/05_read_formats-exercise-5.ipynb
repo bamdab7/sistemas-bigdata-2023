{
 "cells": [
  {
   "cell_type": "markdown",
   "metadata": {},
   "source": [
    "# Working with different formats . Exercise 5\n",
    "\n",
    "Pandas documentation: https://pandas.pydata.org/docs/index.html\n",
    "\n",
    "Pandas API reference: https://pandas.pydata.org/docs/reference/index.html#api"
   ]
  },
  {
   "cell_type": "code",
   "execution_count": 1,
   "id": "1e7f7d2b-d89c-49d6-a5dd-3cc5157c449d",
   "metadata": {},
   "outputs": [],
   "source": [
    "# import pandas library"
   ]
  },
  {
   "cell_type": "markdown",
   "metadata": {},
   "source": [
    "### COVID-19 in Spain. Official Data\n",
    "\n",
    "**Source**: Multiple sources: https://rubenfcasal.github.io/COVID-19/\n",
    "\n",
    "**Dataset**: https://cnecovid.isciii.es/covid19/resources/casos_hosp_uci_def_sexo_edad_provres.csv\n",
    "\n",
    "**Metadata**: Metadata: https://cnecovid.isciii.es/covid19/resources/metadata_diag_ccaa_decl_prov_edad_sexo.pdf\n",
    "\n",
    "\n",
    "Compressed CSV file: 3.9MB"
   ]
  },
  {
   "cell_type": "code",
   "execution_count": 1,
   "id": "8724e9f0-c112-4607-b51d-be5e10fdbe21",
   "metadata": {},
   "outputs": [],
   "source": [
    "# Load the file into a dataframe\n",
    "# Use the .zip file in datasets directory\n"
   ]
  },
  {
   "cell_type": "code",
   "execution_count": 3,
   "id": "7384a50e-31cb-485e-a813-0469189068ba",
   "metadata": {},
   "outputs": [],
   "source": [
    "# Create two variables: num_rows and num_columns\n",
    "# Assign the correct values to this variables\n"
   ]
  },
  {
   "cell_type": "code",
   "execution_count": 4,
   "id": "6a6c4555-c6ab-4763-be35-f1156b32f451",
   "metadata": {},
   "outputs": [],
   "source": [
    "# Take a look to the dataframe\n"
   ]
  },
  {
   "cell_type": "code",
   "execution_count": 5,
   "id": "bceb4a0e-e290-48b4-b9ed-fe2b88f1f60f",
   "metadata": {},
   "outputs": [],
   "source": [
    "# Save the dataframe as a Parquet and also a CSV file. Then compare filesizes: parquet, zip and csv\n"
   ]
  },
  {
   "cell_type": "code",
   "execution_count": 6,
   "id": "5d61b464-1f4a-479c-9922-13d836772733",
   "metadata": {},
   "outputs": [],
   "source": [
    "# Whats the filesize for the different formats?\n",
    "# csv: \n",
    "# zip:\n",
    "# parquet:"
   ]
  },
  {
   "cell_type": "code",
   "execution_count": 7,
   "id": "46902355-67e7-4e9d-b93f-acbe98e2e989",
   "metadata": {
    "tags": []
   },
   "outputs": [],
   "source": [
    "# Load the Titanic dataset\n"
   ]
  },
  {
   "cell_type": "code",
   "execution_count": 8,
   "id": "4cb62ba5-9d2e-4883-9f60-b4ce0ae65918",
   "metadata": {},
   "outputs": [],
   "source": [
    "# Save the Titanic DataFrame to a new JSON file:\n"
   ]
  },
  {
   "cell_type": "code",
   "execution_count": 9,
   "id": "d16e7359-6b08-4f16-bf17-6d481fa28b8c",
   "metadata": {},
   "outputs": [],
   "source": [
    "# Open the new JSON file with a text editor.\n",
    "# Try to understand how the data is organized.\n"
   ]
  },
  {
   "cell_type": "code",
   "execution_count": 10,
   "id": "b1fe01e3-499b-4008-8bf1-57c0b6831304",
   "metadata": {},
   "outputs": [],
   "source": [
    "# Show survivor women older than 50 years\n"
   ]
  },
  {
   "cell_type": "code",
   "execution_count": 11,
   "id": "24ba4659-ad5f-4bda-b506-b0ce3ba4d3ad",
   "metadata": {},
   "outputs": [],
   "source": [
    "# Show survivor men older than 50 years\n"
   ]
  },
  {
   "cell_type": "code",
   "execution_count": 12,
   "id": "e017028e-de9d-493d-8fc1-1a3aadb99fbe",
   "metadata": {},
   "outputs": [],
   "source": [
    "## Try to answer the following questions about data:"
   ]
  },
  {
   "cell_type": "code",
   "execution_count": 13,
   "id": "90b1e99a-0b99-4560-b9a4-a68d88eefa5d",
   "metadata": {},
   "outputs": [],
   "source": [
    "# What were the categories of the passengers on the ship?\n"
   ]
  },
  {
   "cell_type": "code",
   "execution_count": 14,
   "id": "12b42d2b-15ef-40fb-8db2-d4cb1215bcb9",
   "metadata": {},
   "outputs": [],
   "source": [
    "# How many people from first class survived?\n",
    "\n"
   ]
  },
  {
   "cell_type": "code",
   "execution_count": 15,
   "id": "5e5eda8f-3157-436e-9e24-9ff852dabf34",
   "metadata": {},
   "outputs": [],
   "source": [
    "# How many people from the lowest class survived?\n"
   ]
  },
  {
   "cell_type": "markdown",
   "metadata": {},
   "source": [
    "### World Maps\n",
    "\n",
    "shp with the territorial limits of the different countries of the world, in 2014. The names of the countries are in English and Spanish. It also has the ISO code of each country.\n",
    "\n",
    "https://hub.arcgis.com/datasets/ad61dcd7dd244d4096c22a49cc97011f/about\n",
    "\n"
   ]
  },
  {
   "cell_type": "code",
   "execution_count": null,
   "metadata": {},
   "outputs": [],
   "source": [
    "# Import geopandas library\n"
   ]
  },
  {
   "cell_type": "code",
   "execution_count": null,
   "id": "bdad473a",
   "metadata": {},
   "outputs": [],
   "source": [
    "# Load de countries dataset\n"
   ]
  },
  {
   "cell_type": "code",
   "execution_count": 18,
   "id": "83c219d1-a3da-4d03-94e5-cfd0363efd33",
   "metadata": {},
   "outputs": [],
   "source": [
    "# How many countries are there in the world?\n"
   ]
  },
  {
   "cell_type": "code",
   "execution_count": 19,
   "id": "96765fd7-1e5c-4037-96f0-6eee918bdf8c",
   "metadata": {},
   "outputs": [],
   "source": [
    "# Draw the world\n"
   ]
  },
  {
   "cell_type": "code",
   "execution_count": 20,
   "id": "3f76ed16-af48-4f27-87ca-eb2fd7a013fd",
   "metadata": {},
   "outputs": [],
   "source": [
    "# Draw Spain\n"
   ]
  },
  {
   "cell_type": "code",
   "execution_count": 21,
   "id": "b962ac53-ba57-4185-9692-9a27f03df256",
   "metadata": {},
   "outputs": [],
   "source": [
    "# Draw Spain, France, Portugal and Italy\n"
   ]
  },
  {
   "cell_type": "markdown",
   "metadata": {},
   "source": [
    "### Census sections in Spain\n",
    "\n",
    "**Source**: INE. Instituto Nacional de Estadística\n",
    "\n",
    "The files containing the digitalisation of the geo-referenced contours of all the census sections, according to UTM coordinates, zone 28, 29, 30 and 31, are available for download. The files are in EXPORT format from Arclnfo (e009) and SHAPE.\n",
    "\n",
    "https://www.ine.es/ss/Satellite?L=es_ES&c=Page&cid=1259952026632&p=1259952026632&pagename=ProductosYServicios%2FPYSLayout\n",
    "\n"
   ]
  },
  {
   "cell_type": "code",
   "execution_count": null,
   "metadata": {},
   "outputs": [],
   "source": [
    "# Download dataset from the INE site"
   ]
  },
  {
   "cell_type": "code",
   "execution_count": null,
   "id": "2c967f21-2487-40c7-a669-c5b3493af010",
   "metadata": {
    "tags": []
   },
   "outputs": [],
   "source": [
    "# Load data and draw the map\n"
   ]
  },
  {
   "cell_type": "code",
   "execution_count": null,
   "id": "ce05c469-66d8-4227-a3b9-4d3a1e4b764f",
   "metadata": {
    "tags": []
   },
   "outputs": [],
   "source": [
    "# Take a look to the data\n"
   ]
  },
  {
   "cell_type": "code",
   "execution_count": null,
   "id": "7dec8136-cd7b-4e1b-8ece-6d9718eb8499",
   "metadata": {},
   "outputs": [],
   "source": [
    "# Draw a map of Galicia\n"
   ]
  },
  {
   "cell_type": "code",
   "execution_count": null,
   "id": "19be27e7-bd26-4011-9c3a-a8f1ec2d11b9",
   "metadata": {},
   "outputs": [],
   "source": [
    "# Draw a map of the municipality of Coruña\n"
   ]
  },
  {
   "cell_type": "code",
   "execution_count": null,
   "metadata": {},
   "outputs": [],
   "source": [
    "# Draw a map of the municipality of your choice (perhaps the place where you come from)\n"
   ]
  }
 ],
 "metadata": {
  "kernelspec": {
   "display_name": "Python 3.8.10 64-bit",
   "language": "python",
   "name": "python3"
  },
  "language_info": {
   "codemirror_mode": {
    "name": "ipython",
    "version": 3
   },
   "file_extension": ".py",
   "mimetype": "text/x-python",
   "name": "python",
   "nbconvert_exporter": "python",
   "pygments_lexer": "ipython3",
   "version": "3.7.15"
  },
  "vscode": {
   "interpreter": {
    "hash": "916dbcbb3f70747c44a77c7bcd40155683ae19c65e1c03b4aa3499c5328201f1"
   }
  }
 },
 "nbformat": 4,
 "nbformat_minor": 5
}
