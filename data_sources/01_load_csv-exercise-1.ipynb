{
 "cells": [
  {
   "cell_type": "markdown",
   "metadata": {},
   "source": [
    "# Load CSV files. Exercise 1"
   ]
  },
  {
   "cell_type": "markdown",
   "metadata": {},
   "source": [
    "Use the dataset about Liga (1919-2020) champions: \"La_Liga_Winners.csv\"\n",
    "\n",
    "https://www.kaggle.com/kishan305/spanish-football-la-liga-champions"
   ]
  },
  {
   "cell_type": "code",
   "execution_count": null,
   "id": "3d925811-56e7-44cc-a80f-f7cfce5485b8",
   "metadata": {},
   "outputs": [],
   "source": [
    "# import pandas library\n"
   ]
  },
  {
   "cell_type": "code",
   "execution_count": null,
   "id": "797d2380-7a9d-4d5c-ba7d-b6391109206f",
   "metadata": {},
   "outputs": [],
   "source": [
    "# load the CSV file into a DataFrame\n"
   ]
  },
  {
   "cell_type": "code",
   "execution_count": null,
   "id": "924793c9-ce45-454b-8cfc-86d0241de8ff",
   "metadata": {},
   "outputs": [],
   "source": [
    "# show DataFrame\n"
   ]
  },
  {
   "cell_type": "code",
   "execution_count": null,
   "id": "c1c2aff5-06bc-4545-98c3-86707029a0a1",
   "metadata": {},
   "outputs": [],
   "source": [
    "# show first lines of the DataFrame\n"
   ]
  },
  {
   "cell_type": "code",
   "execution_count": null,
   "metadata": {},
   "outputs": [],
   "source": [
    "# show the 3 first lines of the DataFrame"
   ]
  },
  {
   "cell_type": "code",
   "execution_count": null,
   "id": "8efdd32a-5b2c-4577-823e-8d1b8ed99ad8",
   "metadata": {},
   "outputs": [],
   "source": [
    "# show the last lines of the DataFrame\n"
   ]
  },
  {
   "cell_type": "code",
   "execution_count": null,
   "metadata": {},
   "outputs": [],
   "source": [
    "# show the 8 last lines of the DataFrame"
   ]
  },
  {
   "cell_type": "code",
   "execution_count": null,
   "id": "093b07d7-4059-4b40-b6e4-6fad891af594",
   "metadata": {},
   "outputs": [],
   "source": [
    "# show the \"shape\" of the DataFrame (files x rows)\n"
   ]
  },
  {
   "cell_type": "code",
   "execution_count": null,
   "id": "7a40a074-b028-4bd5-aeb9-6656c6c78008",
   "metadata": {},
   "outputs": [],
   "source": [
    "# show the main statistics\n"
   ]
  },
  {
   "cell_type": "code",
   "execution_count": null,
   "id": "27df8a7c-8d12-4642-b5b7-1bf65355b30e",
   "metadata": {},
   "outputs": [],
   "source": [
    "# select the 'Winner' column as a Series\n"
   ]
  },
  {
   "cell_type": "code",
   "execution_count": null,
   "id": "5f54d404-31f2-4ad6-af4b-a3175381281d",
   "metadata": {},
   "outputs": [],
   "source": [
    "# show the type of the previous selection\n"
   ]
  },
  {
   "cell_type": "code",
   "execution_count": null,
   "id": "38ef5adc-72fe-4935-a427-529dd36d3634",
   "metadata": {},
   "outputs": [],
   "source": [
    "# Another way of selecting a column:  dataframe_name.column_name\n"
   ]
  },
  {
   "cell_type": "code",
   "execution_count": null,
   "id": "b7c0cf7e-882b-4a8f-abec-96b65b490143",
   "metadata": {},
   "outputs": [],
   "source": [
    "# show the type of the previous selection\n"
   ]
  },
  {
   "cell_type": "code",
   "execution_count": null,
   "id": "1583544c-450d-4860-ba7a-567e720e4d46",
   "metadata": {},
   "outputs": [],
   "source": [
    "# select the 'Winner' column as a DataFrame\n"
   ]
  },
  {
   "cell_type": "code",
   "execution_count": null,
   "id": "0bbe934d-b1e5-4682-98d5-8d7f214b62cf",
   "metadata": {},
   "outputs": [],
   "source": [
    "# show the type of the previous selection\n"
   ]
  },
  {
   "cell_type": "code",
   "execution_count": null,
   "id": "52631331-b1d9-4533-a865-69339d104522",
   "metadata": {},
   "outputs": [],
   "source": [
    "# select many columns: 'Top Scorer' and  'Goals'\n"
   ]
  },
  {
   "cell_type": "code",
   "execution_count": null,
   "id": "ea0c06d0-161d-4c38-a61a-c65fc8b093c1",
   "metadata": {},
   "outputs": [],
   "source": [
    "# show the type of the previous selection\n"
   ]
  },
  {
   "cell_type": "code",
   "execution_count": null,
   "id": "8e900ba7-78fd-477e-8c81-2493d794da5f",
   "metadata": {},
   "outputs": [],
   "source": [
    "# show the argument type you have passed to the DataFrame to get the previous selection (['column1','column2'])\n"
   ]
  }
 ],
 "metadata": {
  "kernelspec": {
   "display_name": "Python 3.8.10 64-bit",
   "language": "python",
   "name": "python3"
  },
  "language_info": {
   "codemirror_mode": {
    "name": "ipython",
    "version": 3
   },
   "file_extension": ".py",
   "mimetype": "text/x-python",
   "name": "python",
   "nbconvert_exporter": "python",
   "pygments_lexer": "ipython3",
   "version": "3.8.10"
  },
  "vscode": {
   "interpreter": {
    "hash": "916dbcbb3f70747c44a77c7bcd40155683ae19c65e1c03b4aa3499c5328201f1"
   }
  }
 },
 "nbformat": 4,
 "nbformat_minor": 5
}
