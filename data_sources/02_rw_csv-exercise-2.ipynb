{
 "cells": [
  {
   "cell_type": "markdown",
   "metadata": {},
   "source": [
    "# Read and Write CSV files. Exercise 2\n",
    "\n",
    "Pandas documentation: https://pandas.pydata.org/docs/index.html\n",
    "\n",
    "Pandas API reference: https://pandas.pydata.org/docs/reference/index.html#api"
   ]
  },
  {
   "cell_type": "code",
   "execution_count": null,
   "id": "bb4ca998-b77e-49f2-8a15-6aeba961172f",
   "metadata": {},
   "outputs": [],
   "source": [
    "#import pandas library\n"
   ]
  },
  {
   "cell_type": "markdown",
   "metadata": {},
   "source": [
    "### Alcohol consumption in students Dataset\n",
    "https://www.kaggle.com/uciml/student-alcohol-consumption\n",
    "\n",
    "More info about the dataset columns at the end of this notebook.\n",
    "\n",
    "*Note*: you can find the dataset in this repo: estudantes_portugues.csv"
   ]
  },
  {
   "cell_type": "code",
   "execution_count": null,
   "id": "8572419b-ecaa-4fa0-9eb4-2dae490155ce",
   "metadata": {},
   "outputs": [],
   "source": [
    "# Open the dataset file from the local filesystem\n"
   ]
  },
  {
   "cell_type": "code",
   "execution_count": null,
   "id": "d8947e72-48a5-4f5c-bb65-073029093feb",
   "metadata": {},
   "outputs": [],
   "source": [
    "# Open the dataset file from the internet (look for the URL in the GitHub repository)\n"
   ]
  },
  {
   "cell_type": "code",
   "execution_count": null,
   "id": "63b12247-f172-4686-964d-7db76ab1c6c0",
   "metadata": {},
   "outputs": [],
   "source": [
    "# show the DataFrame\n"
   ]
  },
  {
   "cell_type": "code",
   "execution_count": null,
   "id": "45cb3e2c-a892-4e16-b8fd-f4fc8205eb57",
   "metadata": {},
   "outputs": [],
   "source": [
    "# Show the data types of all columns\n"
   ]
  },
  {
   "cell_type": "code",
   "execution_count": 8,
   "id": "2258be96-481c-4af0-bd42-572d73a680b9",
   "metadata": {},
   "outputs": [],
   "source": [
    "# show the three first rows of the DataFrame\n"
   ]
  },
  {
   "cell_type": "code",
   "execution_count": 9,
   "id": "e3f7ed08-a3a2-4e03-8ed2-b59c8dcc792a",
   "metadata": {},
   "outputs": [],
   "source": [
    "# show the columns: school, sex and age\n"
   ]
  },
  {
   "cell_type": "code",
   "execution_count": 10,
   "id": "2b389530-7059-4ffc-80d7-f7be82ee1189",
   "metadata": {},
   "outputs": [],
   "source": [
    "# show the three first rows of columns school, sex and age\n"
   ]
  },
  {
   "cell_type": "code",
   "execution_count": 11,
   "id": "7b4ec54c-1716-4e83-9d1d-839c605afd3d",
   "metadata": {},
   "outputs": [],
   "source": [
    "# show four random rows of columns age, school and sex\n"
   ]
  },
  {
   "cell_type": "code",
   "execution_count": 12,
   "id": "1568ab57-246a-4eb4-bfa9-66966e407ff5",
   "metadata": {},
   "outputs": [],
   "source": [
    "# show column names\n"
   ]
  },
  {
   "cell_type": "code",
   "execution_count": 13,
   "id": "d44a47b9-b675-4147-98b0-554a8e188f02",
   "metadata": {},
   "outputs": [],
   "source": [
    "# show info about the indexes\n"
   ]
  },
  {
   "cell_type": "code",
   "execution_count": 14,
   "id": "9716fff3-ec1d-4cd7-b250-fd1b34de0892",
   "metadata": {},
   "outputs": [],
   "source": [
    "# show the absences column as a Series\n"
   ]
  },
  {
   "cell_type": "code",
   "execution_count": 15,
   "id": "3a841f04-0aed-451f-a7b1-c63534206f42",
   "metadata": {},
   "outputs": [],
   "source": [
    "# show the absences column as a DataFrame\n"
   ]
  },
  {
   "cell_type": "code",
   "execution_count": 16,
   "id": "b69e7602-4c98-40a0-b409-e5cc867991e2",
   "metadata": {},
   "outputs": [],
   "source": [
    "# create a variable s_ausencias with the absences Series\n",
    "\n",
    "# create a variable df_ausencias with the absences DataFrame\n"
   ]
  },
  {
   "cell_type": "code",
   "execution_count": 17,
   "id": "6cd55b16-88f7-4f4f-b46a-f7bf0a1cca6e",
   "metadata": {},
   "outputs": [],
   "source": [
    "# show the three first data of s_ausencias Series\n"
   ]
  },
  {
   "cell_type": "code",
   "execution_count": 18,
   "id": "32961ebd-9301-48d8-834b-ac33946e7610",
   "metadata": {},
   "outputs": [],
   "source": [
    "# show the first seven rows of the dataframe df_ausencias\n"
   ]
  },
  {
   "cell_type": "markdown",
   "metadata": {},
   "source": [
    "You can see that Series and DataFrame types share many functions: .head(), .tail() or .sample()"
   ]
  },
  {
   "cell_type": "code",
   "execution_count": 22,
   "id": "cb66817d-e73b-44d9-982c-19d325bc2953",
   "metadata": {},
   "outputs": [],
   "source": [
    "# Write to estudantes1.csv file data about: sex, age, freetime, studytime and goout\n"
   ]
  },
  {
   "cell_type": "code",
   "execution_count": 23,
   "id": "e43b8e8c-d4a8-4704-904b-9ed98dff8835",
   "metadata": {},
   "outputs": [],
   "source": [
    "# Read the new created file and load into a DataFrame 'df_estudantes1'\n"
   ]
  },
  {
   "cell_type": "code",
   "execution_count": 24,
   "id": "f443eec2-fadc-42fb-bc98-0cc47b1ce098",
   "metadata": {},
   "outputs": [],
   "source": [
    "# Write to estudantes2.csv file data about: age, freetime, health, romantic and higher\n",
    "# Filename: estudantes2.csv\n",
    "# Use the separator ;\n",
    "# Don't save the headers\n",
    "# Don't save the indexes\n"
   ]
  },
  {
   "cell_type": "code",
   "execution_count": null,
   "id": "aacd71a1-eba2-4800-93a8-ababdcb3c884",
   "metadata": {},
   "outputs": [],
   "source": [
    "# Read the new created file and load into a DataFrame 'df_estudantes2'\n",
    "# Use the next names for the columns: idade, tempo libre, saude, emparellado, edu. superior\n"
   ]
  },
  {
   "cell_type": "markdown",
   "id": "e3240010-b20e-4e3e-a350-c50e576340b1",
   "metadata": {},
   "source": [
    "Attributes for both student-mat.csv (Math course) and student-por.csv (Portuguese language course) datasets:\n",
    "\n",
    "    school - student's school (binary: 'GP' - Gabriel Pereira or 'MS' - Mousinho da Silveira)\n",
    "    sex - student's sex (binary: 'F' - female or 'M' - male)\n",
    "    age - student's age (numeric: from 15 to 22)\n",
    "    address - student's home address type (binary: 'U' - urban or 'R' - rural)\n",
    "    famsize - family size (binary: 'LE3' - less or equal to 3 or 'GT3' - greater than 3)\n",
    "    Pstatus - parent's cohabitation status (binary: 'T' - living together or 'A' - apart)\n",
    "    Medu - mother's education (numeric: 0 - none, 1 - primary education (4th grade), 2 – 5th to 9th grade, 3 – secondary education or 4 – higher education)\n",
    "    Fedu - father's education (numeric: 0 - none, 1 - primary education (4th grade), 2 – 5th to 9th grade, 3 – secondary education or 4 – higher education)\n",
    "    Mjob - mother's job (nominal: 'teacher', 'health' care related, civil 'services' (e.g. administrative or police), 'at_home' or 'other')\n",
    "    Fjob - father's job (nominal: 'teacher', 'health' care related, civil 'services' (e.g. administrative or police), 'at_home' or 'other')\n",
    "    reason - reason to choose this school (nominal: close to 'home', school 'reputation', 'course' preference or 'other')\n",
    "    guardian - student's guardian (nominal: 'mother', 'father' or 'other')\n",
    "    traveltime - home to school travel time (numeric: 1 - <15 min., 2 - 15 to 30 min., 3 - 30 min. to 1 hour, or 4 - >1 hour)\n",
    "    studytime - weekly study time (numeric: 1 - <2 hours, 2 - 2 to 5 hours, 3 - 5 to 10 hours, or 4 - >10 hours)\n",
    "    failures - number of past class failures (numeric: n if 1<=n<3, else 4)\n",
    "    schoolsup - extra educational support (binary: yes or no)\n",
    "    famsup - family educational support (binary: yes or no)\n",
    "    paid - extra paid classes within the course subject (Math or Portuguese) (binary: yes or no)\n",
    "    activities - extra-curricular activities (binary: yes or no)\n",
    "    nursery - attended nursery school (binary: yes or no)\n",
    "    higher - wants to take higher education (binary: yes or no)\n",
    "    internet - Internet access at home (binary: yes or no)\n",
    "    romantic - with a romantic relationship (binary: yes or no)\n",
    "    famrel - quality of family relationships (numeric: from 1 - very bad to 5 - excellent)\n",
    "    freetime - free time after school (numeric: from 1 - very low to 5 - very high)\n",
    "    goout - going out with friends (numeric: from 1 - very low to 5 - very high)\n",
    "    Dalc - workday alcohol consumption (numeric: from 1 - very low to 5 - very high)\n",
    "    Walc - weekend alcohol consumption (numeric: from 1 - very low to 5 - very high)\n",
    "    health - current health status (numeric: from 1 - very bad to 5 - very good)\n",
    "    absences - number of school absences (numeric: from 0 to 93)\n",
    "\n",
    "These grades are related with the course subject, Math or Portuguese:\n",
    "\n",
    "    G1 - first period grade (numeric: from 0 to 20)\n",
    "    G2 - second period grade (numeric: from 0 to 20)\n",
    "    G3 - final grade (numeric: from 0 to 20, output target)\n"
   ]
  }
 ],
 "metadata": {
  "kernelspec": {
   "display_name": "Python 3.8.10 64-bit",
   "language": "python",
   "name": "python3"
  },
  "language_info": {
   "codemirror_mode": {
    "name": "ipython",
    "version": 3
   },
   "file_extension": ".py",
   "mimetype": "text/x-python",
   "name": "python",
   "nbconvert_exporter": "python",
   "pygments_lexer": "ipython3",
   "version": "3.8.10"
  },
  "vscode": {
   "interpreter": {
    "hash": "916dbcbb3f70747c44a77c7bcd40155683ae19c65e1c03b4aa3499c5328201f1"
   }
  }
 },
 "nbformat": 4,
 "nbformat_minor": 5
}
