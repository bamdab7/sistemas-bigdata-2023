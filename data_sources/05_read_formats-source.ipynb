{
 "cells": [
  {
   "cell_type": "markdown",
   "metadata": {},
   "source": [
    "# Data sources. Other formats. \n",
    "\n",
    "* Parquet\n",
    "* JSON\n",
    "* Shapefile\n",
    "* PC-Axis\n",
    "* ...\n",
    "\n",
    "Pandas documentation: https://pandas.pydata.org/docs/index.html\n",
    "\n",
    "Pandas API reference: https://pandas.pydata.org/docs/reference/index.html#api"
   ]
  },
  {
   "cell_type": "code",
   "execution_count": null,
   "id": "1e7f7d2b-d89c-49d6-a5dd-3cc5157c449d",
   "metadata": {},
   "outputs": [],
   "source": [
    "# import pandas library\n",
    "import pandas as pd"
   ]
  },
  {
   "cell_type": "markdown",
   "id": "df743294-23a9-4d7c-8745-a61bf0403e52",
   "metadata": {},
   "source": [
    "### Parquet\n",
    "\n",
    "Parquet is a compressed binary format that stores data in column mode (instead of the usual row mode)\n",
    "\n",
    "It's especially suitable for Datasets with a large numbre of columns."
   ]
  },
  {
   "cell_type": "markdown",
   "metadata": {},
   "source": [
    "### Social vulnerability Dataset\n",
    "\n",
    "Source: Data.gov (US Open Data Project)\n",
    "\n",
    "https://catalog.data.gov/dataset/social-vulnerability-index-2018-united-states-tract \n"
   ]
  },
  {
   "cell_type": "code",
   "execution_count": null,
   "id": "8724e9f0-c112-4607-b51d-be5e10fdbe21",
   "metadata": {},
   "outputs": [],
   "source": [
    "# CSV File greater than 200MB\n",
    "df = pd.read_csv('/huge/datasets/Social_Vulnerability_Index_2018_-_United_States__tract.csv')"
   ]
  },
  {
   "cell_type": "code",
   "execution_count": null,
   "id": "7384a50e-31cb-485e-a813-0469189068ba",
   "metadata": {},
   "outputs": [],
   "source": [
    "df.shape"
   ]
  },
  {
   "cell_type": "code",
   "execution_count": null,
   "id": "6a6c4555-c6ab-4763-be35-f1156b32f451",
   "metadata": {},
   "outputs": [],
   "source": [
    "df.head()"
   ]
  },
  {
   "cell_type": "code",
   "execution_count": null,
   "id": "bceb4a0e-e290-48b4-b9ed-fe2b88f1f60f",
   "metadata": {},
   "outputs": [],
   "source": [
    "df.to_parquet('/huge/datasets/Social_Vulnerability_Index_2018_-_United_States__tract.parquet')"
   ]
  },
  {
   "cell_type": "code",
   "execution_count": null,
   "metadata": {},
   "outputs": [],
   "source": [
    "# Parquet is a binary format (don't try to open the file with a text editor)\n",
    "# Note the compression rate of parquet format, look at the file size."
   ]
  },
  {
   "cell_type": "code",
   "execution_count": null,
   "id": "7ce96ff3-e15d-43cb-8f69-ffc5b4dce20d",
   "metadata": {},
   "outputs": [],
   "source": [
    "df_pq = pd.read_parquet('/huge/datasets/Social_Vulnerability_Index_2018_-_United_States__tract.parquet')\n",
    "df_pq.head()                        "
   ]
  },
  {
   "cell_type": "code",
   "execution_count": null,
   "id": "c78dc311-ec2d-4f71-b435-db42ad3abc3b",
   "metadata": {},
   "outputs": [],
   "source": [
    "# Compare the reading execution time of the dataset in CSV vs Parquet?\n",
    "# Do you notice any difference?"
   ]
  },
  {
   "cell_type": "code",
   "execution_count": null,
   "metadata": {},
   "outputs": [],
   "source": [
    "# Use %time python magic to measure the execution time\n",
    "%time df = pd.read_csv('/huge/datasets/Social_Vulnerability_Index_2018_-_United_States__tract.csv')"
   ]
  },
  {
   "cell_type": "code",
   "execution_count": null,
   "metadata": {},
   "outputs": [],
   "source": [
    "# Use %time python magic to measure the execution time\n",
    "%time df_pq = pd.read_parquet('/huge/datasets/Social_Vulnerability_Index_2018_-_United_States__tract.parquet')\n"
   ]
  },
  {
   "cell_type": "code",
   "execution_count": null,
   "id": "75759624-88f6-47cf-afb0-0b6a9d8b9789",
   "metadata": {},
   "outputs": [],
   "source": [
    "df_pq.sample(10)"
   ]
  },
  {
   "cell_type": "markdown",
   "id": "81d2a0e9-85ce-49c7-9da1-30f49abf04c9",
   "metadata": {},
   "source": [
    "### JSON\n",
    "\n",
    "JSON is a text based format with the Javascript Sintax Notation."
   ]
  },
  {
   "cell_type": "code",
   "execution_count": null,
   "id": "8dafc7a0-5f87-452a-94a1-5ec3f2c62ac2",
   "metadata": {},
   "outputs": [],
   "source": [
    "# Sample JSON file with data Series\n",
    "# https://www.w3schools.com/python/pandas/data.js\n",
    "df = pd.read_json('../datasets/data_series.json')"
   ]
  },
  {
   "cell_type": "code",
   "execution_count": null,
   "id": "a864d8c3-85af-4e1d-87aa-92d4508c1b39",
   "metadata": {},
   "outputs": [],
   "source": [
    "df"
   ]
  },
  {
   "cell_type": "code",
   "execution_count": null,
   "id": "2836a041-fec0-454c-b61a-25c669ba4ead",
   "metadata": {},
   "outputs": [],
   "source": [
    "# Show the dataframe in text mode\n",
    "df.to_string()\n",
    "#print(df.to_string())"
   ]
  },
  {
   "cell_type": "code",
   "execution_count": null,
   "id": "f1ecd2b5-1076-4aaf-b0b2-2f60da7edfc6",
   "metadata": {},
   "outputs": [],
   "source": [
    "# Select Pulse and Calories with Duration 60\n",
    "df60 = df[df.Duration == 60][['Pulse','Calories']]\n",
    "df60"
   ]
  },
  {
   "cell_type": "code",
   "execution_count": null,
   "id": "4cb62ba5-9d2e-4883-9f60-b4ce0ae65918",
   "metadata": {},
   "outputs": [],
   "source": [
    "# Save results in a new JSON file\n",
    "df60.to_json('output/data_60.json')"
   ]
  },
  {
   "cell_type": "code",
   "execution_count": null,
   "id": "d16e7359-6b08-4f16-bf17-6d481fa28b8c",
   "metadata": {},
   "outputs": [],
   "source": [
    "# Open the new file with a text editor"
   ]
  },
  {
   "cell_type": "code",
   "execution_count": null,
   "id": "c957cbfa-f67c-4a8a-b9f6-ed72c48868ed",
   "metadata": {},
   "outputs": [],
   "source": [
    "# Sample JSON file with data in one level only, no nested data\n",
    "# https://github.com/ankitgoel1602/data-science/tree/master/json-data\n",
    "df = pd.read_json('../datasets/level_1.json')"
   ]
  },
  {
   "cell_type": "code",
   "execution_count": null,
   "id": "b5455564-e108-4773-a803-dc6e41e7c62c",
   "metadata": {},
   "outputs": [],
   "source": [
    "df"
   ]
  },
  {
   "cell_type": "code",
   "execution_count": null,
   "id": "5d914c7a-5430-4322-9468-997c63517745",
   "metadata": {},
   "outputs": [],
   "source": [
    "# JSON complex files\n",
    "# https://towardsdatascience.com/how-to-parse-json-data-with-python-pandas-f84fbd0b1025\n",
    "# pd.read_json won't be enough with nested data in JSON files. "
   ]
  },
  {
   "cell_type": "code",
   "execution_count": null,
   "id": "708c60df-2762-47d8-8902-aaf18546fb01",
   "metadata": {},
   "outputs": [],
   "source": [
    "# Load a remote JSON dataset\n",
    "# Dataset with cities of the world\n",
    "url = 'https://raw.githubusercontent.com/lutangar/cities.json/master/cities.json'\n",
    "df = pd.read_json(url)\n",
    "df"
   ]
  },
  {
   "cell_type": "code",
   "execution_count": null,
   "id": "b1fe01e3-499b-4008-8bf1-57c0b6831304",
   "metadata": {},
   "outputs": [],
   "source": [
    "# Search city: Lugo\n",
    "df[df.name == 'Lugo']"
   ]
  },
  {
   "cell_type": "code",
   "execution_count": null,
   "id": "2069dcf2-9abb-4247-9741-3b60fdd8d124",
   "metadata": {},
   "outputs": [],
   "source": [
    "# Search city: Coruña\n",
    "df[df.name.str.contains('Coruña')]"
   ]
  },
  {
   "cell_type": "code",
   "execution_count": null,
   "id": "b5715618-5ac0-4511-82b8-9a6092211cfe",
   "metadata": {},
   "outputs": [],
   "source": [
    "# Search many elements\n",
    "df[df.name.isin(['Lugo','Pontevedra'])]"
   ]
  },
  {
   "cell_type": "code",
   "execution_count": null,
   "id": "e017028e-de9d-493d-8fc1-1a3aadb99fbe",
   "metadata": {},
   "outputs": [],
   "source": [
    "# We can explore the dataset and make questions:"
   ]
  },
  {
   "cell_type": "code",
   "execution_count": null,
   "id": "12b42d2b-15ef-40fb-8db2-d4cb1215bcb9",
   "metadata": {},
   "outputs": [],
   "source": [
    "# Question: how many cities are there in Spain?\n",
    "df[df.country == 'ES'].name.count()"
   ]
  },
  {
   "cell_type": "code",
   "execution_count": null,
   "id": "5e5eda8f-3157-436e-9e24-9ff852dabf34",
   "metadata": {},
   "outputs": [],
   "source": [
    "# and France?\n",
    "df[df.country == 'FR'].name.count()"
   ]
  },
  {
   "cell_type": "code",
   "execution_count": null,
   "id": "231b874b-417e-4ab6-96e7-0959dcd630ba",
   "metadata": {},
   "outputs": [],
   "source": [
    "# Diference between cities in France and Spain\n",
    "df[df.country == 'FR'].name.count() - df[df.country == 'ES'].name.count()"
   ]
  },
  {
   "cell_type": "markdown",
   "id": "b0400231-edc1-4baa-9fb6-3992834cf2bd",
   "metadata": {},
   "source": [
    "### Shapefile\n",
    "\n",
    "There are many file extensions related to Shapefiles: .shp, .dbf, .shx...\n",
    "\n",
    "Shapefile is a format designed to store vector grapich information, as well as related information.\n",
    "\n",
    "Format popularized by geographical data processing applications such as QGIS or ArcGIS\n",
    "\n",
    "Shapefile is a collection of three basic files: .shp, .shx and .dbf\n",
    "\n",
    "The three files must be in the same directory.\n",
    "\n",
    " +info: https://mxd.codes/articles/what-is-a-shapefile-shp-dbf-and-shx"
   ]
  },
  {
   "cell_type": "code",
   "execution_count": null,
   "id": "4a668e66-a4e2-4da9-9b76-64b34bca2fb5",
   "metadata": {},
   "outputs": [],
   "source": [
    "# Import geopandas library\n",
    "import geopandas as gpd"
   ]
  },
  {
   "cell_type": "code",
   "execution_count": null,
   "metadata": {},
   "outputs": [],
   "source": [
    "!conda install geopandas -y"
   ]
  },
  {
   "cell_type": "markdown",
   "metadata": {},
   "source": [
    "### Galician municipalities \n",
    "\n",
    "Source: Sergas.es // GIS: Cartografía de Galicia en formato vectorial SHP para Sistemas de Información Xeográfica \n",
    "\n",
    "https://www.sergas.es/Saude-publica/GIS-Concellos\n"
   ]
  },
  {
   "cell_type": "code",
   "execution_count": null,
   "id": "caac1bc3-3d0d-4c5a-98a1-c9978a6506e7",
   "metadata": {},
   "outputs": [],
   "source": [
    "# Load shapefile into a GeoDataFrame\n",
    "gdf = gpd.read_file('../datasets/Concellos/Concellos_IGN.shp')"
   ]
  },
  {
   "cell_type": "code",
   "execution_count": null,
   "id": "b962ac53-ba57-4185-9692-9a27f03df256",
   "metadata": {},
   "outputs": [],
   "source": [
    "gdf"
   ]
  },
  {
   "cell_type": "code",
   "execution_count": null,
   "id": "8cad9eb1-17b3-4184-bddb-6c5cb89e547c",
   "metadata": {},
   "outputs": [],
   "source": [
    "# Geopandas creates a new kind of DataFrame\n",
    "type(gdf)"
   ]
  },
  {
   "cell_type": "code",
   "execution_count": null,
   "id": "50329929-4c1d-46d1-a657-ae9dafa4627a",
   "metadata": {},
   "outputs": [],
   "source": [
    "# Draw the DataFrame\n",
    "gdf.plot()"
   ]
  },
  {
   "cell_type": "code",
   "execution_count": null,
   "id": "a5510562-c491-42bf-b257-a709069aee7d",
   "metadata": {},
   "outputs": [],
   "source": [
    "# Draw only a province: Pontevedra\n",
    "gdf[gdf.Provincia == 'Pontevedra'].plot()"
   ]
  },
  {
   "cell_type": "markdown",
   "id": "d8a0e874-6e18-43ff-8474-41460a25adb0",
   "metadata": {},
   "source": [
    "### PC-Axis\n",
    "\n",
    "PC-Axis is a especial format designed by statistical programs. It's quite present in public administrations.\n",
    "\n",
    "The original application is from Sweden: PXwin, PxWeb and PXEdit\n",
    "\n",
    "It uses the .px extension"
   ]
  },
  {
   "cell_type": "code",
   "execution_count": null,
   "metadata": {},
   "outputs": [],
   "source": [
    "# You can't find the library in Conda repos so you can try pip.\n",
    "# https://pypi.org/project/pyaxis/\n",
    "!pip install pyaxis"
   ]
  },
  {
   "cell_type": "code",
   "execution_count": null,
   "id": "99d2e99a-33fc-4ea0-b93a-61d7dc9b86ce",
   "metadata": {},
   "outputs": [],
   "source": [
    "#import pyaxis library\n",
    "from pyaxis import pyaxis "
   ]
  },
  {
   "cell_type": "code",
   "execution_count": null,
   "metadata": {},
   "outputs": [],
   "source": []
  },
  {
   "cell_type": "markdown",
   "metadata": {},
   "source": [
    "### Criminality in Spain\n",
    "\n",
    "Source: Ministerio de Interior\n",
    "\n",
    "https://estadisticasdecriminalidad.ses.mir.es/publico/portalestadistico/balances.html\n"
   ]
  },
  {
   "cell_type": "code",
   "execution_count": null,
   "id": "499b5a1b-de22-44b3-8d22-aaaee5a8da15",
   "metadata": {},
   "outputs": [],
   "source": [
    "# Load file\n",
    "px = pyaxis.parse('../datasets/criminalidade_2021_t3.px', encoding='ISO-8859-2')"
   ]
  },
  {
   "cell_type": "code",
   "execution_count": null,
   "id": "be486e1d-159a-4304-8244-39df18738bb7",
   "metadata": {},
   "outputs": [],
   "source": [
    "px"
   ]
  },
  {
   "cell_type": "code",
   "execution_count": null,
   "id": "24f0ce86-b610-4b25-9eb6-b4e4e7274b37",
   "metadata": {},
   "outputs": [],
   "source": [
    "px['DATA']"
   ]
  },
  {
   "cell_type": "code",
   "execution_count": null,
   "id": "147f25a6-b93a-4494-9308-8012c40de954",
   "metadata": {},
   "outputs": [],
   "source": [
    "px['METADATA']"
   ]
  },
  {
   "cell_type": "markdown",
   "id": "d0c16e99-5445-4bfe-b083-154f6d280eda",
   "metadata": {},
   "source": [
    "### Compressed files\n",
    "\n",
    "Pandas allows to read and import csv compressed files in different formats: .zip, .tar.xz etc..."
   ]
  },
  {
   "cell_type": "code",
   "execution_count": null,
   "id": "3c726496-e996-48dc-8d50-d04002134498",
   "metadata": {},
   "outputs": [],
   "source": [
    "df = pd.read_csv('../datasets/La_Liga_Winners.tar.xz')\n",
    "df.head()"
   ]
  },
  {
   "cell_type": "code",
   "execution_count": null,
   "id": "55843056-389e-4c7e-a74d-ea3e324c3f98",
   "metadata": {},
   "outputs": [],
   "source": [
    "df = pd.read_csv('../datasets/La_Liga_Winners.zip')\n",
    "df.head()"
   ]
  },
  {
   "cell_type": "code",
   "execution_count": null,
   "id": "c7f539a8-e2d9-44c7-a862-00e764a2e204",
   "metadata": {},
   "outputs": [],
   "source": [
    "# Save to a compressed CSV file the large amount of victories of teh Deportivo in the Liga\n",
    "# Try gz format (gz->OK , zip->some problems?)\n",
    "deportivo = df[df.Winner.str.contains('Deportivo')]\n",
    "deportivo.to_csv('output/deportivo_wins.csv.gz',index=False,compression='gzip')"
   ]
  },
  {
   "cell_type": "code",
   "execution_count": null,
   "id": "396b02d9",
   "metadata": {},
   "outputs": [],
   "source": []
  }
 ],
 "metadata": {
  "kernelspec": {
   "display_name": "Python 3.8.15 ('sistemas')",
   "language": "python",
   "name": "python3"
  },
  "language_info": {
   "codemirror_mode": {
    "name": "ipython",
    "version": 3
   },
   "file_extension": ".py",
   "mimetype": "text/x-python",
   "name": "python",
   "nbconvert_exporter": "python",
   "pygments_lexer": "ipython3",
   "version": "3.7.15"
  },
  "vscode": {
   "interpreter": {
    "hash": "0e884a0ec9feefaf3a914d578a359c036e9f33fc4d2669d69b11c8c204f1f6a8"
   }
  }
 },
 "nbformat": 4,
 "nbformat_minor": 5
}
