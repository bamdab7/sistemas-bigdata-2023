{
 "cells": [
  {
   "cell_type": "markdown",
   "metadata": {},
   "source": [
    "# XLS and XLSX files. . Exercise 4\n",
    "\n",
    "Pandas documentation: https://pandas.pydata.org/docs/index.html\n",
    "\n",
    "Pandas API reference: https://pandas.pydata.org/docs/reference/index.html#api"
   ]
  },
  {
   "cell_type": "code",
   "execution_count": 2,
   "id": "bb4ca998-b77e-49f2-8a15-6aeba961172f",
   "metadata": {},
   "outputs": [],
   "source": [
    "# import pandas library\n",
    "import pandas as pd"
   ]
  },
  {
   "cell_type": "markdown",
   "metadata": {},
   "source": [
    "### Sales Dataset\n",
    "\n",
    "**Source**: Tableau Community\n",
    "\n",
    "https://community.tableau.com/s/question/0D54T00000CWeX8SAL/sample-superstore-sales-excelxls"
   ]
  },
  {
   "cell_type": "code",
   "execution_count": 3,
   "id": "8572419b-ecaa-4fa0-9eb4-2dae490155ce",
   "metadata": {},
   "outputs": [],
   "source": [
    "# Load XLS file (from local filesystem)\n",
    "df = pd.read_excel(\"../datasets/sample_superstore.xls\", \"Orders\")"
   ]
  },
  {
   "cell_type": "code",
   "execution_count": 5,
   "metadata": {},
   "outputs": [],
   "source": [
    "# Load XLS file (from GitHub repo)\n",
    "url = \"https://github.com/bigdatawirtz/sistemas-bigdata-2023/raw/main/datasets/sample_superstore.xls\"\n",
    "df = pd.read_excel(url,\"Orders\")"
   ]
  },
  {
   "cell_type": "code",
   "execution_count": null,
   "id": "63b12247-f172-4686-964d-7db76ab1c6c0",
   "metadata": {},
   "outputs": [],
   "source": [
    "# show DataFrame\n",
    "df"
   ]
  },
  {
   "cell_type": "code",
   "execution_count": null,
   "id": "40fd0526-e731-42c5-97ff-726d0add7805",
   "metadata": {},
   "outputs": [],
   "source": [
    "# Show the 3 first rows\n",
    "df.head(3)"
   ]
  },
  {
   "cell_type": "code",
   "execution_count": null,
   "id": "256f99f2-65f7-4e16-9c77-900b385c6ba9",
   "metadata": {},
   "outputs": [],
   "source": [
    "# Show 5 random rows\n",
    "df.sample(5)"
   ]
  },
  {
   "cell_type": "code",
   "execution_count": null,
   "id": "e46908cc-8391-4af9-82f8-1914adac7416",
   "metadata": {},
   "outputs": [],
   "source": [
    "# From the last 10 rows, show the 5 first ones\n",
    "df.iloc[-10:].head(5)"
   ]
  },
  {
   "cell_type": "code",
   "execution_count": null,
   "id": "969a5f6a-8318-4dab-a0c5-6e2439e7b4a8",
   "metadata": {},
   "outputs": [],
   "source": [
    "# Show 3 random rows from the first 50 ones\n",
    "df.iloc[0:50].sample(3)"
   ]
  },
  {
   "cell_type": "code",
   "execution_count": 15,
   "id": "45cb3e2c-a892-4e16-b8fd-f4fc8205eb57",
   "metadata": {},
   "outputs": [
    {
     "name": "stdout",
     "output_type": "stream",
     "text": [
      "<class 'pandas.core.frame.DataFrame'>\n",
      "RangeIndex: 9994 entries, 0 to 9993\n",
      "Data columns (total 21 columns):\n",
      " #   Column         Non-Null Count  Dtype         \n",
      "---  ------         --------------  -----         \n",
      " 0   Row ID         9994 non-null   int64         \n",
      " 1   Order ID       9994 non-null   object        \n",
      " 2   Order Date     9994 non-null   datetime64[ns]\n",
      " 3   Ship Date      9994 non-null   datetime64[ns]\n",
      " 4   Ship Mode      9994 non-null   object        \n",
      " 5   Customer ID    9994 non-null   object        \n",
      " 6   Customer Name  9994 non-null   object        \n",
      " 7   Segment        9994 non-null   object        \n",
      " 8   Country        9994 non-null   object        \n",
      " 9   City           9994 non-null   object        \n",
      " 10  State          9994 non-null   object        \n",
      " 11  Postal Code    9994 non-null   int64         \n",
      " 12  Region         9994 non-null   object        \n",
      " 13  Product ID     9994 non-null   object        \n",
      " 14  Category       9994 non-null   object        \n",
      " 15  Sub-Category   9994 non-null   object        \n",
      " 16  Product Name   9994 non-null   object        \n",
      " 17  Sales          9994 non-null   float64       \n",
      " 18  Quantity       9994 non-null   int64         \n",
      " 19  Discount       9994 non-null   float64       \n",
      " 20  Profit         9994 non-null   float64       \n",
      "dtypes: datetime64[ns](2), float64(3), int64(3), object(13)\n",
      "memory usage: 1.6+ MB\n"
     ]
    }
   ],
   "source": [
    "# Show info about column data types\n",
    "df.info()"
   ]
  },
  {
   "cell_type": "code",
   "execution_count": null,
   "id": "98de42cb-974f-4adc-89f7-71e56b687742",
   "metadata": {},
   "outputs": [],
   "source": [
    "# Show the next info #TODO\n",
    "#\n",
    "# zip code type: \n",
    "#\n",
    "# Discount type: \n",
    "#\n",
    "# Country data type: "
   ]
  },
  {
   "cell_type": "code",
   "execution_count": null,
   "id": "1568ab57-246a-4eb4-bfa9-66966e407ff5",
   "metadata": {},
   "outputs": [],
   "source": [
    "# Show column names\n",
    "df.columns"
   ]
  },
  {
   "cell_type": "code",
   "execution_count": 18,
   "id": "9716fff3-ec1d-4cd7-b250-fd1b34de0892",
   "metadata": {},
   "outputs": [],
   "source": [
    "# Select and show 5 different random cities\n",
    "\n",
    "#TODO"
   ]
  },
  {
   "cell_type": "code",
   "execution_count": 20,
   "id": "cc77ad05-d220-4d2e-acd3-c2097e30e6b2",
   "metadata": {},
   "outputs": [
    {
     "data": {
      "text/plain": [
       "array(['United States'], dtype=object)"
      ]
     },
     "execution_count": 20,
     "metadata": {},
     "output_type": "execute_result"
    }
   ],
   "source": [
    "# Show the different countries that appear in the data\n",
    "df.Country.unique()"
   ]
  },
  {
   "cell_type": "code",
   "execution_count": 6,
   "id": "f870fc88-4786-41e0-bf02-13195b9d3b68",
   "metadata": {},
   "outputs": [
    {
     "data": {
      "text/plain": [
       "array(['Furniture', 'Office Supplies', 'Technology'], dtype=object)"
      ]
     },
     "execution_count": 6,
     "metadata": {},
     "output_type": "execute_result"
    }
   ],
   "source": [
    "# Show the different categories\n",
    "df.Category.unique()"
   ]
  },
  {
   "cell_type": "code",
   "execution_count": null,
   "id": "3189f880-e560-4a3b-b068-bb28e4aeefde",
   "metadata": {},
   "outputs": [],
   "source": [
    "# Select client id, name and city\n",
    "\n",
    "df[[\"Customer ID\",\"Customer Name\",\"City\"]]"
   ]
  },
  {
   "cell_type": "code",
   "execution_count": null,
   "id": "a267f569-bfc0-460f-add0-20e7babf8abe",
   "metadata": {},
   "outputs": [],
   "source": [
    "# Select Order ID (as Dataframe)\n",
    "order_id = df[[\"Order ID\"]] #CON DOBLE CORCHETE ES DATAFRAME // CON UNO ES UNA SERIE\n",
    "order_id"
   ]
  },
  {
   "cell_type": "code",
   "execution_count": 19,
   "id": "fb700035-1c66-41f8-be04-27f774c37b59",
   "metadata": {},
   "outputs": [
    {
     "name": "stdout",
     "output_type": "stream",
     "text": [
      "Elements in series region 9994\n"
     ]
    }
   ],
   "source": [
    "# Count elements in Series \"Region\"\n",
    "region_count = df[\"Region\"].count()\n",
    "\n",
    "print(f\"Elements in series region: {(region_count)}\")"
   ]
  },
  {
   "cell_type": "code",
   "execution_count": null,
   "id": "91272c69-196c-46e7-83a3-34cc5e82fcc6",
   "metadata": {},
   "outputs": [],
   "source": [
    "# Show elementes from \"Region\" Series\n",
    "df[\"Region\"]"
   ]
  },
  {
   "cell_type": "code",
   "execution_count": 29,
   "id": "fccba626-823f-4331-8b5c-1f441e95a275",
   "metadata": {},
   "outputs": [
    {
     "data": {
      "text/plain": [
       "4"
      ]
     },
     "execution_count": 29,
     "metadata": {},
     "output_type": "execute_result"
    }
   ],
   "source": [
    "# Count different elements in Series \"Region\"\n",
    "region_unique = df[\"Region\"].unique()\n",
    "len(region_unique)\n"
   ]
  },
  {
   "cell_type": "code",
   "execution_count": null,
   "id": "932db815-3c8f-420a-83c4-abd48df56188",
   "metadata": {},
   "outputs": [],
   "source": [
    "# Create a Series with quantities in each order line and show the result\n",
    "\n",
    "#TODO"
   ]
  },
  {
   "cell_type": "code",
   "execution_count": null,
   "id": "c448b0ae-0692-47b5-b1b5-3e595cdb524f",
   "metadata": {},
   "outputs": [],
   "source": [
    "# Show the lines with quantities greater than 2 (Quantity)\n",
    "quantitygreater2 = df[\"Quantity\"] > 2\n",
    "df[quantitygreater2]"
   ]
  },
  {
   "cell_type": "code",
   "execution_count": null,
   "id": "101f2272-8786-49fb-83c5-e55f382f7711",
   "metadata": {},
   "outputs": [],
   "source": [
    "# Show only the DataFrame lines with subcategory  \"Tables\"  (Sub-Category)\n",
    "tables = df[\"Sub-Category\"] == \"Tables\"\n",
    "df[tables]"
   ]
  },
  {
   "cell_type": "code",
   "execution_count": null,
   "id": "9f54463c-e801-4cf9-8aad-d14fc4bfb5bb",
   "metadata": {},
   "outputs": [],
   "source": [
    "# Show the cities with orders including \"Tables\" //cities con subcategoria table\n",
    "df[df[\"Sub-Category\"] == \"Tables\"].City"
   ]
  },
  {
   "cell_type": "code",
   "execution_count": null,
   "id": "dd508146-0843-4400-b44c-fd92b75ee593",
   "metadata": {},
   "outputs": [],
   "source": [
    "# Create a variable (type Series) of cities with orders including Tables. Show 5 random elements.\n",
    "df[df[\"Sub-Category\"] == \"Tables\"].City.sample(5)"
   ]
  },
  {
   "cell_type": "code",
   "execution_count": null,
   "id": "7028fb28-f6c9-4080-a49c-83e67697700b",
   "metadata": {},
   "outputs": [],
   "source": [
    "# Create a variable (type DataFrame) of cities with orders including Chairs. Show the 3 last elements.\n",
    "chairs = df[df[\"Sub-Category\"] == \"Chairs\"].City.loc[-3:]\n",
    "chairs"
   ]
  },
  {
   "cell_type": "code",
   "execution_count": null,
   "id": "30c72d8a-5e91-44f7-976d-dc9e9b8f9aa6",
   "metadata": {},
   "outputs": [],
   "source": [
    "# Show all the order lines including Phones to 'Los Angeles'\n",
    "#sub-category = phones // city = los angeles\n",
    "\n"
   ]
  },
  {
   "cell_type": "code",
   "execution_count": null,
   "id": "17633cf8-bd5b-48f4-8519-77ed97ad7ba4",
   "metadata": {},
   "outputs": [],
   "source": [
    "# Show 10 random order lines with Phones or Tables\n"
   ]
  },
  {
   "cell_type": "code",
   "execution_count": null,
   "id": "c5ec2bd0-7d1e-4b40-aadb-d3efa74d8836",
   "metadata": {},
   "outputs": [],
   "source": [
    "# Select the second row of the dataframe\n"
   ]
  },
  {
   "cell_type": "code",
   "execution_count": null,
   "id": "628ec5c0-2ba0-4b19-9993-f42b411b8118",
   "metadata": {},
   "outputs": [],
   "source": [
    "# Select the third, seventh and 24 row of the dataset\n"
   ]
  },
  {
   "cell_type": "code",
   "execution_count": null,
   "id": "8f60599c-3839-4ef5-8a90-d5a860747647",
   "metadata": {},
   "outputs": [],
   "source": [
    "# create a dataframe (sales) with the client name, city, product name and quantity from West region\n"
   ]
  },
  {
   "cell_type": "code",
   "execution_count": null,
   "id": "54a00a68-7381-4cdf-bc8f-160b2ceb8ae5",
   "metadata": {},
   "outputs": [],
   "source": [
    "# Select the second row from the previous DataFrame (sales) using position\n"
   ]
  },
  {
   "cell_type": "code",
   "execution_count": null,
   "id": "9937abb9-c1d2-4ff0-ab20-ef84d1afe9d8",
   "metadata": {},
   "outputs": [],
   "source": [
    "# Select the second row from the previous DataFrame (sales) using index\n"
   ]
  },
  {
   "cell_type": "code",
   "execution_count": null,
   "id": "5cbbd14e-30e1-4b28-bb3c-5602e54bbd7f",
   "metadata": {
    "tags": []
   },
   "outputs": [],
   "source": [
    "# Think about what's the best column in the spreadsheet to use it as an index and load the file again in a new DataFrame\n"
   ]
  },
  {
   "cell_type": "code",
   "execution_count": null,
   "id": "8fda73bb-5fc6-4346-8042-94e6fc09290a",
   "metadata": {},
   "outputs": [],
   "source": [
    "# Select the fifth row\n"
   ]
  },
  {
   "cell_type": "code",
   "execution_count": null,
   "id": "0ee468f8-2dd9-454b-a743-4c425399f531",
   "metadata": {},
   "outputs": [],
   "source": [
    "# Select rows from the third to the seventh one\n"
   ]
  },
  {
   "cell_type": "code",
   "execution_count": null,
   "id": "21e54170-f942-4029-b23b-7813e840172d",
   "metadata": {},
   "outputs": [],
   "source": [
    "# Selecdt penultimate row\n"
   ]
  },
  {
   "cell_type": "code",
   "execution_count": null,
   "id": "0fddec11-dd08-47ed-b1d8-492968eff7e2",
   "metadata": {},
   "outputs": [],
   "source": [
    "# Select, give the last 5 rows, all but the last one."
   ]
  },
  {
   "cell_type": "code",
   "execution_count": null,
   "id": "78f93b44-dbbc-43fd-8a08-b2b218d21567",
   "metadata": {},
   "outputs": [],
   "source": [
    "# Depending on what we need, we can use loc or iloc\n",
    "# loc <- work with index/labels\n",
    "# iloc <- work with positions"
   ]
  },
  {
   "cell_type": "code",
   "execution_count": null,
   "id": "cb66817d-e73b-44d9-982c-19d325bc2953",
   "metadata": {},
   "outputs": [],
   "source": [
    "# Write to XLS all the sales in the State of California\n"
   ]
  },
  {
   "cell_type": "code",
   "execution_count": null,
   "id": "e43b8e8c-d4a8-4704-904b-9ed98dff8835",
   "metadata": {},
   "outputs": [],
   "source": [
    "# Give a name to the sheet ('California') \n"
   ]
  },
  {
   "cell_type": "code",
   "execution_count": null,
   "id": "2fde6754-647c-4be7-ad0e-9ceb51a027bf",
   "metadata": {},
   "outputs": [],
   "source": [
    "# Save the sales rows in the west or south. \n",
    "# Save the product name, identifier, quantity and discount. \n",
    "# Save the result in a file sales_WS.xlsx\n",
    "# Try to do it all in a single row\n"
   ]
  }
 ],
 "metadata": {
  "kernelspec": {
   "display_name": "Python 3",
   "language": "python",
   "name": "python3"
  },
  "language_info": {
   "codemirror_mode": {
    "name": "ipython",
    "version": 3
   },
   "file_extension": ".py",
   "mimetype": "text/x-python",
   "name": "python",
   "nbconvert_exporter": "python",
   "pygments_lexer": "ipython3",
   "version": "3.12.0"
  }
 },
 "nbformat": 4,
 "nbformat_minor": 5
}
