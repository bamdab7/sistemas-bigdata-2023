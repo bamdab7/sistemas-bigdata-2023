{
 "cells": [
  {
   "cell_type": "markdown",
   "id": "c2380f29",
   "metadata": {},
   "source": [
    "# Analitycs. Exercise 1"
   ]
  },
  {
   "cell_type": "code",
   "execution_count": 2,
   "id": "1da8a4f9",
   "metadata": {},
   "outputs": [],
   "source": [
    "# Load the data extracted from Narrativa's API on contagions and deaths by Covid\n",
    "# Today the API is not operational\n",
    "# Use the data saved in .csv\n",
    "# datos_covid2021_3paises.csv"
   ]
  },
  {
   "cell_type": "code",
   "execution_count": 3,
   "id": "1131eb22-8044-4182-b3a4-66a5da1cdfad",
   "metadata": {},
   "outputs": [],
   "source": [
    "# Data downloaded from Narrativa API\n",
    "# - today_new_confirmed\n",
    "# - today_new_deaths\n",
    "# https://api.covid19tracking.narrativa.com/api/"
   ]
  },
  {
   "cell_type": "code",
   "execution_count": 4,
   "id": "5469ce98",
   "metadata": {},
   "outputs": [],
   "source": [
    "# Import libraries"
   ]
  },
  {
   "cell_type": "code",
   "execution_count": 5,
   "id": "8d7bef3b-17cc-482c-b4fa-9e5279fa1ec1",
   "metadata": {},
   "outputs": [],
   "source": [
    "import pandas as pd"
   ]
  },
  {
   "cell_type": "code",
   "execution_count": 6,
   "id": "46777973",
   "metadata": {},
   "outputs": [],
   "source": [
    "# Load dataset"
   ]
  },
  {
   "cell_type": "code",
   "execution_count": 7,
   "id": "a34e454a",
   "metadata": {},
   "outputs": [
    {
     "data": {
      "text/html": [
       "<div>\n",
       "<style scoped>\n",
       "    .dataframe tbody tr th:only-of-type {\n",
       "        vertical-align: middle;\n",
       "    }\n",
       "\n",
       "    .dataframe tbody tr th {\n",
       "        vertical-align: top;\n",
       "    }\n",
       "\n",
       "    .dataframe thead th {\n",
       "        text-align: right;\n",
       "    }\n",
       "</style>\n",
       "<table border=\"1\" class=\"dataframe\">\n",
       "  <thead>\n",
       "    <tr style=\"text-align: right;\">\n",
       "      <th></th>\n",
       "      <th>Unnamed: 0</th>\n",
       "      <th>dia</th>\n",
       "      <th>pais</th>\n",
       "      <th>contaxios</th>\n",
       "      <th>mortes</th>\n",
       "    </tr>\n",
       "  </thead>\n",
       "  <tbody>\n",
       "    <tr>\n",
       "      <th>0</th>\n",
       "      <td>0</td>\n",
       "      <td>2021-01-01</td>\n",
       "      <td>Spain</td>\n",
       "      <td>18047</td>\n",
       "      <td>148</td>\n",
       "    </tr>\n",
       "    <tr>\n",
       "      <th>1</th>\n",
       "      <td>1</td>\n",
       "      <td>2021-01-02</td>\n",
       "      <td>Spain</td>\n",
       "      <td>0</td>\n",
       "      <td>0</td>\n",
       "    </tr>\n",
       "    <tr>\n",
       "      <th>2</th>\n",
       "      <td>2</td>\n",
       "      <td>2021-01-03</td>\n",
       "      <td>Spain</td>\n",
       "      <td>0</td>\n",
       "      <td>0</td>\n",
       "    </tr>\n",
       "    <tr>\n",
       "      <th>3</th>\n",
       "      <td>3</td>\n",
       "      <td>2021-01-04</td>\n",
       "      <td>Spain</td>\n",
       "      <td>30579</td>\n",
       "      <td>241</td>\n",
       "    </tr>\n",
       "    <tr>\n",
       "      <th>4</th>\n",
       "      <td>4</td>\n",
       "      <td>2021-01-05</td>\n",
       "      <td>Spain</td>\n",
       "      <td>23700</td>\n",
       "      <td>352</td>\n",
       "    </tr>\n",
       "    <tr>\n",
       "      <th>...</th>\n",
       "      <td>...</td>\n",
       "      <td>...</td>\n",
       "      <td>...</td>\n",
       "      <td>...</td>\n",
       "      <td>...</td>\n",
       "    </tr>\n",
       "    <tr>\n",
       "      <th>1090</th>\n",
       "      <td>1090</td>\n",
       "      <td>2021-12-27</td>\n",
       "      <td>France</td>\n",
       "      <td>29614</td>\n",
       "      <td>245</td>\n",
       "    </tr>\n",
       "    <tr>\n",
       "      <th>1091</th>\n",
       "      <td>1091</td>\n",
       "      <td>2021-12-28</td>\n",
       "      <td>France</td>\n",
       "      <td>179316</td>\n",
       "      <td>294</td>\n",
       "    </tr>\n",
       "    <tr>\n",
       "      <th>1092</th>\n",
       "      <td>1092</td>\n",
       "      <td>2021-12-29</td>\n",
       "      <td>France</td>\n",
       "      <td>202293</td>\n",
       "      <td>173</td>\n",
       "    </tr>\n",
       "    <tr>\n",
       "      <th>1093</th>\n",
       "      <td>1093</td>\n",
       "      <td>2021-12-30</td>\n",
       "      <td>France</td>\n",
       "      <td>206243</td>\n",
       "      <td>180</td>\n",
       "    </tr>\n",
       "    <tr>\n",
       "      <th>1094</th>\n",
       "      <td>1094</td>\n",
       "      <td>2021-12-31</td>\n",
       "      <td>France</td>\n",
       "      <td>232200</td>\n",
       "      <td>189</td>\n",
       "    </tr>\n",
       "  </tbody>\n",
       "</table>\n",
       "<p>1095 rows × 5 columns</p>\n",
       "</div>"
      ],
      "text/plain": [
       "      Unnamed: 0         dia    pais  contaxios  mortes\n",
       "0              0  2021-01-01   Spain      18047     148\n",
       "1              1  2021-01-02   Spain          0       0\n",
       "2              2  2021-01-03   Spain          0       0\n",
       "3              3  2021-01-04   Spain      30579     241\n",
       "4              4  2021-01-05   Spain      23700     352\n",
       "...          ...         ...     ...        ...     ...\n",
       "1090        1090  2021-12-27  France      29614     245\n",
       "1091        1091  2021-12-28  France     179316     294\n",
       "1092        1092  2021-12-29  France     202293     173\n",
       "1093        1093  2021-12-30  France     206243     180\n",
       "1094        1094  2021-12-31  France     232200     189\n",
       "\n",
       "[1095 rows x 5 columns]"
      ]
     },
     "execution_count": 7,
     "metadata": {},
     "output_type": "execute_result"
    }
   ],
   "source": [
    "df = pd.read_csv(\"../datasets/datos_covid2021_3paises.csv\")\n",
    "df"
   ]
  },
  {
   "cell_type": "code",
   "execution_count": 8,
   "id": "5fba9769-c16f-46ff-9e8b-edfa79b9916b",
   "metadata": {},
   "outputs": [],
   "source": [
    "# 1.Calculate the average number of contagions for 'Spain'."
   ]
  },
  {
   "cell_type": "code",
   "execution_count": 9,
   "id": "dd804d71-33f8-4448-8e2c-a1678ad0b492",
   "metadata": {},
   "outputs": [
    {
     "data": {
      "text/plain": [
       "12977.517808219178"
      ]
     },
     "execution_count": 9,
     "metadata": {},
     "output_type": "execute_result"
    }
   ],
   "source": [
    "contagios_Spain = df[df[\"pais\"] == \"Spain\"][\"contaxios\"]\n",
    "\n",
    "contagios_Spain.mean()"
   ]
  },
  {
   "cell_type": "code",
   "execution_count": 10,
   "id": "dd0da431-d1fc-495e-bba7-b1bf0b4ed34f",
   "metadata": {},
   "outputs": [],
   "source": [
    "# 2.Calculate the average number of deaths per day for 'France'."
   ]
  },
  {
   "cell_type": "code",
   "execution_count": 26,
   "id": "e9d54cd0-fff4-4fa9-b161-6e99d43cb391",
   "metadata": {},
   "outputs": [
    {
     "data": {
      "text/plain": [
       "154.0904109589041"
      ]
     },
     "execution_count": 26,
     "metadata": {},
     "output_type": "execute_result"
    }
   ],
   "source": [
    "df[df[\"pais\"] == \"France\"][\"mortes\"].mean()\n"
   ]
  },
  {
   "cell_type": "code",
   "execution_count": 12,
   "id": "0cde44c4-5ba6-4680-8eee-316300319119",
   "metadata": {},
   "outputs": [],
   "source": [
    "# 3.Calculate the maximum number of cases."
   ]
  },
  {
   "cell_type": "code",
   "execution_count": 24,
   "id": "348bc1c0-e21b-44f1-85d1-70a9cf305e56",
   "metadata": {},
   "outputs": [
    {
     "data": {
      "text/plain": [
       "232200"
      ]
     },
     "execution_count": 24,
     "metadata": {},
     "output_type": "execute_result"
    }
   ],
   "source": [
    "df[\"contaxios\"].max()"
   ]
  },
  {
   "cell_type": "code",
   "execution_count": 14,
   "id": "eb023e90-0ee6-4c4c-bac2-bd87adbc4d90",
   "metadata": {},
   "outputs": [],
   "source": [
    "# 4.Calculate the average number of cases separated by groups."
   ]
  },
  {
   "cell_type": "code",
   "execution_count": 35,
   "id": "bafb1f44-792d-4df7-8c32-f551b58186bb",
   "metadata": {},
   "outputs": [
    {
     "data": {
      "text/plain": [
       "pais\n",
       "France      20638.731507\n",
       "Portugal     2666.789041\n",
       "Spain       12977.517808\n",
       "Name: contaxios, dtype: float64"
      ]
     },
     "execution_count": 35,
     "metadata": {},
     "output_type": "execute_result"
    }
   ],
   "source": [
    "\n",
    "df.groupby(\"pais\")[\"contaxios\"].mean()"
   ]
  },
  {
   "cell_type": "code",
   "execution_count": 15,
   "id": "a4c395aa-0586-46a0-a2ad-b13496673b5a",
   "metadata": {},
   "outputs": [],
   "source": [
    "# 5.Is there a correlation between number of new cases and deaths?"
   ]
  },
  {
   "cell_type": "code",
   "execution_count": 39,
   "id": "754340ea-7d18-4d3b-9e95-66bc61c8ca52",
   "metadata": {},
   "outputs": [
    {
     "data": {
      "text/html": [
       "<div>\n",
       "<style scoped>\n",
       "    .dataframe tbody tr th:only-of-type {\n",
       "        vertical-align: middle;\n",
       "    }\n",
       "\n",
       "    .dataframe tbody tr th {\n",
       "        vertical-align: top;\n",
       "    }\n",
       "\n",
       "    .dataframe thead th {\n",
       "        text-align: right;\n",
       "    }\n",
       "</style>\n",
       "<table border=\"1\" class=\"dataframe\">\n",
       "  <thead>\n",
       "    <tr style=\"text-align: right;\">\n",
       "      <th></th>\n",
       "      <th>Unnamed: 0</th>\n",
       "      <th>contaxios</th>\n",
       "      <th>mortes</th>\n",
       "    </tr>\n",
       "  </thead>\n",
       "  <tbody>\n",
       "    <tr>\n",
       "      <th>Unnamed: 0</th>\n",
       "      <td>1.000000</td>\n",
       "      <td>0.163231</td>\n",
       "      <td>-0.037993</td>\n",
       "    </tr>\n",
       "    <tr>\n",
       "      <th>contaxios</th>\n",
       "      <td>0.163231</td>\n",
       "      <td>1.000000</td>\n",
       "      <td>0.385233</td>\n",
       "    </tr>\n",
       "    <tr>\n",
       "      <th>mortes</th>\n",
       "      <td>-0.037993</td>\n",
       "      <td>0.385233</td>\n",
       "      <td>1.000000</td>\n",
       "    </tr>\n",
       "  </tbody>\n",
       "</table>\n",
       "</div>"
      ],
      "text/plain": [
       "            Unnamed: 0  contaxios    mortes\n",
       "Unnamed: 0    1.000000   0.163231 -0.037993\n",
       "contaxios     0.163231   1.000000  0.385233\n",
       "mortes       -0.037993   0.385233  1.000000"
      ]
     },
     "execution_count": 39,
     "metadata": {},
     "output_type": "execute_result"
    }
   ],
   "source": [
    "df.corr(numeric_only=True)"
   ]
  },
  {
   "cell_type": "code",
   "execution_count": null,
   "id": "5cde3494",
   "metadata": {},
   "outputs": [],
   "source": []
  },
  {
   "cell_type": "code",
   "execution_count": 16,
   "id": "2ce3fa93-abbb-4fe2-8cb4-e8725e4f1469",
   "metadata": {},
   "outputs": [],
   "source": [
    "# 6.If there is a relationship, in which country is it greater?"
   ]
  },
  {
   "cell_type": "code",
   "execution_count": null,
   "id": "18ee16a4-251c-41e9-8ae8-f1ad7898fd7c",
   "metadata": {},
   "outputs": [],
   "source": []
  },
  {
   "cell_type": "code",
   "execution_count": null,
   "metadata": {},
   "outputs": [],
   "source": []
  },
  {
   "cell_type": "code",
   "execution_count": 17,
   "id": "c5d878e3-1a4c-4ced-a6b5-3b15758bc4fe",
   "metadata": {},
   "outputs": [],
   "source": [
    "# 7. What is the median of contagions in Portugal?"
   ]
  },
  {
   "cell_type": "code",
   "execution_count": null,
   "id": "cfd397ce-fff8-4a30-8fa9-0aa4093fc8e1",
   "metadata": {},
   "outputs": [],
   "source": []
  },
  {
   "cell_type": "code",
   "execution_count": 18,
   "id": "f210adca-4ae3-44ce-83e0-e469d32febf2",
   "metadata": {},
   "outputs": [],
   "source": [
    "# 8. What are the values of the Q1 and Q3 percentages for France for the number of infections?"
   ]
  },
  {
   "cell_type": "code",
   "execution_count": null,
   "id": "00dc3dfe-8d73-493e-aed8-f8bd02dbe950",
   "metadata": {},
   "outputs": [],
   "source": []
  },
  {
   "cell_type": "code",
   "execution_count": null,
   "id": "8fc6bdad",
   "metadata": {},
   "outputs": [],
   "source": []
  },
  {
   "cell_type": "code",
   "execution_count": 19,
   "id": "3525da69-544f-4c0b-8863-f846d93d97b9",
   "metadata": {},
   "outputs": [],
   "source": [
    "# 9. How many different values are there for the number of infections in a day in each country?"
   ]
  },
  {
   "cell_type": "code",
   "execution_count": null,
   "id": "5ddb9bc5-0bb7-45c2-9e85-e02e30880b57",
   "metadata": {},
   "outputs": [],
   "source": []
  },
  {
   "cell_type": "code",
   "execution_count": null,
   "id": "baf08aff-76e7-484e-9514-cb53199a1145",
   "metadata": {},
   "outputs": [],
   "source": []
  },
  {
   "cell_type": "code",
   "execution_count": null,
   "id": "d1e1a1c0-271e-4750-8335-c4f1456820ca",
   "metadata": {},
   "outputs": [],
   "source": []
  },
  {
   "cell_type": "code",
   "execution_count": 20,
   "id": "f663df1d-0a4b-4ea0-bc22-ab246e670f79",
   "metadata": {},
   "outputs": [],
   "source": [
    "# 10. Minimum and maximum value of infections per day for each country"
   ]
  },
  {
   "cell_type": "code",
   "execution_count": null,
   "id": "1a3939c3-0962-4864-8e15-f1297739b634",
   "metadata": {},
   "outputs": [],
   "source": []
  },
  {
   "cell_type": "code",
   "execution_count": null,
   "id": "964421af-692e-4295-96bd-0db5a542b474",
   "metadata": {},
   "outputs": [],
   "source": []
  }
 ],
 "metadata": {
  "kernelspec": {
   "display_name": "Python 3 (ipykernel)",
   "language": "python",
   "name": "python3"
  },
  "language_info": {
   "codemirror_mode": {
    "name": "ipython",
    "version": 3
   },
   "file_extension": ".py",
   "mimetype": "text/x-python",
   "name": "python",
   "nbconvert_exporter": "python",
   "pygments_lexer": "ipython3",
   "version": "3.12.1"
  }
 },
 "nbformat": 4,
 "nbformat_minor": 5
}
