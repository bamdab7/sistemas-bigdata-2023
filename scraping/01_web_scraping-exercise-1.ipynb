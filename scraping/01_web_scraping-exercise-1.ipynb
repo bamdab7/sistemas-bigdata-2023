{
 "cells": [
  {
   "cell_type": "markdown",
   "id": "cb50eeb6-ad67-41bd-8248-2b2f20d995a8",
   "metadata": {},
   "source": [
    "# Web scraping. Exercise 2"
   ]
  },
  {
   "cell_type": "code",
   "execution_count": 1,
   "id": "3e951099-50d4-41b6-8c44-40ee3b4e2823",
   "metadata": {},
   "outputs": [],
   "source": [
    "# Import the libraries needed for scrapping"
   ]
  },
  {
   "cell_type": "code",
   "execution_count": null,
   "id": "12e005aa-2187-43a9-8a53-69661f95e524",
   "metadata": {},
   "outputs": [],
   "source": []
  },
  {
   "cell_type": "code",
   "execution_count": null,
   "id": "058ac19a-6d02-433e-ac25-fcc157d7421d",
   "metadata": {},
   "outputs": [],
   "source": [
    "# Example page for scrapping\n",
    "# https://bigdatawirtz.github.io/exemplo-web/web_sample_practica_scraping.html"
   ]
  },
  {
   "cell_type": "code",
   "execution_count": null,
   "id": "81224eed-8044-43f9-bbe0-f32aeb43d473",
   "metadata": {},
   "outputs": [],
   "source": [
    "# Shows the text of the web page\n"
   ]
  },
  {
   "cell_type": "code",
   "execution_count": null,
   "id": "0a9ee591-1871-4c33-93a6-ca75b0cddbac",
   "metadata": {},
   "outputs": [],
   "source": [
    "# Shows the page title\n"
   ]
  },
  {
   "cell_type": "code",
   "execution_count": null,
   "id": "6fdae5b3-d32e-42bc-9b76-6dbe7c8bd859",
   "metadata": {},
   "outputs": [],
   "source": [
    "# Search for the contents of the H1 header\n"
   ]
  },
  {
   "cell_type": "code",
   "execution_count": null,
   "id": "877f6f6f-14b1-4c1a-ba28-b9c7885c4107",
   "metadata": {},
   "outputs": [],
   "source": [
    "# Show the route to the image shown on the web\n"
   ]
  },
  {
   "cell_type": "code",
   "execution_count": null,
   "id": "6c6a3131-821d-4ee6-894f-276d49167e99",
   "metadata": {},
   "outputs": [],
   "source": [
    "# Show the alternative text of the image\n"
   ]
  },
  {
   "cell_type": "code",
   "execution_count": null,
   "id": "8774601b-a57d-4b85-8375-cbb61c0c0d4a",
   "metadata": {},
   "outputs": [],
   "source": [
    "# Displays all the \"strongly\" highlighted texts on the page\n"
   ]
  },
  {
   "cell_type": "code",
   "execution_count": 2,
   "id": "616eefdd-16f3-4a01-a16e-000303a094c0",
   "metadata": {},
   "outputs": [],
   "source": [
    "# Displays all the links on the page\n"
   ]
  },
  {
   "cell_type": "code",
   "execution_count": null,
   "id": "8053ac3d-c6f6-4bd1-b73b-c989c76def49",
   "metadata": {},
   "outputs": [],
   "source": [
    "# Mostra os textos/palabras que teñen enlace \n",
    "# Mostra todos os enlaces presentes na páxina\n"
   ]
  },
  {
   "cell_type": "code",
   "execution_count": null,
   "id": "545f16b1-e8a2-420b-be06-eec647271cd1",
   "metadata": {},
   "outputs": [],
   "source": [
    "# Count the number of paragraphs on the web page"
   ]
  },
  {
   "cell_type": "code",
   "execution_count": null,
   "id": "0e085fbf-ce66-4c41-a79c-b6186689b237",
   "metadata": {},
   "outputs": [],
   "source": [
    "# Show the contents of the last paragraph\n"
   ]
  },
  {
   "cell_type": "code",
   "execution_count": null,
   "id": "7dad572a-3a53-4e97-ab25-a58a34a2cd8f",
   "metadata": {},
   "outputs": [],
   "source": []
  },
  {
   "cell_type": "code",
   "execution_count": null,
   "id": "ed20b829-5f77-45f6-b857-2e0f2abbff27",
   "metadata": {},
   "outputs": [],
   "source": [
    "# NOVA PÁXINA: https://bigdatawirtz.github.io/exemplo-web/08.html\n",
    "# Bótalle unha ollada ao código da páxina\n"
   ]
  },
  {
   "cell_type": "code",
   "execution_count": null,
   "id": "fdd38379-0e0a-4734-9b04-2e1d06bc7850",
   "metadata": {},
   "outputs": [],
   "source": [
    "# Parsear o contido da web\n"
   ]
  },
  {
   "cell_type": "code",
   "execution_count": null,
   "id": "33435700-ca30-44ee-9cc4-822d906c4139",
   "metadata": {},
   "outputs": [],
   "source": [
    "# Mostra o título da páxina\n"
   ]
  },
  {
   "cell_type": "code",
   "execution_count": null,
   "id": "f1972af7-f002-44b4-bf47-2542a1c271d4",
   "metadata": {},
   "outputs": [],
   "source": [
    "# Mostra o charset da páxina, dentro de \"meta\"\n"
   ]
  },
  {
   "cell_type": "code",
   "execution_count": null,
   "id": "1082699b-435f-489f-8fd0-3d218d323e8d",
   "metadata": {},
   "outputs": [],
   "source": [
    "# Conta o número de parágrafos que ten a páxina\n"
   ]
  },
  {
   "cell_type": "code",
   "execution_count": null,
   "id": "35c29cdf-ea0c-44c8-a18c-d0cc137a7d87",
   "metadata": {},
   "outputs": [],
   "source": [
    "# Mostrar o texto no pé do artigo\n"
   ]
  },
  {
   "cell_type": "code",
   "execution_count": null,
   "id": "f0ad1f3e-10dd-486f-9415-2d7d1b7769df",
   "metadata": {},
   "outputs": [],
   "source": [
    "# Mostrar o texto no pé da web\n"
   ]
  },
  {
   "cell_type": "code",
   "execution_count": null,
   "id": "561bebcf-f43a-4ab6-9ca4-74287fe3b273",
   "metadata": {},
   "outputs": [],
   "source": [
    "# Mostrar id da sección\n"
   ]
  }
 ],
 "metadata": {
  "kernelspec": {
   "display_name": "Python 3 (ipykernel)",
   "language": "python",
   "name": "python3"
  },
  "language_info": {
   "codemirror_mode": {
    "name": "ipython",
    "version": 3
   },
   "file_extension": ".py",
   "mimetype": "text/x-python",
   "name": "python",
   "nbconvert_exporter": "python",
   "pygments_lexer": "ipython3",
   "version": "3.7.15"
  }
 },
 "nbformat": 4,
 "nbformat_minor": 5
}
