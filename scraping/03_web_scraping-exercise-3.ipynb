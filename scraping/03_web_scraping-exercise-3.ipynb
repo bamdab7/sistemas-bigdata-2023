{
 "cells": [
  {
   "cell_type": "markdown",
   "id": "29cc9d9d-35c5-4b81-9f74-13acb8bfe25e",
   "metadata": {},
   "source": [
    "# Web scraping. Exercise 3"
   ]
  },
  {
   "cell_type": "code",
   "execution_count": null,
   "id": "63aaf230-7b2b-452b-9182-54a0c59317bd",
   "metadata": {},
   "outputs": [],
   "source": [
    "# 1. Extract the price of bitcoin by scraping the following website\n",
    "# https://awebanalysis.com/es/coin-details/bitcoin/"
   ]
  },
  {
   "cell_type": "code",
   "execution_count": null,
   "id": "ccf6b307-8eff-4589-9de9-5a833601f6f4",
   "metadata": {},
   "outputs": [],
   "source": []
  },
  {
   "cell_type": "code",
   "execution_count": 39,
   "id": "6beb0f88-c984-48e3-a10a-e245435e64c7",
   "metadata": {},
   "outputs": [],
   "source": [
    "# 2.1 Prints the titles of the entries/posts on the main page of \"Menéame\"\n",
    "# https://www.meneame.net/\n"
   ]
  },
  {
   "cell_type": "code",
   "execution_count": null,
   "id": "47247507-23fc-4e6b-9edc-16b9d2cef341",
   "metadata": {},
   "outputs": [],
   "source": []
  },
  {
   "cell_type": "code",
   "execution_count": 64,
   "id": "6c507cd6-1b33-43f2-a333-144fedb54636",
   "metadata": {},
   "outputs": [],
   "source": [
    "# 2.2 Create a dataframe with the name and the link of the news source (elpais.es, abc.com etc)\n"
   ]
  },
  {
   "cell_type": "code",
   "execution_count": null,
   "id": "b7c2f9fd-6976-4401-9f52-d0ddb92f064e",
   "metadata": {},
   "outputs": [],
   "source": []
  },
  {
   "cell_type": "code",
   "execution_count": null,
   "id": "b7c9a187-4c2c-4134-b973-f0ba23f9a053",
   "metadata": {},
   "outputs": [],
   "source": [
    "# 3.1 Print the title and year of the IMDB Top 250 films\n",
    "# https://www.imdb.com/chart/top/\n"
   ]
  },
  {
   "cell_type": "code",
   "execution_count": null,
   "id": "9e4c74bb-89ae-4e10-862c-acebb91c5ec2",
   "metadata": {},
   "outputs": [],
   "source": []
  },
  {
   "cell_type": "code",
   "execution_count": 48,
   "id": "859f9f3f-829e-4e69-8228-018e15db5edb",
   "metadata": {},
   "outputs": [],
   "source": [
    "# 3.2 Create a dataframe with collected data\n"
   ]
  },
  {
   "cell_type": "code",
   "execution_count": null,
   "id": "b7a8b7c0-12b5-46b2-aa56-82574b0f0b45",
   "metadata": {},
   "outputs": [],
   "source": []
  },
  {
   "cell_type": "code",
   "execution_count": null,
   "id": "f54a4c4c",
   "metadata": {},
   "outputs": [],
   "source": [
    "# 3.3 Insert the data from the dataset into a mysql database\n"
   ]
  }
 ],
 "metadata": {
  "kernelspec": {
   "display_name": "Python 3 (ipykernel)",
   "language": "python",
   "name": "python3"
  },
  "language_info": {
   "codemirror_mode": {
    "name": "ipython",
    "version": 3
   },
   "file_extension": ".py",
   "mimetype": "text/x-python",
   "name": "python",
   "nbconvert_exporter": "python",
   "pygments_lexer": "ipython3",
   "version": "3.8.12"
  }
 },
 "nbformat": 4,
 "nbformat_minor": 5
}
