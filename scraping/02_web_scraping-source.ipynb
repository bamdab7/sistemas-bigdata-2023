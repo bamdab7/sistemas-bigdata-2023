{
 "cells": [
  {
   "cell_type": "markdown",
   "id": "cd448bb3",
   "metadata": {},
   "source": [
    "# Web scraping. 2"
   ]
  },
  {
   "cell_type": "code",
   "execution_count": null,
   "id": "706e240f-4638-4b29-85c3-5403dbcdf574",
   "metadata": {},
   "outputs": [],
   "source": [
    "# BeautifulSoup library documentation\n",
    "# https://www.crummy.com/software/BeautifulSoup/bs4/doc/"
   ]
  },
  {
   "cell_type": "code",
   "execution_count": null,
   "id": "936d81d2-f642-4bcc-be44-6f2e4badb250",
   "metadata": {},
   "outputs": [],
   "source": [
    "# Basic libraries\n",
    "import requests\n",
    "from bs4 import BeautifulSoup"
   ]
  },
  {
   "cell_type": "code",
   "execution_count": null,
   "id": "f3c4ef8e-b244-487b-9ffa-0e27e271dce4",
   "metadata": {},
   "outputs": [],
   "source": [
    "# https://bigdatawirtz.github.io/exemplo-web/08.html\n",
    "url = 'https://bigdatawirtz.github.io/exemplo-web/08.html'\n",
    "paxina = requests.get(url)\n",
    "\n",
    "soup = BeautifulSoup(paxina.content,'html.parser')\n",
    "#soup\n",
    "print(soup.prettify())"
   ]
  },
  {
   "cell_type": "code",
   "execution_count": null,
   "id": "ffcd5894-60f9-4c9c-8837-1de4b13b2910",
   "metadata": {},
   "outputs": [],
   "source": [
    "# Show footres\n",
    "# We have two footers (one for the article and other for the web)\n",
    "soup.find_all('footer')"
   ]
  },
  {
   "cell_type": "code",
   "execution_count": null,
   "id": "0d2d014d-7ad8-4075-a58c-7875efa04f6f",
   "metadata": {},
   "outputs": [],
   "source": [
    "# In addition to selecting by tag...\n",
    "# we can also select by class\n",
    "soup.find_all(class_='art')"
   ]
  },
  {
   "cell_type": "code",
   "execution_count": null,
   "id": "e815d80b-5fbd-4df5-8d8c-5b5f6ec50281",
   "metadata": {},
   "outputs": [],
   "source": [
    "# Select by tag and class\n",
    "# Select the footer with 'art' class\n",
    "soup.find_all('footer', class_='art')"
   ]
  },
  {
   "cell_type": "code",
   "execution_count": null,
   "id": "b39e8ece-e247-431a-a23c-0ef23858fdfc",
   "metadata": {},
   "outputs": [],
   "source": [
    "# Select the header with 'art' class\n",
    "soup.find_all('header', class_='art')"
   ]
  },
  {
   "cell_type": "code",
   "execution_count": null,
   "id": "754b82a5-1d0c-4368-804d-dfc17cfff76c",
   "metadata": {},
   "outputs": [],
   "source": [
    "# Select by id\n",
    "# The ids identify elements that are unique on the web -> use find, instead of find_all\n",
    "soup.find(id='main_content')"
   ]
  },
  {
   "cell_type": "code",
   "execution_count": null,
   "id": "43d648ad-c7d6-4aef-9ba7-398c50baa3f8",
   "metadata": {},
   "outputs": [],
   "source": [
    "# Search for \"article\"\n",
    "soup.article"
   ]
  },
  {
   "cell_type": "code",
   "execution_count": null,
   "id": "47822cab-ec27-4d72-a32a-3cecef7744a1",
   "metadata": {},
   "outputs": [],
   "source": [
    "# We can build a list of elements \"child\" or \"inside\" of *article*\n",
    "soup.article.contents"
   ]
  },
  {
   "cell_type": "code",
   "execution_count": null,
   "id": "669f77f0-7120-4c5c-833e-297439eefe8e",
   "metadata": {},
   "outputs": [],
   "source": [
    "\n",
    "# You should delete the \\n to leave only the contents in the list\n",
    "contidos = soup.article.contents\n",
    "while '\\n' in contidos: \n",
    "    contidos.remove('\\n')\n",
    "contidos"
   ]
  },
  {
   "cell_type": "code",
   "execution_count": null,
   "id": "76687441-6202-41fd-912b-a22ede03ac16",
   "metadata": {},
   "outputs": [],
   "source": [
    "# Access to the contents\n",
    "contidos[0]"
   ]
  },
  {
   "cell_type": "code",
   "execution_count": null,
   "id": "e875e146-b319-4719-b72d-7adead406d0e",
   "metadata": {},
   "outputs": [],
   "source": [
    "contidos[1]"
   ]
  },
  {
   "cell_type": "code",
   "execution_count": null,
   "id": "a2a71943-f79e-4cf3-b5e0-6bf2f4f8c566",
   "metadata": {},
   "outputs": [],
   "source": [
    "contidos[1].contents"
   ]
  },
  {
   "attachments": {},
   "cell_type": "markdown",
   "id": "f4c70a27-614b-4823-9f05-cbd0a89bc319",
   "metadata": {},
   "source": [
    "## Table Scraping\n",
    "\n",
    "The information that we are interested in downloading is in tables and our objective is to import them into Pandas tables. This conversion usually requires the manipulation of the text, numbers and data contained in the original táboa.\n",
    "\n",
    "The typical structure of a table in `html` is:\n",
    "\n",
    "```\n",
    "<table>\n",
    "    <thead>\n",
    "        <tr>\n",
    "            <th>Columna A</th>\n",
    "            <th>Columna B</th>\n",
    "        </tr>\n",
    "    </thead>\n",
    "    <tbody>\n",
    "        <tr>\n",
    "            <td>A1</td>\n",
    "            <td>B1</td>\n",
    "        </tr>\n",
    "        <tr>\n",
    "            <td>A2</td>\n",
    "            <td>B2</td>\n",
    "        </tr>\n",
    "    </tbody>\n",
    "</table>   \n",
    "```"
   ]
  },
  {
   "cell_type": "code",
   "execution_count": null,
   "id": "ed8503e4-c74e-4cce-9af5-cd63d1826785",
   "metadata": {},
   "outputs": [],
   "source": [
    "# https://bigdatawirtz.github.io/exemplo-web/taboa_simple.html\n",
    "url = 'https://bigdatawirtz.github.io/exemplo-web/taboa_simple.html'\n",
    "paxina = requests.get(url)\n",
    "\n",
    "soup = BeautifulSoup(paxina.content,'html.parser')\n",
    "print(soup.prettify())"
   ]
  },
  {
   "cell_type": "code",
   "execution_count": null,
   "id": "6e38a0d0-017c-4996-b0e2-1467ee123e8f",
   "metadata": {},
   "outputs": [],
   "source": [
    "#soup.find_all('tr')\n",
    "lista_filas = soup.find_all('tr')\n",
    "\n",
    "#lista_filas[0]\n",
    "#lista_filas[0].find_all('td')\n",
    "fila_0 = lista_filas[0].find_all('td')\n",
    "\n",
    "for cela in fila_0:\n",
    "    print(cela.text)\n",
    "    \n",
    "fila_1 = lista_filas[1].find_all('td')\n",
    "fila_1\n",
    "\n",
    "for cela in fila_1:\n",
    "    print(cela.text)\n"
   ]
  },
  {
   "cell_type": "code",
   "execution_count": null,
   "id": "fde94e9d-db27-4ce9-a8ca-47e4bb8506c2",
   "metadata": {},
   "outputs": [],
   "source": [
    "lista_filas = soup.find_all('tr')\n",
    "\n",
    "for fila in lista_filas:\n",
    "    lista_celas = fila.find_all('td')\n",
    "    for cela in lista_celas:\n",
    "        print(cela.text)"
   ]
  },
  {
   "cell_type": "code",
   "execution_count": null,
   "id": "4c526936-6a1d-4e85-bb50-bee7a18791cf",
   "metadata": {},
   "outputs": [],
   "source": [
    "taboa = []\n",
    "temp_fila = []\n",
    "\n",
    "lista_filas = soup.find_all('tr')\n",
    "\n",
    "for fila in lista_filas:\n",
    "    lista_celas = fila.find_all('td')    \n",
    "    for cela in lista_celas:\n",
    "        #print(cela.text)\n",
    "        temp_fila.append(cela.text)\n",
    "    taboa.append(temp_fila)\n",
    "    temp_fila = []\n",
    "taboa"
   ]
  },
  {
   "cell_type": "code",
   "execution_count": null,
   "id": "b2e57196-6a02-426f-924f-3115403310f0",
   "metadata": {},
   "outputs": [],
   "source": [
    "import pandas as pd\n",
    "df = pd.DataFrame(taboa)\n",
    "df"
   ]
  },
  {
   "cell_type": "code",
   "execution_count": null,
   "id": "5543d554-a9f6-4a64-a70c-981f88c46eac",
   "metadata": {},
   "outputs": [],
   "source": [
    "#df.rename(columns=pd.Series(['mes','temperatura']))\n",
    "#df.iloc[0]\n",
    "#df.rename(columns=df.iloc[0])\n",
    "#df.drop(1)\n",
    "#df.rename(columns=df.iloc[0]).drop(0)\n",
    "df = df.rename(columns=df.iloc[0]).drop(0)"
   ]
  },
  {
   "cell_type": "code",
   "execution_count": null,
   "id": "49a1357a-dc58-40ed-8058-cd9df245598e",
   "metadata": {},
   "outputs": [],
   "source": [
    "df"
   ]
  },
  {
   "cell_type": "code",
   "execution_count": null,
   "id": "aa30b39f-94b4-427c-b06a-17792318d042",
   "metadata": {},
   "outputs": [],
   "source": [
    "#df.set_index('Mes')\n",
    "df = df.set_index('Mes')"
   ]
  },
  {
   "cell_type": "code",
   "execution_count": null,
   "id": "9d119601-68c4-49e2-a74f-2f8999c1b889",
   "metadata": {},
   "outputs": [],
   "source": [
    "df"
   ]
  },
  {
   "cell_type": "code",
   "execution_count": null,
   "id": "d2c288f8-2487-4bcb-9b76-b047c65bac9b",
   "metadata": {},
   "outputs": [],
   "source": [
    "# https://bigdatawirtz.github.io/exemplo-web/05.html\n",
    "url = 'https://bigdatawirtz.github.io/exemplo-web/05.html'\n",
    "paxina = requests.get(url)\n",
    "\n",
    "soup = BeautifulSoup(paxina.content,'html.parser')\n",
    "print(soup.prettify())"
   ]
  },
  {
   "cell_type": "code",
   "execution_count": null,
   "id": "613f56cf-68ac-4938-b721-c50e06e49d37",
   "metadata": {},
   "outputs": [],
   "source": [
    "# Locate the table\n",
    "taboa_gastos = soup.find('table')\n",
    "taboa_gastos"
   ]
  },
  {
   "cell_type": "code",
   "execution_count": null,
   "id": "8e7d44d5-994c-4bfe-9676-3df3c7c34ade",
   "metadata": {},
   "outputs": [],
   "source": [
    "# p.ex: access to an elemento of the table header\n",
    "taboa_gastos.find('th').text\n"
   ]
  },
  {
   "cell_type": "code",
   "execution_count": null,
   "id": "b212ca89-1956-468d-801d-e899f663353f",
   "metadata": {},
   "outputs": [],
   "source": [
    "lista = []\n",
    "temp_lista = []\n",
    "\n",
    "for fila in taboa_gastos.find_all('tr'):\n",
    "    for linha in fila.find_all(['td','th']): #we can search for two elements at the same time\n",
    "        temp_lista.append(linha.text)\n",
    "    lista.append(temp_lista)\n",
    "    temp_lista = []\n",
    "    \n",
    "lista"
   ]
  },
  {
   "cell_type": "code",
   "execution_count": null,
   "id": "ff28ffbb-6fc6-4fab-a4e6-41f842944da3",
   "metadata": {},
   "outputs": [],
   "source": [
    "import pandas as pd"
   ]
  },
  {
   "cell_type": "code",
   "execution_count": null,
   "id": "b43b65f2-752b-4f7e-8834-a5b8b4755f56",
   "metadata": {},
   "outputs": [],
   "source": [
    "# Create a dataframe\n",
    "df = pd.DataFrame(lista)\n",
    "df"
   ]
  },
  {
   "cell_type": "code",
   "execution_count": null,
   "id": "a1cb8758-0df6-4a78-a4a8-6a6155f667d3",
   "metadata": {},
   "outputs": [],
   "source": [
    "# Create a dataframe and adjust headers\n",
    "df = pd.DataFrame(lista)\n",
    "df = df.rename(columns=df.iloc[0]).drop(0)\n",
    "df"
   ]
  },
  {
   "cell_type": "code",
   "execution_count": null,
   "id": "c9f083c7-ecee-478b-9045-038d4636bc10",
   "metadata": {},
   "outputs": [],
   "source": [
    "# Adjust indexes\n",
    "df.set_index('Mes')"
   ]
  },
  {
   "cell_type": "code",
   "execution_count": null,
   "id": "ee65a66d",
   "metadata": {},
   "outputs": [],
   "source": []
  }
 ],
 "metadata": {
  "kernelspec": {
   "display_name": "systems",
   "language": "python",
   "name": "python3"
  },
  "language_info": {
   "codemirror_mode": {
    "name": "ipython",
    "version": 3
   },
   "file_extension": ".py",
   "mimetype": "text/x-python",
   "name": "python",
   "nbconvert_exporter": "python",
   "pygments_lexer": "ipython3",
   "version": "3.7.15"
  },
  "vscode": {
   "interpreter": {
    "hash": "63eb1e5c3aa5268319f56c3b664e0523445c946ec0f1445e261f1f92702f6b14"
   }
  }
 },
 "nbformat": 4,
 "nbformat_minor": 5
}
