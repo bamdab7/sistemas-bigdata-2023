{
 "cells": [
  {
   "cell_type": "markdown",
   "metadata": {},
   "source": [
    "# Missing values & Duplicades rows\n",
    "\n",
    "Sometimes our data contains duplicate rows or missing data. These alterations can influence our analysis, so they require special treatment.\n",
    "\n",
    "The easiest solution (but not the most convenient) is to eliminate the missing values, but there are other alternatives."
   ]
  },
  {
   "cell_type": "code",
   "execution_count": null,
   "metadata": {},
   "outputs": [],
   "source": [
    "import pandas as pd\n",
    "#import numpy as np"
   ]
  },
  {
   "cell_type": "markdown",
   "metadata": {},
   "source": [
    "### Missing values"
   ]
  },
  {
   "cell_type": "code",
   "execution_count": null,
   "metadata": {},
   "outputs": [],
   "source": [
    "# Ficheiro with numerical data on contamination levels\n",
    "niveis = pd.read_csv('../datasets/niveis_de_contaminacion.csv')\n",
    "niveis.info()"
   ]
  },
  {
   "cell_type": "code",
   "execution_count": null,
   "metadata": {},
   "outputs": [],
   "source": [
    "# We can that there is many missing values"
   ]
  },
  {
   "cell_type": "code",
   "execution_count": null,
   "metadata": {},
   "outputs": [],
   "source": [
    "niveis"
   ]
  },
  {
   "cell_type": "code",
   "execution_count": null,
   "metadata": {},
   "outputs": [],
   "source": [
    "# show number of nulls per column\n",
    "niveis.isnull().sum()"
   ]
  },
  {
   "cell_type": "code",
   "execution_count": null,
   "metadata": {},
   "outputs": [],
   "source": [
    "# we can directly delete all rows that have null values\n",
    "niveis.dropna()"
   ]
  },
  {
   "cell_type": "code",
   "execution_count": null,
   "metadata": {},
   "outputs": [],
   "source": [
    "# Number of dropped rows\n",
    "niveis.shape[0] - niveis.dropna().shape[0]\n"
   ]
  },
  {
   "cell_type": "code",
   "execution_count": null,
   "metadata": {},
   "outputs": [],
   "source": [
    "# inplace option makes changes permanent\n",
    "niveis.dropna(inplace=True)\n",
    "niveis"
   ]
  },
  {
   "cell_type": "code",
   "execution_count": null,
   "metadata": {},
   "outputs": [],
   "source": [
    "# File with categorical data about purchase data\n",
    "compras = pd.read_csv('../datasets/patron_de_compra_con_null.csv', index_col=0)\n",
    "compras.info()"
   ]
  },
  {
   "cell_type": "code",
   "execution_count": null,
   "metadata": {},
   "outputs": [],
   "source": [
    "compras"
   ]
  },
  {
   "cell_type": "code",
   "execution_count": null,
   "metadata": {},
   "outputs": [],
   "source": [
    "# How to delete rows with missing values\n",
    "compras_sen_nulos = compras.dropna()\n",
    "compras_sen_nulos"
   ]
  },
  {
   "cell_type": "code",
   "execution_count": null,
   "metadata": {},
   "outputs": [],
   "source": [
    "# By default dropna() is applied to the rows.\n",
    "# If we want to eliminate the columns with null values, we indicate axis 1\n",
    "compras_sen_columnas_null = compras.dropna(axis=1)\n",
    "compras_sen_columnas_null"
   ]
  },
  {
   "cell_type": "code",
   "execution_count": null,
   "metadata": {},
   "outputs": [],
   "source": [
    "# Losing a column can mean too much, so we can set a limit or limit to eliminate or maintain the column.\n",
    "# Thresh/Threshold indicates the minimum number of NOT NULL values I need to maintain the column.\n",
    "compras_sen_algunhas_columnas = compras.dropna(axis=1, thresh=12)\n",
    "compras_sen_algunhas_columnas\n",
    "## modify threshold"
   ]
  },
  {
   "cell_type": "markdown",
   "metadata": {},
   "source": [
    "### Detection of duplicate rows"
   ]
  },
  {
   "cell_type": "code",
   "execution_count": null,
   "metadata": {},
   "outputs": [],
   "source": [
    "# Ficheiro with numerical data on contamination levels\n",
    "niveis = pd.read_csv('../datasets/niveis_de_contaminacion.csv')\n",
    "niveis.info()"
   ]
  },
  {
   "cell_type": "code",
   "execution_count": null,
   "metadata": {},
   "outputs": [],
   "source": [
    "# 'Duplicated' function returns a series indicating the duplicated rows.\n",
    "niveis.duplicated()"
   ]
  },
  {
   "cell_type": "code",
   "execution_count": null,
   "metadata": {},
   "outputs": [],
   "source": [
    "niveis[niveis.duplicated()]"
   ]
  },
  {
   "cell_type": "code",
   "execution_count": null,
   "metadata": {},
   "outputs": [],
   "source": [
    "# To remove duplicate rows there is a specific function: drop_duplicates\n",
    "niveis.drop_duplicates()"
   ]
  },
  {
   "cell_type": "code",
   "execution_count": null,
   "metadata": {},
   "outputs": [],
   "source": [
    "niveis_novo = niveis.drop_duplicates()"
   ]
  },
  {
   "cell_type": "code",
   "execution_count": null,
   "metadata": {},
   "outputs": [],
   "source": [
    "# I can also eliminate rows with little useful data (see line 32)\n",
    "niveis_novo = niveis_novo.dropna(thresh=8)"
   ]
  },
  {
   "cell_type": "code",
   "execution_count": null,
   "metadata": {},
   "outputs": [],
   "source": [
    "niveis_novo"
   ]
  },
  {
   "cell_type": "code",
   "execution_count": null,
   "metadata": {},
   "outputs": [],
   "source": [
    "# We calculate some statistics on the orixinal data\n",
    "niveis.mean()"
   ]
  },
  {
   "cell_type": "code",
   "execution_count": null,
   "metadata": {},
   "outputs": [],
   "source": [
    "niveis.std()"
   ]
  },
  {
   "cell_type": "code",
   "execution_count": null,
   "metadata": {},
   "outputs": [],
   "source": [
    "niveis.agg(['mean','std'])"
   ]
  },
  {
   "cell_type": "code",
   "execution_count": null,
   "metadata": {},
   "outputs": [],
   "source": [
    "# We can check the effect that data cleaning has on the calculation of statistics."
   ]
  },
  {
   "cell_type": "code",
   "execution_count": null,
   "metadata": {},
   "outputs": [],
   "source": [
    "niveis_novo.agg(['mean','std'])"
   ]
  },
  {
   "cell_type": "code",
   "execution_count": null,
   "metadata": {},
   "outputs": [],
   "source": [
    "# When missing values appear, we can decide to replace them.\n",
    "# It is important to choose the appropriate technique in each case, because an inadequate replacement can modify other results in an undesired way."
   ]
  },
  {
   "cell_type": "code",
   "execution_count": null,
   "metadata": {},
   "outputs": [],
   "source": [
    "# Some replacement techniques (with numerical values)\n",
    "# - replacement with fixed value (zero?)\n",
    "# - replacement with column median\n",
    "# - replacement with median of column"
   ]
  },
  {
   "cell_type": "code",
   "execution_count": null,
   "metadata": {},
   "outputs": [],
   "source": [
    "# We load again the contamination data\n",
    "niveis = pd.read_csv('../datasets/niveis_de_contaminacion.csv')"
   ]
  },
  {
   "cell_type": "code",
   "execution_count": null,
   "metadata": {},
   "outputs": [],
   "source": [
    "niveis.info()"
   ]
  },
  {
   "cell_type": "code",
   "execution_count": null,
   "metadata": {},
   "outputs": [],
   "source": [
    "niveis"
   ]
  },
  {
   "cell_type": "code",
   "execution_count": null,
   "metadata": {},
   "outputs": [],
   "source": [
    "# Replacement of missing values with a fixed value"
   ]
  },
  {
   "cell_type": "code",
   "execution_count": null,
   "metadata": {},
   "outputs": [],
   "source": [
    "# replacement with zero -> function \"fillna()\".\n",
    "niveis_zero = niveis.fillna(0)\n",
    "niveis_zero"
   ]
  },
  {
   "cell_type": "code",
   "execution_count": null,
   "metadata": {},
   "outputs": [],
   "source": [
    "# replacement coa average of each column\n",
    "niveis_media = niveis.apply(lambda x: x.fillna(x.mean()), axis=0)\n",
    "# axis = 0 <- columns\n",
    "# x.mean() <- column mean\n",
    "# x.fillna() <- replace null values\n",
    "# lambda function is applied to columns(x)\n",
    "niveis_media"
   ]
  },
  {
   "cell_type": "code",
   "execution_count": null,
   "metadata": {},
   "outputs": [],
   "source": [
    "# replacement with the average of each column\n",
    "niveis_mediana = niveis.apply(lambda x: x.fillna(x.median()), axis=0)\n",
    "niveis_mediana"
   ]
  },
  {
   "cell_type": "code",
   "execution_count": null,
   "metadata": {},
   "outputs": [],
   "source": [
    "# File with categorical data about purchase data\n",
    "compras = pd.read_csv('../datasets/patron_de_compra_con_null.csv', index_col=0)\n",
    "compras.info()"
   ]
  },
  {
   "cell_type": "code",
   "execution_count": null,
   "metadata": {},
   "outputs": [],
   "source": [
    "compras"
   ]
  },
  {
   "cell_type": "code",
   "execution_count": null,
   "metadata": {},
   "outputs": [],
   "source": [
    "# With which values to resubmit categorical data?\n",
    "# - Unknown\n",
    "# - Previous or next row values"
   ]
  },
  {
   "cell_type": "code",
   "execution_count": null,
   "metadata": {},
   "outputs": [],
   "source": [
    "compras.Profesion.fillna('Descoñecido', inplace=True)\n",
    "compras"
   ]
  },
  {
   "cell_type": "code",
   "execution_count": null,
   "metadata": {},
   "outputs": [],
   "source": [
    "# replacement with values from the previous row\n",
    "compras_anterior = compras.fillna(method='ffill')\n",
    "compras_anterior"
   ]
  },
  {
   "cell_type": "code",
   "execution_count": null,
   "metadata": {},
   "outputs": [],
   "source": [
    "# replacement with values from the following row\n",
    "compras_seguinte = compras.fillna(method='bfill')\n",
    "compras_seguinte\n",
    "# watch out for the last row!"
   ]
  },
  {
   "cell_type": "code",
   "execution_count": null,
   "metadata": {},
   "outputs": [],
   "source": []
  }
 ],
 "metadata": {
  "interpreter": {
   "hash": "2eaf50c46cca8d47f8fbdccf847348d8678fdaff72e1c7be6ae8fbe014f877f9"
  },
  "kernelspec": {
   "display_name": "Python 3.8.12 ('SistemasBigData')",
   "language": "python",
   "name": "python3"
  },
  "language_info": {
   "codemirror_mode": {
    "name": "ipython",
    "version": 3
   },
   "file_extension": ".py",
   "mimetype": "text/x-python",
   "name": "python",
   "nbconvert_exporter": "python",
   "pygments_lexer": "ipython3",
   "version": "3.7.15"
  },
  "orig_nbformat": 4
 },
 "nbformat": 4,
 "nbformat_minor": 2
}
