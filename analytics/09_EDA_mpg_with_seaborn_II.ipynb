{
 "cells": [
  {
   "cell_type": "markdown",
   "metadata": {},
   "source": [
    "### EDA - auto+mpg - Parte II"
   ]
  },
  {
   "cell_type": "code",
   "execution_count": null,
   "metadata": {},
   "outputs": [],
   "source": [
    "# Exemplo EDA sobre o dataset de datos de coches\n",
    "# https://www.datafied.world/eda-on-mpg-data-using-seaborn-192"
   ]
  },
  {
   "cell_type": "code",
   "execution_count": null,
   "metadata": {},
   "outputs": [],
   "source": [
    "import numpy as np # linear algebra\n",
    "import pandas as pd # data processing, CSV file I/O (e.g. pd.read_csv)\n",
    "import seaborn as sns\n",
    "import matplotlib.pyplot as plt"
   ]
  },
  {
   "cell_type": "code",
   "execution_count": null,
   "metadata": {},
   "outputs": [],
   "source": [
    "# 'mpg' é un coñecido dataset con datos de automóbiles que se encontra como exemplo na libraría 'seaborn'\n",
    "# Tamén dispoñible no UCI: Machine Learning Repository\n",
    "# https://archive.ics.uci.edu/ml/datasets/auto+mpg\n",
    "\n",
    "# O repositorio proporciona a seguinte información:\n",
    "# Attribute Information:\n",
    "\n",
    "# 1. mpg: continuous\n",
    "# 2. cylinders: multi-valued discrete\n",
    "# 3. displacement: continuous\n",
    "# 4. horsepower: continuous\n",
    "# 5. weight: continuous\n",
    "# 6. acceleration: continuous\n",
    "# 7. model year: multi-valued discrete\n",
    "# 8. origin: multi-valued discrete\n",
    "# 9. car name: string (unique for each instance)"
   ]
  },
  {
   "cell_type": "code",
   "execution_count": null,
   "metadata": {},
   "outputs": [],
   "source": [
    "df = sns.load_dataset('mpg')"
   ]
  },
  {
   "cell_type": "code",
   "execution_count": null,
   "metadata": {},
   "outputs": [],
   "source": [
    "# Fases do EDA\n",
    "# 1. Preprocesar os datos\n",
    "# 2. EDA sobre atributos categóricos: analizar distribución e relacións con outros categóricos\n",
    "# 3. EDA sobre atributos numéricos: analizar distribució e relacións con outros numéricos\n",
    "# 4. Análise da relación entre categóricos e numéricos"
   ]
  },
  {
   "cell_type": "markdown",
   "metadata": {},
   "source": []
  },
  {
   "cell_type": "code",
   "execution_count": null,
   "metadata": {},
   "outputs": [],
   "source": [
    "# Nesta parte II centrámonos na análise dos atributos numéricos"
   ]
  },
  {
   "cell_type": "code",
   "execution_count": null,
   "metadata": {},
   "outputs": [],
   "source": [
    "# Cargamos o dataset gardado despois da parte do EDA de variables categóricas\n",
    "df = pd.read_csv(\"mpg_cated.csv\")\n",
    "df.head()"
   ]
  },
  {
   "cell_type": "code",
   "execution_count": null,
   "metadata": {},
   "outputs": [],
   "source": [
    "# Na primeira parte definimos cales eran as variables numéricas na variable 'nums'\n",
    "nums = ['mpg', 'displacement', 'horsepower', 'weight', 'acceleration']\n",
    "print(f'numerical variables:  {nums}')"
   ]
  },
  {
   "cell_type": "code",
   "execution_count": null,
   "metadata": {},
   "outputs": [],
   "source": []
  },
  {
   "cell_type": "code",
   "execution_count": null,
   "metadata": {},
   "outputs": [],
   "source": [
    "# As variables están ordenadas no datafram, coas variables numéricas na parte dereita\n",
    "# Podo crear un novo dataframe unicamente para os datos das variables numéricas\n",
    "df_num = df.loc[:, 'mpg':]"
   ]
  },
  {
   "cell_type": "code",
   "execution_count": null,
   "metadata": {},
   "outputs": [],
   "source": [
    "df_num.describe()"
   ]
  },
  {
   "cell_type": "markdown",
   "metadata": {},
   "source": [
    "#### Análise de Distribución dos atributos numéricos"
   ]
  },
  {
   "cell_type": "code",
   "execution_count": null,
   "metadata": {},
   "outputs": [],
   "source": [
    "rows = len(nums)\n",
    "cols = 3\n",
    "\n",
    "fig = plt.figure(1, (18, rows*3))\n",
    "\n",
    "i = 0\n",
    "for col in nums:\n",
    "    \n",
    "    i += 1\n",
    "    ax1 = plt.subplot(rows, cols,i)\n",
    "#     ax1.hist(df[col], alpha=0.6)\n",
    "    sns.distplot(df_num[col])\n",
    "    ax1.set_xlabel(None)\n",
    "    ax1.set_title(f'{col} distribution')\n",
    "    plt.tight_layout()\n",
    "\n",
    "    i += 1\n",
    "    ax2 = plt.subplot(rows, cols,i)\n",
    "    sns.violinplot(df_num[col])\n",
    "    sns.swarmplot(df_num[col], alpha=0.6, color='k')\n",
    "    ax2.set_xlabel(None)\n",
    "    ax2.set_title(f'{col} swarm-violin plot')\n",
    "    plt.tight_layout()\n",
    "\n",
    "    i += 1\n",
    "    ax3 = plt.subplot(rows, cols,i)\n",
    "    sns.boxplot(df_num[col], orient='h', linewidth=2.5)\n",
    "    ax3.set_xlabel(None)\n",
    "    ax3.set_title(f'{col} box plot')\n",
    "    plt.tight_layout()\n",
    "\n"
   ]
  },
  {
   "cell_type": "markdown",
   "metadata": {},
   "source": [
    "**Insights**\n",
    "- 'acceleration' é a única distribución que se axusta á 'Normal' (ou distribución gaussiana) (con algúns outliers)\n",
    "- 'mpg' e 'weight' teñen distribucións que semellan normais, mais sesgadas á dereita, é dicir, concentran maior número de ocorrencias na parte esquerda da \"campana\"\n",
    "- 'displacement' e 'horsepower' semellan lonxe da  normal"
   ]
  },
  {
   "cell_type": "markdown",
   "metadata": {},
   "source": [
    "##### Análise dos outliers"
   ]
  },
  {
   "cell_type": "code",
   "execution_count": null,
   "metadata": {},
   "outputs": [],
   "source": [
    "# Utilizando a formula de tukey\n",
    "\n",
    "def tukey_outliers(x):\n",
    "    q1 = np.percentile(x,25)\n",
    "    q3 = np.percentile(x,75)\n",
    "    \n",
    "    iqr = q3-q1\n",
    "    \n",
    "    min_range = q1 - iqr*1.5\n",
    "    max_range = q3 + iqr*1.5\n",
    "    \n",
    "    outliers = x[(x<min_range) | (x>max_range)]\n",
    "    return outliers\n",
    "\n",
    "for col in nums:\n",
    "    outliers = tukey_outliers(df_num[col])\n",
    "    if len(outliers):\n",
    "        print(f\"* {col} has these tukey outliers,\\n{outliers}\\n\")\n",
    "    else:\n",
    "        print(f\"* {col} doesn't have any tukey outliers.\\n\")"
   ]
  },
  {
   "cell_type": "code",
   "execution_count": null,
   "metadata": {},
   "outputs": [],
   "source": [
    "# Mostra os outliers na columna de 'acceleration'\n",
    "\n",
    "df.iloc[list(tukey_outliers(df_num.acceleration).index)]"
   ]
  },
  {
   "cell_type": "code",
   "execution_count": null,
   "metadata": {},
   "outputs": [],
   "source": [
    "# Mostra os outliers na columna de 'horsepower'\n",
    "\n",
    "df.iloc[list(tukey_outliers(df_num.horsepower).index)]"
   ]
  },
  {
   "cell_type": "markdown",
   "metadata": {},
   "source": [
    "**Insights**\n",
    "- Os outliers en 'acceleration' parecen ser aleatorios, non se detecta ningún patrón.\n",
    "- Os outliers en 'horsepower' non parecen random, teñen cousas en común:\n",
    "  - orixe: todos son de usa\n",
    "  - cylinders: todos teñen 8 cilindros\n",
    "  - mpg_level: todos teñen un low mpg_leve -> moito consumo\n",
    "  - weight: practicamente todos superan os 4000 \n",
    "\n",
    "  - model_year: trátase de modelos dos mais vellos do dataset (inicios dos 70')"
   ]
  },
  {
   "cell_type": "markdown",
   "metadata": {},
   "source": [
    "#### Relación entre os diferentes atributos numéricos"
   ]
  },
  {
   "cell_type": "code",
   "execution_count": null,
   "metadata": {},
   "outputs": [],
   "source": [
    "# Pairplot, de Seaborn, encárgase de crear unha matriz de gráficas cruzando as variables que indiquemos\n",
    "# a través de scatterplots.\n",
    "# Pairplot utiliza a diagonal para pintar unha gráfica de distribución de cada unha das variables\n",
    "# Fíxate na simetría dos gráficos da esquina inferior esquerda e superior directa, pois son o resultado\n",
    "# de mudar os eixos X e Y\n",
    "\n",
    "# Info sobre pairplots\n",
    "# https://towardsdatascience.com/visualizing-data-with-pair-plots-in-python-f228cf529166"
   ]
  },
  {
   "cell_type": "code",
   "execution_count": null,
   "metadata": {},
   "outputs": [],
   "source": [
    "sns.pairplot(data=df, vars=nums, diag_kind='kde', hue='origin',\n",
    "            plot_kws=dict(s=20, edgecolor=\"k\", linewidth=0.1, alpha=0.5), diag_kws=dict(shade=True))\n",
    "plt.show()"
   ]
  },
  {
   "cell_type": "code",
   "execution_count": null,
   "metadata": {},
   "outputs": [],
   "source": [
    "# Visualizamos unha matriz de correlación entre as diferentes variables numéricas, o que nos da unha\n",
    "# rápida impresión das correlacións máis fortes (cores escuros)"
   ]
  },
  {
   "cell_type": "code",
   "execution_count": null,
   "metadata": {},
   "outputs": [],
   "source": [
    "sns.heatmap(df_num.corr(method='spearman'), annot = True, vmin = -1, vmax = 1, center = 0, cmap = 'coolwarm')\n",
    "plt.show()"
   ]
  },
  {
   "cell_type": "markdown",
   "metadata": {},
   "source": [
    "**Insights**\n",
    "- A medida que aumenta o mpg (descende o consumo) o 'displacement', 'horsepower' e 'weight' diminúen, pero acceleración aumenta\n",
    "- O incremento no 'horsepower' aumenta 'diplacement' e 'weight' pero decrementa 'acceleration'\n",
    "- 'Weight' aumenta con 'displacement' pero decrementa 'acceleration'\n",
    "- A medida que aumenta 'acceleration' descende 'displacement'\n",
    "\n",
    "Todos as variables correlacionan, en maior ou menor medida, coas demais"
   ]
  },
  {
   "cell_type": "code",
   "execution_count": null,
   "metadata": {},
   "outputs": [],
   "source": [
    "# Algúns gráficos permiten relacionar variables numéricas engadindos diferentes categorías de xeito simultáneo\n",
    "# Pode utilizarse a cor, o tamaño, ou debuxar varias gráficas atendendo aos valores da categoría"
   ]
  },
  {
   "cell_type": "code",
   "execution_count": null,
   "metadata": {},
   "outputs": [],
   "source": [
    "'''In this plot we analyze the relationship of horsepower & acceleration\n",
    "bifurcated by origin, mpg_level & cylinders in a single plot.'''\n",
    "\n",
    "sns.relplot(x='horsepower', y='acceleration', hue='mpg_level', #style='mpg_level',\n",
    "            size='cylinders', col='origin', data=df, kind='scatter', sizes=(5, 100), alpha=0.6)\n",
    "plt.show()"
   ]
  },
  {
   "cell_type": "markdown",
   "metadata": {},
   "source": [
    "**Insights**\n",
    "- En todas as rexións hai unha correlación negativa entre horsepower e acceleration\n",
    "- Vehículos con low \"mpg_level\" teñen maior horsepower e menor acceleration\n",
    "- Vehículos con máis cilindros teñen maior horsepower e menos acceleration"
   ]
  },
  {
   "cell_type": "code",
   "execution_count": null,
   "metadata": {},
   "outputs": [],
   "source": [
    "'''In this plot we analyze the relationship of weight & horsepower\n",
    "bifurcated by origin, mpg_level & cylinders in a single plot.'''\n",
    "\n",
    "sns.relplot(x='weight', y='horsepower', hue='mpg_level', #style='mpg_level',\n",
    "            size='cylinders', col='origin', data=df, kind='scatter', sizes=(5, 100), alpha=0.6)\n",
    "plt.show()"
   ]
  },
  {
   "cell_type": "markdown",
   "metadata": {},
   "source": [
    "**Insights**\n",
    "- En todas as rexións hai unha correlación positiva entre peso e potencia (weight e horsepower)\n",
    "- Vehículos con baixo mpg teñen mais peso e potencia (weight e horsepower)\n",
    "- Vehículos con máis cilindros teñen mais peso e potencia (weight e horsepower)"
   ]
  },
  {
   "cell_type": "markdown",
   "metadata": {},
   "source": []
  }
 ],
 "metadata": {
  "interpreter": {
   "hash": "916dbcbb3f70747c44a77c7bcd40155683ae19c65e1c03b4aa3499c5328201f1"
  },
  "kernelspec": {
   "display_name": "Python 3.8.10 64-bit",
   "language": "python",
   "name": "python3"
  },
  "language_info": {
   "codemirror_mode": {
    "name": "ipython",
    "version": 3
   },
   "file_extension": ".py",
   "mimetype": "text/x-python",
   "name": "python",
   "nbconvert_exporter": "python",
   "pygments_lexer": "ipython3",
   "version": "3.8.10"
  },
  "orig_nbformat": 4
 },
 "nbformat": 4,
 "nbformat_minor": 2
}
