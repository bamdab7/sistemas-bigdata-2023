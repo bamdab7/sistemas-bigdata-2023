{
 "cells": [
  {
   "cell_type": "markdown",
   "id": "abdca897-ac3a-4686-9484-f8ccf7f37471",
   "metadata": {},
   "source": [
    "#  Pandas information methods\n",
    "\n",
    "Pandas, and especially DataFrames will serve as data support.\n",
    "\n",
    "Series and DataFrames have many methods that give us information about the data they contain.\n",
    "\n",
    "**Series and DataFrame : information methods**\n",
    "- .info\n",
    "- .describe\n",
    "- .count , mean, median, max, std..\n",
    "- .agg\n",
    "- .corr\n",
    "- .grouby\n",
    "\n",
    "**API Reference de Pandas**\n",
    "\n",
    "https://pandas.pydata.org/docs/reference/index.html"
   ]
  },
  {
   "cell_type": "code",
   "execution_count": null,
   "id": "b66def80-18bb-4b40-addd-c53b209e18b5",
   "metadata": {},
   "outputs": [],
   "source": [
    "import pandas as pd"
   ]
  },
  {
   "cell_type": "markdown",
   "id": "aa2fc921",
   "metadata": {},
   "source": [
    "### Dataset Auto MPG\n",
    "Orixe: UC Irvine Machine Learning Repository\n",
    "\n",
    "https://archive.ics.uci.edu/ml/datasets/auto+mpg"
   ]
  },
  {
   "cell_type": "code",
   "execution_count": null,
   "id": "bf903f43-c97a-46c6-b9c7-f5c181a005a2",
   "metadata": {},
   "outputs": [],
   "source": [
    "# The Dataset can be loaded from the Seaborn library, which brings it as a dataset example.\n",
    "# Load de mpg dataset (from seaborn samples)\n",
    "# Seaborn is a statistical visualization library.\n",
    "# Seaborn is based on matplotlib library\n",
    "# https://seaborn.pydata.org/\n",
    "# import seaborn as sns\n",
    "# df = sns.load_dataset('mpg')"
   ]
  },
  {
   "cell_type": "code",
   "execution_count": null,
   "id": "44115673-a0a6-4073-b106-758e73d2f4a9",
   "metadata": {},
   "outputs": [],
   "source": [
    "# Load dataset from local datasets repository\n",
    "df = pd.read_csv('../datasets/auto-mpg.csv')"
   ]
  },
  {
   "cell_type": "code",
   "execution_count": null,
   "id": "0f1eb04a-112c-4d6f-b489-f97c204cb71a",
   "metadata": {},
   "outputs": [],
   "source": [
    "# Show the dataset ; it also shows the number of rows and columns\n",
    "df"
   ]
  },
  {
   "cell_type": "code",
   "execution_count": null,
   "id": "e677f8a9-093b-4213-959e-1b42dbf4866c",
   "metadata": {},
   "outputs": [],
   "source": [
    "# shape shows directly the dimensions of the dataset\n",
    "df.shape"
   ]
  },
  {
   "cell_type": "code",
   "execution_count": null,
   "id": "e6a29ba9-9919-47ae-a0df-60d58bc2b75d",
   "metadata": {},
   "outputs": [],
   "source": [
    "# Show a Series / column also shows some information: number and type of data\n",
    "df.mpg"
   ]
  },
  {
   "cell_type": "code",
   "execution_count": null,
   "id": "39dbe0d7",
   "metadata": {},
   "outputs": [],
   "source": [
    "# show columns and data types\n",
    "df.dtypes"
   ]
  },
  {
   "cell_type": "code",
   "execution_count": null,
   "id": "7e3d28cf-5153-4dee-876f-19417130d99b",
   "metadata": {},
   "outputs": [],
   "source": [
    "# Show Dataframe info:\n",
    "# columns, not null data, data types, memory usage...\n",
    "df.info()"
   ]
  },
  {
   "cell_type": "code",
   "execution_count": null,
   "id": "fff18587-7625-41a5-b264-1fdc08e76fe0",
   "metadata": {},
   "outputs": [],
   "source": [
    "# basic statistical data, only for numeric variables\n",
    "df.describe()"
   ]
  },
  {
   "cell_type": "markdown",
   "id": "7172b089",
   "metadata": {},
   "source": [
    "- count - number of non-zero values for that column\n",
    "- mean - represents a mean value of data.\n",
    "- std (standard deviation) - measure of data dispersion. Mean distance between the data and its average\n",
    "\n",
    "The next 5 values are the PENTANUMERICAL SUMMARY.\n",
    "- They divide the space of values in 4 equal parts (in terms of number of data)\n",
    "- min - minimum value\n",
    "- 25th percentile, first quartile or Q1: from the minimum to the Q1 value are 25% of the data\n",
    "- 50th percentile or MEDIAN: from the minimum to the median 50% of the data are found.\n",
    "- 75th percentile, third quartile or Q3: from the minimum to the Q3 value are 75% of the data\n",
    "- max - maximum value"
   ]
  },
  {
   "cell_type": "code",
   "execution_count": null,
   "id": "5a84afd7-797d-4cac-a5bc-eb9dc133dd08",
   "metadata": {},
   "outputs": [],
   "source": [
    "# We can force the statistics to be from non-numeric data only.\n",
    "# The statistics that are calculated are different: count, unique, top, freq.\n",
    "\n",
    "df.describe(exclude = 'number')"
   ]
  },
  {
   "cell_type": "markdown",
   "id": "369bcd3e",
   "metadata": {},
   "source": [
    "- count - number of non-null values for the column\n",
    "- unique: number of different values\n",
    "- top: most repeated value\n",
    "- freq: number of ocurrences of the most repeated value"
   ]
  },
  {
   "cell_type": "markdown",
   "id": "f25ed5f2",
   "metadata": {},
   "source": [
    "### Categorical vs. numerical variables\n",
    "\n",
    "Simplifying:\n",
    "- **Numerical** variables: those that can be measured == (**quantitative** variables)\n",
    "- **Categorical** variables: those that cannot be measured == (**qualitative** variables)\n",
    "\n",
    "\"describe\" inform us of the number and type of variables in the dataframe (int+float -> numeric , object -> categorical)"
   ]
  },
  {
   "cell_type": "code",
   "execution_count": null,
   "id": "f9eba667-9673-4d86-874c-e7e05451a8f1",
   "metadata": {},
   "outputs": [],
   "source": [
    "# Summary of statistics applied to a Series/column\n",
    "# Has the same meaning as in the case of a DataFrame\n",
    "df.mpg.describe()"
   ]
  },
  {
   "cell_type": "code",
   "execution_count": null,
   "id": "f7777cf3-7ce5-4ae5-a01b-db63cdda3c52",
   "metadata": {},
   "outputs": [],
   "source": [
    "# We can apply a function to the whole dataframe to calculate statistics (applied by columns)."
   ]
  },
  {
   "cell_type": "code",
   "execution_count": null,
   "id": "3b428e56-8f5d-41c0-b726-aa09bb7b194a",
   "metadata": {},
   "outputs": [],
   "source": [
    "df.mean()\n",
    "#df.mean(numeric_only=True)\n"
   ]
  },
  {
   "cell_type": "code",
   "execution_count": null,
   "id": "e232677c-687b-4307-a7bc-8f84a7f33f55",
   "metadata": {},
   "outputs": [],
   "source": [
    "df.median()\n",
    "#df.median(numeric_only=True)"
   ]
  },
  {
   "cell_type": "code",
   "execution_count": null,
   "id": "5bdc4f1f-5bbb-463b-b032-b0583bb930df",
   "metadata": {},
   "outputs": [],
   "source": [
    "df.max()\n",
    "#df.agg('max')"
   ]
  },
  {
   "cell_type": "code",
   "execution_count": null,
   "id": "3dc0a1e2-0579-4fdd-b2fd-e6246b204fba",
   "metadata": {},
   "outputs": [],
   "source": [
    "# We can also apply the functions only to a series/column."
   ]
  },
  {
   "cell_type": "code",
   "execution_count": null,
   "id": "1b3ce531-c7d0-4590-b133-98b1c446923c",
   "metadata": {},
   "outputs": [],
   "source": [
    "df.mpg.mean()\n",
    "#df.mpg.agg('mean')"
   ]
  },
  {
   "cell_type": "code",
   "execution_count": null,
   "id": "d59ce212-1b5d-4841-a225-de75244125c4",
   "metadata": {},
   "outputs": [],
   "source": [
    "# It is possible to apply several functions in a single line (either to the whole dataframe or only to a series/column)."
   ]
  },
  {
   "cell_type": "code",
   "execution_count": null,
   "id": "d4586693-891f-4b71-ae82-27476b1dd8e5",
   "metadata": {},
   "outputs": [],
   "source": [
    "df.agg(['mean', 'std'])"
   ]
  },
  {
   "cell_type": "code",
   "execution_count": null,
   "id": "42ea707d-7342-4bca-8eaf-3f413e86b42c",
   "metadata": {},
   "outputs": [],
   "source": [
    "df.mpg.agg(['mean', 'std'])"
   ]
  },
  {
   "cell_type": "markdown",
   "id": "2866de9a-9356-4afd-8920-f8ee1fbfe964",
   "metadata": {},
   "source": [
    "##### Correlation"
   ]
  },
  {
   "cell_type": "markdown",
   "id": "91daa68d",
   "metadata": {},
   "source": [
    "In our work as data scientists or analysts one of the common objectives can be\n",
    "to find relationships between different variables.\n",
    "But,be careful! because correlation between two variables does not imply causality!\n",
    "\n",
    "**Correlation** measures the relationship between two variables.\n",
    "\n",
    "Correlation does not explain why there is a relationship between variables, it just \n",
    "indicates its existence and gives a measure of its value.\n",
    "\n",
    "Mantra estatístico nº1: **CORRELATION DOES NOT IMPLY CAUSALITY.**"
   ]
  },
  {
   "cell_type": "code",
   "execution_count": null,
   "id": "fbb14a91-e0bb-4627-8236-d61b851846c0",
   "metadata": {},
   "outputs": [],
   "source": [
    "# Apply the correlation calculation to the whole dataframe with the function \"corr\".\n",
    "# The result is a symmetrical table in relation to its diagonal axis.\n",
    "df.corr()"
   ]
  },
  {
   "cell_type": "code",
   "execution_count": null,
   "id": "a889005e-7225-441e-8fce-94fdab11b449",
   "metadata": {},
   "outputs": [],
   "source": [
    "# Some appreciations:\n",
    "# - a diagonal is always 1: a variable has the highest correlation with itself\n",
    "# - weight (weight) and miles per gallon (mpg) have a quite high inverse correlation (-)\n",
    "# - number of cylinders has a high correlation with horsepower\n",
    "# - acceleration has almost nothing to do with model year"
   ]
  },
  {
   "cell_type": "markdown",
   "id": "0c2a33b1-728f-4ff3-93e7-0c50b92c64a0",
   "metadata": {},
   "source": [
    "#### groupby"
   ]
  },
  {
   "cell_type": "code",
   "execution_count": null,
   "id": "35695df1-ea09-4def-a02d-d3884998e841",
   "metadata": {},
   "outputs": [],
   "source": [
    "# The categorical variables can be used to create different groups, on which to apply the same functions that we applied on other variables (mean, max, ...)."
   ]
  },
  {
   "cell_type": "code",
   "execution_count": null,
   "id": "58dcc693-0199-4bcd-a414-ca2f3a7081b5",
   "metadata": {},
   "outputs": [],
   "source": [
    "# First create the group (a kind of special grouped dataframe).\n",
    "# Next, apply the function to the new group."
   ]
  },
  {
   "cell_type": "code",
   "execution_count": null,
   "id": "068f3411-88ec-4095-9f31-c82f53cd99b3",
   "metadata": {},
   "outputs": [],
   "source": [
    "df_groupby_origin = df.groupby('origin')\n",
    "df_groupby_origin.mean()"
   ]
  }
 ],
 "metadata": {
  "kernelspec": {
   "display_name": "systems",
   "language": "python",
   "name": "python3"
  },
  "language_info": {
   "codemirror_mode": {
    "name": "ipython",
    "version": 3
   },
   "file_extension": ".py",
   "mimetype": "text/x-python",
   "name": "python",
   "nbconvert_exporter": "python",
   "pygments_lexer": "ipython3",
   "version": "3.7.15"
  },
  "vscode": {
   "interpreter": {
    "hash": "63eb1e5c3aa5268319f56c3b664e0523445c946ec0f1445e261f1f92702f6b14"
   }
  }
 },
 "nbformat": 4,
 "nbformat_minor": 5
}
