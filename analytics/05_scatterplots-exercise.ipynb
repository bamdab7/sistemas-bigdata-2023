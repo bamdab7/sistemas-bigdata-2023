{
 "cells": [
  {
   "cell_type": "markdown",
   "id": "8cc94896-5d3d-453d-b71e-ad27e7326dba",
   "metadata": {},
   "source": [
    "# Exercise 5. Scatter plots\n",
    "\n",
    "API SEABORN - Scatterplots\n",
    "\n",
    "https://seaborn.pydata.org/generated/seaborn.scatterplot.html\n",
    "\n",
    "Scatter plots are useful for understanding the relationship between two continuous variables.\n",
    "\n",
    "We can add a third categorical variable (with colors, or with another type of graphs).\n",
    "\n",
    "Remember that in bar charts the relationship was between a numerical variable and another categorical variable."
   ]
  },
  {
   "cell_type": "code",
   "execution_count": null,
   "id": "161ec80d-1c6c-4a92-8183-deef4bdf08aa",
   "metadata": {},
   "outputs": [],
   "source": []
  },
  {
   "cell_type": "code",
   "execution_count": null,
   "id": "59fdfec8",
   "metadata": {},
   "outputs": [],
   "source": [
    "# Load the dataset with information of the experiment about candies\n",
    "# https://fivethirtyeight.com/videos/the-ultimate-halloween-candy-power-ranking/\n",
    "# candy.csv"
   ]
  },
  {
   "cell_type": "code",
   "execution_count": null,
   "id": "6ed4ca0f-d7bc-41a2-83c1-0c8bc21d051c",
   "metadata": {},
   "outputs": [],
   "source": [
    "# 1. Load the dataset about candies"
   ]
  },
  {
   "cell_type": "code",
   "execution_count": null,
   "id": "6f4fd5e5",
   "metadata": {},
   "outputs": [],
   "source": []
  },
  {
   "cell_type": "code",
   "execution_count": null,
   "id": "1cb0374c",
   "metadata": {},
   "outputs": [],
   "source": [
    "# 2. Take a look at the dataset"
   ]
  },
  {
   "cell_type": "code",
   "execution_count": null,
   "id": "2b01034c-7f57-4b46-83e8-8f834db9f9a6",
   "metadata": {},
   "outputs": [],
   "source": []
  },
  {
   "cell_type": "markdown",
   "id": "2d0a233c",
   "metadata": {},
   "source": [
    "The dataset contains 83 rows, where each corresponds to a different candy bar. There are 13 columns:\n",
    "\n",
    "\n",
    "- 'competitorname' contains the name of the candy bar.\n",
    "- the next 9 columns (from 'chocolate' to 'pluribus') describe the candy. For instance, rows with chocolate candies have \"Yes\" in the - - 'chocolate' column (and candies without chocolate have \"No\" in the same column).\n",
    "- 'sugarpercent' provides some indication of the amount of sugar, where higher values signify higher sugar content.\n",
    "- 'pricepercent' shows the price per unit, relative to the other candies in the dataset.\n",
    "- 'winpercent' is calculated from the survey results;higher values indicate that the candy was more popular with survey respondents.\n"
   ]
  },
  {
   "cell_type": "code",
   "execution_count": null,
   "id": "67b0a9f3",
   "metadata": {},
   "outputs": [],
   "source": [
    "# 3. What is the most expensive candy (pricepercent)?"
   ]
  },
  {
   "cell_type": "code",
   "execution_count": null,
   "id": "7aa83968",
   "metadata": {},
   "outputs": [],
   "source": []
  },
  {
   "cell_type": "code",
   "execution_count": null,
   "id": "333228e2",
   "metadata": {},
   "outputs": [],
   "source": [
    "# 4. Which are the 5 worst rated sweets (winpercent)?"
   ]
  },
  {
   "cell_type": "code",
   "execution_count": null,
   "id": "465b2a5d",
   "metadata": {},
   "outputs": [],
   "source": []
  },
  {
   "cell_type": "code",
   "execution_count": null,
   "id": "6d93a9bf",
   "metadata": {},
   "outputs": [],
   "source": [
    "# 5. Do people prefer sweets with more sugar?\n",
    "# Investigate the relationship between the two variables."
   ]
  },
  {
   "cell_type": "code",
   "execution_count": null,
   "id": "2334b587-e104-40e6-95cd-14da6a46a074",
   "metadata": {},
   "outputs": [],
   "source": []
  },
  {
   "cell_type": "code",
   "execution_count": null,
   "id": "07e83926",
   "metadata": {},
   "outputs": [],
   "source": []
  },
  {
   "cell_type": "code",
   "execution_count": null,
   "id": "4a2926e5",
   "metadata": {},
   "outputs": [],
   "source": [
    "# 6. Show the strength of the correlation between the two variables, now with a regression line."
   ]
  },
  {
   "cell_type": "code",
   "execution_count": null,
   "id": "29014f08-4485-43ac-b2ae-a9ff3cf24db5",
   "metadata": {},
   "outputs": [],
   "source": []
  },
  {
   "cell_type": "code",
   "execution_count": null,
   "id": "8b7540c8",
   "metadata": {},
   "outputs": [],
   "source": [
    "# 7. Would you say it is a strong or weak correlation?"
   ]
  },
  {
   "cell_type": "code",
   "execution_count": null,
   "id": "c98a23d2",
   "metadata": {},
   "outputs": [],
   "source": []
  },
  {
   "cell_type": "code",
   "execution_count": null,
   "id": "fce69927",
   "metadata": {},
   "outputs": [],
   "source": [
    "# 8. Shows the relationship between price and popularity of a candy.\n",
    "# Nesta ocasión utiliza a variable categórica \"chocolate\"."
   ]
  },
  {
   "cell_type": "code",
   "execution_count": null,
   "id": "1f6c5d91-4083-4d77-81a2-1ee1ab18442a",
   "metadata": {},
   "outputs": [],
   "source": []
  },
  {
   "cell_type": "code",
   "execution_count": null,
   "id": "4c82fdbb",
   "metadata": {},
   "outputs": [],
   "source": [
    "# 9. Do you detect any interesting patterns?"
   ]
  },
  {
   "cell_type": "code",
   "execution_count": null,
   "id": "cc786f98",
   "metadata": {},
   "outputs": [],
   "source": []
  },
  {
   "cell_type": "code",
   "execution_count": null,
   "id": "e3dbc6bb",
   "metadata": {},
   "outputs": [],
   "source": [
    "# 10. Use regression lines to clarify the relationships between these variables taking into account the variable \"chocolate\"."
   ]
  },
  {
   "cell_type": "code",
   "execution_count": null,
   "id": "058a225a-944d-44a7-b892-d3c3123ba196",
   "metadata": {},
   "outputs": [],
   "source": []
  },
  {
   "cell_type": "code",
   "execution_count": null,
   "id": "79d4d10e",
   "metadata": {},
   "outputs": [],
   "source": [
    "# 11. What conclusion do you get from these graphs"
   ]
  },
  {
   "cell_type": "code",
   "execution_count": null,
   "id": "7c78ee81",
   "metadata": {},
   "outputs": [],
   "source": []
  }
 ],
 "metadata": {
  "kernelspec": {
   "display_name": "Python 3 (ipykernel)",
   "language": "python",
   "name": "python3"
  },
  "language_info": {
   "codemirror_mode": {
    "name": "ipython",
    "version": 3
   },
   "file_extension": ".py",
   "mimetype": "text/x-python",
   "name": "python",
   "nbconvert_exporter": "python",
   "pygments_lexer": "ipython3",
   "version": "3.7.15"
  }
 },
 "nbformat": 4,
 "nbformat_minor": 5
}
