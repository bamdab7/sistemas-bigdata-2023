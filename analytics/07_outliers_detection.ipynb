{
 "cells": [
  {
   "cell_type": "markdown",
   "metadata": {},
   "source": [
    "# Outliers detection\n",
    "\n",
    "**What is an outlier**\n",
    "\n",
    "An Outlier is a data item that deviates significantly from the rest of the (so-called normal) objects. Identifying outliers is important in statistics and data analysis because they can have a significant impact on the results of statistical analyses.\n",
    "\n",
    "Outliers can modify the mean (average) and affect measures of central tendency, as well as influence the results of tests of statistical significance.\n",
    "\n",
    "**How Ouliers are caused?**\n",
    "- Measurement errors: Errors in data collection or measurement.\n",
    "- Natural variability: Inherent variability in certain phenomena.\n",
    "- Data entry errors: Human errors during data entry.\n",
    "- Experimental errors: In experimental settings, anomalies may occur due to uncontrolled factors, equipment malfunctions, or unexpected events.\n",
    "- ...\n",
    "\n",
    "**How to identify an outlier**\n",
    "\n",
    "There are many ways to identify outliers:\n",
    "- Z-Score: also called 'standar scores'. Zscore is a measure that indicates how far is the data from the mean.\n",
    "- **IQR** (Inter Quartile Range): the outlier base values are defined based on 1.5*IQR "
   ]
  },
  {
   "cell_type": "code",
   "execution_count": null,
   "metadata": {},
   "outputs": [],
   "source": [
    "import pandas as pd\n",
    "import matplotlib.pyplot as plt\n",
    "import seaborn as sns"
   ]
  },
  {
   "cell_type": "code",
   "execution_count": null,
   "metadata": {},
   "outputs": [],
   "source": [
    "# We load a dataset with example data: length of rivers, in miles.\n",
    "rios = pd.read_csv('../datasets/rios.csv',index_col=0)\n",
    "rios"
   ]
  },
  {
   "cell_type": "code",
   "execution_count": null,
   "metadata": {},
   "outputs": [],
   "source": [
    "# We show the distribution of the data with a histogram.\n",
    "sns.displot(data=rios,x='Millas')"
   ]
  },
  {
   "cell_type": "code",
   "execution_count": null,
   "metadata": {},
   "outputs": [],
   "source": [
    "# We show the data distribution with a boxplot.\n",
    "# The \"whiskers\" indicate the percentages\n",
    "# The points that are left out... are outliers?\n",
    "sns.boxplot(data=rios,x='Millas')"
   ]
  },
  {
   "cell_type": "code",
   "execution_count": null,
   "metadata": {},
   "outputs": [],
   "source": [
    "# Show statistics\n",
    "rios.describe()"
   ]
  },
  {
   "cell_type": "code",
   "execution_count": null,
   "metadata": {},
   "outputs": [],
   "source": [
    "Q1 = rios.Millas.quantile(0.25)\n",
    "Q3 = rios.Millas.quantile(0.75)\n",
    "IQR = Q3 - Q1\n",
    "mediana = rios.Millas.median()\n",
    "minimo = rios.Millas.min()\n",
    "maximo = rios.Millas.max()\n",
    "\n",
    "print(f'minimo: {minimo}')\n",
    "print(f'Q1: {Q1}')\n",
    "print(f'mediana: {mediana}')\n",
    "print(f'Q3: {Q3}')\n",
    "print(f'máximo: {maximo}')\n",
    "print(f'Rango intercuartílico: {IQR}')"
   ]
  },
  {
   "cell_type": "code",
   "execution_count": null,
   "metadata": {},
   "outputs": [],
   "source": [
    "# Calculate the \"whiskers\"\n",
    "BI = (Q1 - 1.5 * IQR)\n",
    "BS = (Q3 + 1.5 * IQR)\n",
    "\n",
    "print(f'Bigote Inferior: {BI}')\n",
    "print(f'Bigote Superior: {BS}')"
   ]
  },
  {
   "cell_type": "code",
   "execution_count": null,
   "metadata": {},
   "outputs": [],
   "source": [
    "# The values of the whiskers are limited to the reach of the minimum and maximum values, which cannot be exceeded."
   ]
  },
  {
   "cell_type": "code",
   "execution_count": null,
   "metadata": {},
   "outputs": [],
   "source": [
    "# The outliers will be the values that are outside the interval that define the whiskers.\n",
    "outliers = rios[(rios.Millas < BI) | (rios.Millas > BS)].sort_values('Millas')\n",
    "outliers"
   ]
  },
  {
   "cell_type": "code",
   "execution_count": null,
   "metadata": {},
   "outputs": [],
   "source": [
    "# We create a new Dataframe without outliers\n",
    "rios_sen_outliers = rios[(rios.Millas >= BI) & (rios.Millas <= BS)].sort_values('Millas')\n",
    "rios_sen_outliers"
   ]
  },
  {
   "cell_type": "code",
   "execution_count": null,
   "metadata": {},
   "outputs": [],
   "source": [
    "# We draw a new boxplot\n",
    "sns.boxplot(data=rios_sen_outliers,x='Millas')"
   ]
  },
  {
   "cell_type": "code",
   "execution_count": null,
   "metadata": {},
   "outputs": [],
   "source": [
    "# We could repeat the process until the outliers disappear completely."
   ]
  },
  {
   "cell_type": "code",
   "execution_count": null,
   "metadata": {},
   "outputs": [],
   "source": []
  }
 ],
 "metadata": {
  "kernelspec": {
   "display_name": "systems",
   "language": "python",
   "name": "python3"
  },
  "language_info": {
   "codemirror_mode": {
    "name": "ipython",
    "version": 3
   },
   "file_extension": ".py",
   "mimetype": "text/x-python",
   "name": "python",
   "nbconvert_exporter": "python",
   "pygments_lexer": "ipython3",
   "version": "3.7.15"
  },
  "orig_nbformat": 4,
  "vscode": {
   "interpreter": {
    "hash": "63eb1e5c3aa5268319f56c3b664e0523445c946ec0f1445e261f1f92702f6b14"
   }
  }
 },
 "nbformat": 4,
 "nbformat_minor": 2
}
