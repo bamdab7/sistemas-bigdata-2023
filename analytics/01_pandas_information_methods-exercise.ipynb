{
 "cells": [
  {
   "cell_type": "markdown",
   "id": "c2380f29",
   "metadata": {},
   "source": [
    "# Analitycs. Exercise 1"
   ]
  },
  {
   "cell_type": "code",
   "execution_count": null,
   "id": "1da8a4f9",
   "metadata": {},
   "outputs": [],
   "source": [
    "# Load the data extracted from Narrativa's API on contagions and deaths by Covid\n",
    "# Today the API is not operational\n",
    "# Use the data saved in .csv\n",
    "# datos_covid2021_3paises.csv"
   ]
  },
  {
   "cell_type": "code",
   "execution_count": null,
   "id": "1131eb22-8044-4182-b3a4-66a5da1cdfad",
   "metadata": {},
   "outputs": [],
   "source": [
    "# Data downloaded from Narrativa API\n",
    "# - today_new_confirmed\n",
    "# - today_new_deaths\n",
    "# https://api.covid19tracking.narrativa.com/api/"
   ]
  },
  {
   "cell_type": "code",
   "execution_count": null,
   "id": "5469ce98",
   "metadata": {},
   "outputs": [],
   "source": [
    "# Import libraries"
   ]
  },
  {
   "cell_type": "code",
   "execution_count": null,
   "id": "8d7bef3b-17cc-482c-b4fa-9e5279fa1ec1",
   "metadata": {},
   "outputs": [],
   "source": []
  },
  {
   "cell_type": "code",
   "execution_count": null,
   "id": "46777973",
   "metadata": {},
   "outputs": [],
   "source": [
    "# Load dataset"
   ]
  },
  {
   "cell_type": "code",
   "execution_count": null,
   "id": "a34e454a",
   "metadata": {},
   "outputs": [],
   "source": []
  },
  {
   "cell_type": "code",
   "execution_count": null,
   "id": "5fba9769-c16f-46ff-9e8b-edfa79b9916b",
   "metadata": {},
   "outputs": [],
   "source": [
    "# 1.Calculate the average number of contagions for 'Spain'."
   ]
  },
  {
   "cell_type": "code",
   "execution_count": null,
   "id": "dd804d71-33f8-4448-8e2c-a1678ad0b492",
   "metadata": {},
   "outputs": [],
   "source": []
  },
  {
   "cell_type": "code",
   "execution_count": null,
   "id": "dd0da431-d1fc-495e-bba7-b1bf0b4ed34f",
   "metadata": {},
   "outputs": [],
   "source": [
    "# 2.Calculate the average number of deaths per day for 'France'."
   ]
  },
  {
   "cell_type": "code",
   "execution_count": null,
   "id": "e9d54cd0-fff4-4fa9-b161-6e99d43cb391",
   "metadata": {},
   "outputs": [],
   "source": []
  },
  {
   "cell_type": "code",
   "execution_count": null,
   "id": "0cde44c4-5ba6-4680-8eee-316300319119",
   "metadata": {},
   "outputs": [],
   "source": [
    "# 3.Calculate the maximum number of cases."
   ]
  },
  {
   "cell_type": "code",
   "execution_count": null,
   "id": "348bc1c0-e21b-44f1-85d1-70a9cf305e56",
   "metadata": {},
   "outputs": [],
   "source": []
  },
  {
   "cell_type": "code",
   "execution_count": null,
   "id": "eb023e90-0ee6-4c4c-bac2-bd87adbc4d90",
   "metadata": {},
   "outputs": [],
   "source": [
    "# 4.Calculate the average number of cases separated by groups."
   ]
  },
  {
   "cell_type": "code",
   "execution_count": null,
   "id": "bafb1f44-792d-4df7-8c32-f551b58186bb",
   "metadata": {},
   "outputs": [],
   "source": []
  },
  {
   "cell_type": "code",
   "execution_count": null,
   "id": "a4c395aa-0586-46a0-a2ad-b13496673b5a",
   "metadata": {},
   "outputs": [],
   "source": [
    "# 5.Is there a correlation between number of new cases and deaths?"
   ]
  },
  {
   "cell_type": "code",
   "execution_count": null,
   "id": "754340ea-7d18-4d3b-9e95-66bc61c8ca52",
   "metadata": {},
   "outputs": [],
   "source": []
  },
  {
   "cell_type": "code",
   "execution_count": null,
   "id": "5cde3494",
   "metadata": {},
   "outputs": [],
   "source": []
  },
  {
   "cell_type": "code",
   "execution_count": null,
   "id": "2ce3fa93-abbb-4fe2-8cb4-e8725e4f1469",
   "metadata": {},
   "outputs": [],
   "source": [
    "# 6.If there is a relationship, in which country is it greater?"
   ]
  },
  {
   "cell_type": "code",
   "execution_count": null,
   "id": "18ee16a4-251c-41e9-8ae8-f1ad7898fd7c",
   "metadata": {},
   "outputs": [],
   "source": []
  },
  {
   "cell_type": "code",
   "execution_count": null,
   "metadata": {},
   "outputs": [],
   "source": []
  },
  {
   "cell_type": "code",
   "execution_count": null,
   "id": "c5d878e3-1a4c-4ced-a6b5-3b15758bc4fe",
   "metadata": {},
   "outputs": [],
   "source": [
    "# 7. What is the median of contagions in Portugal?"
   ]
  },
  {
   "cell_type": "code",
   "execution_count": null,
   "id": "cfd397ce-fff8-4a30-8fa9-0aa4093fc8e1",
   "metadata": {},
   "outputs": [],
   "source": []
  },
  {
   "cell_type": "code",
   "execution_count": null,
   "id": "f210adca-4ae3-44ce-83e0-e469d32febf2",
   "metadata": {},
   "outputs": [],
   "source": [
    "# 8. What are the values of the Q1 and Q3 percentages for France for the number of infections?"
   ]
  },
  {
   "cell_type": "code",
   "execution_count": null,
   "id": "00dc3dfe-8d73-493e-aed8-f8bd02dbe950",
   "metadata": {},
   "outputs": [],
   "source": []
  },
  {
   "cell_type": "code",
   "execution_count": null,
   "id": "8fc6bdad",
   "metadata": {},
   "outputs": [],
   "source": []
  },
  {
   "cell_type": "code",
   "execution_count": null,
   "id": "3525da69-544f-4c0b-8863-f846d93d97b9",
   "metadata": {},
   "outputs": [],
   "source": [
    "# 9. How many different values are there for the number of infections in a day in each country?"
   ]
  },
  {
   "cell_type": "code",
   "execution_count": null,
   "id": "5ddb9bc5-0bb7-45c2-9e85-e02e30880b57",
   "metadata": {},
   "outputs": [],
   "source": []
  },
  {
   "cell_type": "code",
   "execution_count": null,
   "id": "baf08aff-76e7-484e-9514-cb53199a1145",
   "metadata": {},
   "outputs": [],
   "source": []
  },
  {
   "cell_type": "code",
   "execution_count": null,
   "id": "d1e1a1c0-271e-4750-8335-c4f1456820ca",
   "metadata": {},
   "outputs": [],
   "source": []
  },
  {
   "cell_type": "code",
   "execution_count": null,
   "id": "f663df1d-0a4b-4ea0-bc22-ab246e670f79",
   "metadata": {},
   "outputs": [],
   "source": [
    "# 10. Minimum and maximum value of infections per day for each country"
   ]
  },
  {
   "cell_type": "code",
   "execution_count": null,
   "id": "1a3939c3-0962-4864-8e15-f1297739b634",
   "metadata": {},
   "outputs": [],
   "source": []
  },
  {
   "cell_type": "code",
   "execution_count": null,
   "id": "964421af-692e-4295-96bd-0db5a542b474",
   "metadata": {},
   "outputs": [],
   "source": []
  }
 ],
 "metadata": {
  "kernelspec": {
   "display_name": "Python 3 (ipykernel)",
   "language": "python",
   "name": "python3"
  },
  "language_info": {
   "codemirror_mode": {
    "name": "ipython",
    "version": 3
   },
   "file_extension": ".py",
   "mimetype": "text/x-python",
   "name": "python",
   "nbconvert_exporter": "python",
   "pygments_lexer": "ipython3",
   "version": "3.7.15"
  }
 },
 "nbformat": 4,
 "nbformat_minor": 5
}
