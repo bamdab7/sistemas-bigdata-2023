{
 "cells": [
  {
   "cell_type": "markdown",
   "metadata": {},
   "source": [
    "### Multiplots\n",
    "\n",
    "On some occasions it may be useful to paint several graphs together, either to facilitate programming or to show different perspectives of the data at the same time to contrast them or to discover new information. \n",
    "\n",
    "There are different strategies to do this:\n",
    "- FacetGrid (from Seaborn)\n",
    "- Subplots (from Matplotlib)\n",
    "\n",
    "Let's focus on the second option, the most common, which uses the Matplotlib library to build multiple plots from single plots."
   ]
  },
  {
   "cell_type": "code",
   "execution_count": null,
   "metadata": {},
   "outputs": [],
   "source": [
    "# Load libraries\n",
    "import seaborn as sns\n",
    "#import numpy as np\n",
    "import pandas as pd\n",
    "import matplotlib.pyplot as plt"
   ]
  },
  {
   "cell_type": "markdown",
   "metadata": {},
   "source": [
    "To paint several plots using the Subplots method we have to define a \"grid\".\n",
    "\n",
    "We will indicate the number of rows and columns of our grid to define the number of plots."
   ]
  },
  {
   "cell_type": "code",
   "execution_count": null,
   "metadata": {},
   "outputs": [],
   "source": [
    "figure, axes = plt.subplots()\n",
    "figure.suptitle('Grid de gráficas - 1x1 ')"
   ]
  },
  {
   "cell_type": "code",
   "execution_count": null,
   "metadata": {},
   "outputs": [],
   "source": [
    "#fix the seaborn style\n",
    "# sns.set() ## depracated in favor of set_theme() ??\n",
    "sns.set_theme()"
   ]
  },
  {
   "cell_type": "code",
   "execution_count": null,
   "metadata": {},
   "outputs": [],
   "source": [
    "figure, axes = plt.subplots()\n",
    "figure.suptitle('Grid de gráficas - 1x1 ')"
   ]
  },
  {
   "cell_type": "code",
   "execution_count": null,
   "metadata": {},
   "outputs": [],
   "source": [
    "# Arguments that can be passed to subplots: \n",
    "# rows, columns\n",
    "# sharex -> share the x-axis\n",
    "# sharey -> share the y-axis\n",
    "# figsize -> size of the multiplot\n",
    "figure, axes = plt.subplots(1, 2, sharex=True, figsize=(10,5))\n",
    "figure.suptitle('Grid de gráficas - 1x2')\n",
    "axes[0].set_title('primeira gráfica sen datos')\n",
    "axes[1].set_title('segunda gráfica sen datos')"
   ]
  },
  {
   "cell_type": "code",
   "execution_count": null,
   "metadata": {},
   "outputs": [],
   "source": [
    "# Load sample dataset: morphological characteristics of the species Iris\n",
    "iris = pd.read_csv('../datasets/iris.csv')\n",
    "iris"
   ]
  },
  {
   "cell_type": "code",
   "execution_count": null,
   "metadata": {},
   "outputs": [],
   "source": [
    "# We can visualize a variable with different graphs.\n",
    "# For example, visualize the distribution of the width of the petals with three distribution plots.\n",
    "\n",
    "figure, axes = plt.subplots(1,3)\n",
    "figure.suptitle('Distribución da lonxitude dos pétalos')\n",
    "\n",
    "sns.histplot(ax=axes[0], data=iris, x='petal.length')\n",
    "sns.kdeplot(ax=axes[1], data=iris, x='petal.length')\n",
    "sns.ecdfplot(ax=axes[2], data=iris, x='petal.length')"
   ]
  },
  {
   "cell_type": "code",
   "execution_count": null,
   "metadata": {},
   "outputs": [],
   "source": [
    "# Adjust visualization\n",
    "figure, axes = plt.subplots(1,3,figsize=(15,5))\n",
    "figure.suptitle('Distribución la lonxitude dos pétalos')\n",
    "\n",
    "sns.histplot(ax=axes[0], data=iris, x='petal.length',binwidth=0.1)\n",
    "axes[0].set_title('Histograma')\n",
    "\n",
    "sns.kdeplot(ax=axes[1], data=iris, x='petal.length')\n",
    "axes[1].set_title('KDE - Kernel Density Estimation')\n",
    "\n",
    "sns.ecdfplot(ax=axes[2], data=iris, x='petal.length')\n",
    "axes[2].set_title('ECDF - Empirical Cumulative Distribution Function')\n"
   ]
  },
  {
   "cell_type": "code",
   "execution_count": null,
   "metadata": {},
   "outputs": [],
   "source": [
    "# We can also use a multiplot to show the same type of graph on different variables.\n",
    "figure, axes = plt.subplots(1,4)\n",
    "\n",
    "sns.boxplot(ax=axes[0], data=iris, x='petal.length')\n",
    "sns.boxplot(ax=axes[1], data=iris, x='petal.width')\n",
    "sns.boxplot(ax=axes[2], data=iris, x='sepal.length')\n",
    "sns.boxplot(ax=axes[3], data=iris, x='sepal.width')"
   ]
  },
  {
   "cell_type": "code",
   "execution_count": null,
   "metadata": {},
   "outputs": [],
   "source": [
    "# Adjust visualization\n",
    "figure, axes = plt.subplots(1,4,figsize=(20,5),sharex=True)\n",
    "figure.suptitle('Distribución das variables de iris')\n",
    "\n",
    "\n",
    "sns.boxplot(ax=axes[0], data=iris, x='petal.length')\n",
    "axes[0].set_title('Lonxitude dos pétalos')\n",
    "\n",
    "sns.boxplot(ax=axes[1], data=iris, x='petal.width')\n",
    "axes[1].set_title('Ancho dos pétalos')\n",
    "\n",
    "sns.boxplot(ax=axes[2], data=iris, x='sepal.length')\n",
    "axes[2].set_title('Lonxitude dos sépalos')\n",
    "\n",
    "sns.boxplot(ax=axes[3], data=iris, x='sepal.width')\n",
    "axes[3].set_title('Anchura dos sépalos')"
   ]
  },
  {
   "cell_type": "code",
   "execution_count": null,
   "metadata": {},
   "outputs": [],
   "source": [
    "# We can combine different types of graphs on different variables in a single multiplot and also automate the process."
   ]
  },
  {
   "cell_type": "code",
   "execution_count": null,
   "metadata": {},
   "outputs": [],
   "source": [
    "iris.info()"
   ]
  },
  {
   "cell_type": "code",
   "execution_count": null,
   "metadata": {},
   "outputs": [],
   "source": [
    "variables_numericas = list(iris.select_dtypes(include=['float64']).columns)\n",
    "num_vars_num = len(variables_numericas)"
   ]
  },
  {
   "cell_type": "code",
   "execution_count": null,
   "metadata": {},
   "outputs": [],
   "source": [
    "# We can also use a multiplot to show the same type of graph on different variables.\n",
    "figure, axes = plt.subplots(2,num_vars_num)\n",
    "\n",
    "i = 0\n",
    "for campo in variables_numericas:\n",
    "    sns.boxplot(ax=axes[0,i], data=iris, x=campo)\n",
    "    sns.histplot(ax=axes[1,i], data=iris, x=campo)\n",
    "    i = i+1"
   ]
  },
  {
   "cell_type": "code",
   "execution_count": null,
   "metadata": {},
   "outputs": [],
   "source": [
    "# Adjust configuration\n",
    "figure, axes = plt.subplots(2,num_vars_num,figsize=(20,10),sharex=True)\n",
    "\n",
    "i = 0\n",
    "for campo in variables_numericas:\n",
    "    sns.boxplot(ax=axes[0,i], data=iris, x=campo)\n",
    "    sns.histplot(ax=axes[1,i], data=iris, x=campo)\n",
    "    i = i+1"
   ]
  },
  {
   "cell_type": "code",
   "execution_count": null,
   "metadata": {},
   "outputs": [],
   "source": []
  }
 ],
 "metadata": {
  "interpreter": {
   "hash": "2eaf50c46cca8d47f8fbdccf847348d8678fdaff72e1c7be6ae8fbe014f877f9"
  },
  "kernelspec": {
   "display_name": "Python 3.8.12 ('SistemasBigData')",
   "language": "python",
   "name": "python3"
  },
  "language_info": {
   "codemirror_mode": {
    "name": "ipython",
    "version": 3
   },
   "file_extension": ".py",
   "mimetype": "text/x-python",
   "name": "python",
   "nbconvert_exporter": "python",
   "pygments_lexer": "ipython3",
   "version": "3.7.15"
  },
  "orig_nbformat": 4
 },
 "nbformat": 4,
 "nbformat_minor": 2
}
