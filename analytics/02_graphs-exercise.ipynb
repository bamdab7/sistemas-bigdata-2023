{
 "cells": [
  {
   "cell_type": "markdown",
   "id": "41ee5452-6995-43ad-9471-48bae81860e9",
   "metadata": {},
   "source": [
    "# Exercise 1. Lineplot"
   ]
  },
  {
   "cell_type": "code",
   "execution_count": null,
   "id": "d1c69905-4f98-4cc9-9898-44518892c6a6",
   "metadata": {},
   "outputs": [],
   "source": []
  },
  {
   "cell_type": "code",
   "execution_count": null,
   "id": "bc803675-4890-41d8-8f13-7d616085a426",
   "metadata": {},
   "outputs": [],
   "source": [
    "# Use the COVID data that you download from narrative for 3 countries during a year.\n",
    "# Load from file"
   ]
  },
  {
   "cell_type": "code",
   "execution_count": null,
   "id": "ab651db6",
   "metadata": {},
   "outputs": [],
   "source": []
  },
  {
   "cell_type": "code",
   "execution_count": null,
   "id": "1c7bf67a-a935-4671-9f11-78d8c9a5a008",
   "metadata": {},
   "outputs": [],
   "source": [
    "# 1.1 Draw a lineplon showing the evolution of the Spanish infections\n",
    "# Do you see anything unusual?. Try to fix it."
   ]
  },
  {
   "cell_type": "code",
   "execution_count": null,
   "id": "6b673045",
   "metadata": {},
   "outputs": [],
   "source": []
  },
  {
   "cell_type": "code",
   "execution_count": null,
   "id": "685220ff-4565-44d6-b1b7-9c7bde1b0309",
   "metadata": {},
   "outputs": [],
   "source": [
    "# 1.2 Modify the size of the graphic, add title and modify labels for both axes."
   ]
  },
  {
   "cell_type": "code",
   "execution_count": null,
   "id": "f875d208-814a-4ec7-bd60-c5112c75274b",
   "metadata": {},
   "outputs": [],
   "source": []
  },
  {
   "cell_type": "code",
   "execution_count": null,
   "id": "5104bb95-8a0d-4042-af0e-4b01a587369f",
   "metadata": {},
   "outputs": [],
   "source": [
    "# 1.3 Shows the same graph but only for the month of December."
   ]
  },
  {
   "cell_type": "code",
   "execution_count": null,
   "id": "3b8416e4-ab7b-4ac9-8a60-1695d7ec0d53",
   "metadata": {},
   "outputs": [],
   "source": []
  },
  {
   "cell_type": "code",
   "execution_count": null,
   "id": "e1d19f86-80b5-4806-91f9-aecd1e38e846",
   "metadata": {},
   "outputs": [],
   "source": [
    "# 2.1 Draw a lineplot showing the evolution of the infections in Spain and Portugal."
   ]
  },
  {
   "cell_type": "code",
   "execution_count": null,
   "id": "9b5b0a0f-af4c-4c8d-954c-422733b1cd27",
   "metadata": {},
   "outputs": [],
   "source": [
    "\n"
   ]
  },
  {
   "cell_type": "code",
   "execution_count": null,
   "id": "161b52eb-4882-4191-963e-dc6c96271e93",
   "metadata": {},
   "outputs": [],
   "source": [
    "# 2.2 Modify the size of the graphic and add title and labels for both axes."
   ]
  },
  {
   "cell_type": "code",
   "execution_count": null,
   "id": "7655482c",
   "metadata": {},
   "outputs": [],
   "source": []
  },
  {
   "cell_type": "code",
   "execution_count": null,
   "id": "60118bff-0c1f-4b3e-9937-ce8d5e2ff401",
   "metadata": {},
   "outputs": [],
   "source": [
    "# 3.1 Show a graph of deaths in the three countries for the month of January, including titles, etc..."
   ]
  },
  {
   "cell_type": "code",
   "execution_count": null,
   "id": "2b17b880",
   "metadata": {},
   "outputs": [],
   "source": []
  },
  {
   "cell_type": "code",
   "execution_count": null,
   "id": "270e28e2-74c4-4d58-8246-9410d3d3729c",
   "metadata": {},
   "outputs": [],
   "source": [
    "# 3.2 Try to change the color of the lines assign a new color to each country.\n",
    "# In addition to changing the color increase the width of the lines\n",
    "# https://seaborn.pydata.org/generated/seaborn.lineplot.html"
   ]
  },
  {
   "cell_type": "code",
   "execution_count": null,
   "id": "d6cde575",
   "metadata": {},
   "outputs": [],
   "source": []
  }
 ],
 "metadata": {
  "kernelspec": {
   "display_name": "systems",
   "language": "python",
   "name": "python3"
  },
  "language_info": {
   "codemirror_mode": {
    "name": "ipython",
    "version": 3
   },
   "file_extension": ".py",
   "mimetype": "text/x-python",
   "name": "python",
   "nbconvert_exporter": "python",
   "pygments_lexer": "ipython3",
   "version": "3.7.15"
  },
  "vscode": {
   "interpreter": {
    "hash": "63eb1e5c3aa5268319f56c3b664e0523445c946ec0f1445e261f1f92702f6b14"
   }
  }
 },
 "nbformat": 4,
 "nbformat_minor": 5
}
