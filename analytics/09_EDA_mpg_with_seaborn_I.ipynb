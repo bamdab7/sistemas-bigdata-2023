{
 "cells": [
  {
   "cell_type": "markdown",
   "metadata": {},
   "source": [
    "### EDA - auto+mpg - Parte I"
   ]
  },
  {
   "cell_type": "code",
   "execution_count": null,
   "metadata": {},
   "outputs": [],
   "source": [
    "# Exemplo EDA sobre o dataset de datos de coches\n",
    "# https://www.datafied.world/eda-on-mpg-data-using-seaborn-192"
   ]
  },
  {
   "cell_type": "code",
   "execution_count": null,
   "metadata": {},
   "outputs": [],
   "source": [
    "import numpy as np # linear algebra\n",
    "import pandas as pd # data processing, CSV file I/O (e.g. pd.read_csv)\n",
    "import seaborn as sns\n",
    "import matplotlib.pyplot as plt"
   ]
  },
  {
   "cell_type": "code",
   "execution_count": null,
   "metadata": {},
   "outputs": [],
   "source": [
    "# 'mpg' é un coñecido dataset con datos de automóbiles que se encontra como exemplo na libraría 'seaborn'\n",
    "# Tamén dispoñible no UCI: Machine Learning Repository\n",
    "# https://archive.ics.uci.edu/ml/datasets/auto+mpg\n",
    "\n",
    "# O repositorio proporciona a seguinte información:\n",
    "# Attribute Information:\n",
    "\n",
    "# 1. mpg: continuous\n",
    "# 2. cylinders: multi-valued discrete\n",
    "# 3. displacement: continuous\n",
    "# 4. horsepower: continuous\n",
    "# 5. weight: continuous\n",
    "# 6. acceleration: continuous\n",
    "# 7. model year: multi-valued discrete\n",
    "# 8. origin: multi-valued discrete\n",
    "# 9. car name: string (unique for each instance)"
   ]
  },
  {
   "cell_type": "code",
   "execution_count": null,
   "metadata": {},
   "outputs": [],
   "source": [
    "df = sns.load_dataset('mpg')"
   ]
  },
  {
   "cell_type": "code",
   "execution_count": null,
   "metadata": {},
   "outputs": [],
   "source": [
    "# Fases do EDA\n",
    "# 1. Preprocesar os datos\n",
    "# 2. EDA sobre atributos categóricos: analizar distribución e relacións con outros categóricos\n",
    "# 3. EDA sobre atributos numéricos: analizar distribució e relacións con outros numéricos\n",
    "# 4. Análise da relación entre categóricos e numéricos"
   ]
  },
  {
   "cell_type": "code",
   "execution_count": null,
   "metadata": {},
   "outputs": [],
   "source": [
    "# PREPROCESADO DOS DATOS"
   ]
  },
  {
   "cell_type": "code",
   "execution_count": null,
   "metadata": {},
   "outputs": [],
   "source": [
    "# Unha ollada aos datos\n",
    "\n",
    "df.head()"
   ]
  },
  {
   "cell_type": "code",
   "execution_count": null,
   "metadata": {},
   "outputs": [],
   "source": [
    "# Tamaño do dataset? Filas? Atributos?\n",
    "df.shape"
   ]
  },
  {
   "cell_type": "code",
   "execution_count": null,
   "metadata": {},
   "outputs": [],
   "source": [
    "# Listar todas as columnas\n",
    "columns = list(df.columns)\n",
    "columns"
   ]
  },
  {
   "cell_type": "code",
   "execution_count": null,
   "metadata": {},
   "outputs": [],
   "source": [
    "# Consultar os tipos de datos, se hai valores nulos..\n",
    "df.info()"
   ]
  },
  {
   "cell_type": "code",
   "execution_count": null,
   "metadata": {},
   "outputs": [],
   "source": [
    "# Creamos dúas listas diferentes:\n",
    "# - nomes das columnas categóricas\n",
    "# - nomes das columnas numéricas \n",
    "# Isto facilitará o tratamento das diferentes variables por separado\n",
    "\n",
    "cats = list(df.select_dtypes(include=['object']).columns)\n",
    "nums = list(df.select_dtypes(exclude=['object']).columns)\n",
    "print(f'Variables categóricas: {cats}')\n",
    "print(f'Variables numéricas: {nums}')"
   ]
  },
  {
   "cell_type": "code",
   "execution_count": null,
   "metadata": {},
   "outputs": [],
   "source": [
    "# Consultamos o número de valores diferentes en cada columna\n",
    "df.nunique(axis=0)"
   ]
  },
  {
   "cell_type": "code",
   "execution_count": null,
   "metadata": {},
   "outputs": [],
   "source": [
    "# cylinders e model_year teñen moi pouca variabilidade -> ten sentido facelos categóricos\n",
    "# Movémolos á lista de variables categóricas"
   ]
  },
  {
   "cell_type": "code",
   "execution_count": null,
   "metadata": {},
   "outputs": [],
   "source": [
    "cats.extend(['cylinders','model_year'])\n",
    "nums.remove('cylinders')\n",
    "nums.remove('model_year')\n",
    "print(f'Variables categóricas: {cats}')\n",
    "print(f'Variables numéricas: {nums}')"
   ]
  },
  {
   "cell_type": "code",
   "execution_count": null,
   "metadata": {},
   "outputs": [],
   "source": [
    "# búsqueda de nans - TRATAMENTO DE MISSING VALUES\n",
    "df.isna().sum()\n",
    "# df.isnull().sum() <- isnull() é un alias de isna()"
   ]
  },
  {
   "cell_type": "code",
   "execution_count": null,
   "metadata": {},
   "outputs": [],
   "source": [
    "# mostrar as liñas que teñen nan\n",
    "df[df.horsepower.isnull()]"
   ]
  },
  {
   "cell_type": "code",
   "execution_count": null,
   "metadata": {},
   "outputs": [],
   "source": [
    "# mais xeralmente\n",
    "df[df.isnull().any(axis=1)]"
   ]
  },
  {
   "cell_type": "code",
   "execution_count": null,
   "metadata": {},
   "outputs": [],
   "source": [
    "# proporción de nans\n",
    "6 / len(df)"
   ]
  },
  {
   "cell_type": "code",
   "execution_count": null,
   "metadata": {},
   "outputs": [],
   "source": [
    "# A porcentaxe é baixa (un 1,5%), logo podemos machacar esas liñas\n",
    "df.dropna(inplace=True)\n",
    "df.reset_index(inplace=True)"
   ]
  },
  {
   "cell_type": "code",
   "execution_count": null,
   "metadata": {},
   "outputs": [],
   "source": [
    "df.shape"
   ]
  },
  {
   "cell_type": "code",
   "execution_count": null,
   "metadata": {},
   "outputs": [],
   "source": [
    "\n",
    "# df = df[~df.isnull().any(axis=1)]\n",
    "# df.reset_index(inplace=True)\n",
    "# df.drop('index', inplace=True, axis=1)"
   ]
  },
  {
   "cell_type": "code",
   "execution_count": null,
   "metadata": {},
   "outputs": [],
   "source": [
    "# TRATAMENTO DE DUPLICADOS"
   ]
  },
  {
   "cell_type": "code",
   "execution_count": null,
   "metadata": {},
   "outputs": [],
   "source": [
    "# Buscar filas duplicadas\n",
    "print(f'Total de filas duplicadas: {df.duplicated().sum()}')"
   ]
  },
  {
   "cell_type": "code",
   "execution_count": null,
   "metadata": {},
   "outputs": [],
   "source": [
    "# No caso de que houbese duplicados (que non hai), eliminamos\n",
    "df.drop_duplicates(inplace=True)\n",
    "df.shape"
   ]
  },
  {
   "cell_type": "code",
   "execution_count": null,
   "metadata": {},
   "outputs": [],
   "source": [
    "# df = df[~df.duplicated()]\n",
    "# df.shape"
   ]
  },
  {
   "cell_type": "code",
   "execution_count": null,
   "metadata": {},
   "outputs": [],
   "source": [
    "# Podemos agrupar as variables por tipo por comodidade (recolocar as columnas)\n",
    "# bloque categóticas vs bloque numéricas\n",
    "df = pd.concat((df[cats], df[nums]), axis=1)\n",
    "df.head()"
   ]
  },
  {
   "cell_type": "code",
   "execution_count": null,
   "metadata": {},
   "outputs": [],
   "source": [
    "num_rows, num_cols = df.shape"
   ]
  },
  {
   "cell_type": "code",
   "execution_count": null,
   "metadata": {},
   "outputs": [],
   "source": [
    "# Pode ser unha boa idea gardar os datos unha vez limpos e preprocesados\n",
    "df.to_csv('mpg_cleaned.csv',index=False)"
   ]
  },
  {
   "cell_type": "code",
   "execution_count": null,
   "metadata": {},
   "outputs": [],
   "source": [
    "# ANÁLISE DOS VALORES CATEGÓRICOS\n",
    "\n",
    "# Despois da limpeza dos datos procedemos á análise das variables categóricas"
   ]
  },
  {
   "cell_type": "code",
   "execution_count": null,
   "metadata": {},
   "outputs": [],
   "source": [
    "df = pd.read_csv('mpg_cleaned.csv')"
   ]
  },
  {
   "cell_type": "code",
   "execution_count": null,
   "metadata": {},
   "outputs": [],
   "source": [
    "print(f'categorical variables: {cats}')"
   ]
  },
  {
   "cell_type": "code",
   "execution_count": null,
   "metadata": {},
   "outputs": [],
   "source": [
    "# Creamos un novo dataframe só coas variables categóricas\n",
    "\n",
    "#df_cat = df.loc[:, 'origin':'model_year']\n",
    "df_cat= df[cats]\n",
    "df_cat.head()"
   ]
  },
  {
   "cell_type": "code",
   "execution_count": null,
   "metadata": {},
   "outputs": [],
   "source": []
  },
  {
   "cell_type": "code",
   "execution_count": null,
   "metadata": {},
   "outputs": [],
   "source": [
    "# limpeza de columnas tipo string, eliminando espazos extra (por precaución)\n",
    "# Ollo a: https://pandas.pydata.org/pandas-docs/stable/user_guide/indexing.html#returning-a-view-versus-a-copy\n",
    "for col in ['origin', 'name']:\n",
    "    df_cat[col] = df_cat[col].apply(lambda x: ' '.join(x.split()))"
   ]
  },
  {
   "cell_type": "code",
   "execution_count": null,
   "metadata": {},
   "outputs": [],
   "source": [
    "# Pode ser útil crear niveis categóricos para algunhas variables (p.ex: mpg)\n",
    "# Axudará á hora de crear algúns gráficos e ademais facilita a comprensión\n",
    "# Engadimos unha nova variable categórica"
   ]
  },
  {
   "cell_type": "code",
   "execution_count": null,
   "metadata": {},
   "outputs": [],
   "source": [
    "df_cat['mpg_level'] = df['mpg'].apply(lambda x: 'low' if x<17 else 'high' if x>29 else 'medium')\n",
    "cats.append('mpg_level')\n",
    "print(f'Variables categóricas:  {cats}')"
   ]
  },
  {
   "cell_type": "code",
   "execution_count": null,
   "metadata": {},
   "outputs": [],
   "source": [
    "# Botar unha ollada aos valores das categorías\n",
    "print(f\"Categorías en origin: {pd.unique(df_cat['origin'])}\")\n",
    "print(f\"Categorías en cylinders: {pd.unique(df_cat['cylinders'])}\")\n",
    "print(f\"Categorías en model_year: {pd.unique(df_cat['model_year'])}\")"
   ]
  },
  {
   "cell_type": "code",
   "execution_count": null,
   "metadata": {},
   "outputs": [],
   "source": [
    "# Análise da distribución \n",
    "#\n",
    "# Queremos ver como se distribúen os datos e sacar algunha información das gráficas"
   ]
  },
  {
   "cell_type": "code",
   "execution_count": null,
   "metadata": {},
   "outputs": [],
   "source": [
    "# Countplot pode ser unha boa opción para ver como se distribúen os datos nas variables categóricas\n",
    "sns.set_theme(style='darkgrid')\n",
    "\n",
    "# Distribución de \"orixe\"\n",
    "sns.countplot(data=df_cat,x='origin')"
   ]
  },
  {
   "cell_type": "code",
   "execution_count": null,
   "metadata": {},
   "outputs": [],
   "source": [
    "# A maioría dos datos son de coches estadounidenses"
   ]
  },
  {
   "cell_type": "code",
   "execution_count": null,
   "metadata": {},
   "outputs": [],
   "source": [
    "# Distribución de \"cilindros\"\n",
    "sns.countplot(data=df_cat,x='cylinders')"
   ]
  },
  {
   "cell_type": "code",
   "execution_count": null,
   "metadata": {},
   "outputs": [],
   "source": [
    "# O mais común son coches con motores de 4 ciclindros. As versións de 3 e 5 son anecdóticas."
   ]
  },
  {
   "cell_type": "code",
   "execution_count": null,
   "metadata": {},
   "outputs": [],
   "source": [
    "# Distribución dos datos segundo \"model_year\"\n",
    "sns.countplot(data=df_cat,x='model_year')"
   ]
  },
  {
   "cell_type": "code",
   "execution_count": null,
   "metadata": {},
   "outputs": [],
   "source": [
    "# Distribución de \"mpg_level\"\n",
    "sns.countplot(data=df_cat,x='mpg_level')"
   ]
  },
  {
   "cell_type": "code",
   "execution_count": null,
   "metadata": {},
   "outputs": [],
   "source": [
    "# Pode ter sentido ordenar as barras en función de importancia"
   ]
  },
  {
   "cell_type": "code",
   "execution_count": null,
   "metadata": {},
   "outputs": [],
   "source": [
    "plt.figure(figsize=(15,5))\n",
    "ax = plt.subplot(1,2,1)\n",
    "ax.set_title('Orde temporal')\n",
    "sns.countplot(data=df_cat,x='model_year')\n",
    "ax = plt.subplot(1,2,2)\n",
    "ax.set_title('Orde de relevancia')\n",
    "sns.countplot(data=df_cat,x='model_year',order=df_cat.model_year.value_counts().index)"
   ]
  },
  {
   "cell_type": "code",
   "execution_count": null,
   "metadata": {},
   "outputs": [],
   "source": [
    "# Podemos agrupar as gráficas"
   ]
  },
  {
   "cell_type": "code",
   "execution_count": null,
   "metadata": {},
   "outputs": [],
   "source": [
    "fig = plt.figure(1, (14, 8))\n",
    "\n",
    "for i,cat in enumerate(df_cat.drop(['name'], axis=1).columns):\n",
    "    ax = plt.subplot(2,2,i+1)\n",
    "    sns.countplot(data=df_cat,x=cat, order=df_cat[cat].value_counts().index)\n",
    "    ax.set_xlabel(None)\n",
    "    ax.set_title(f'Distribution of {cat}')\n",
    "    plt.tight_layout()\n",
    "\n",
    "plt.show()"
   ]
  },
  {
   "cell_type": "code",
   "execution_count": null,
   "metadata": {},
   "outputs": [],
   "source": [
    "# Cálculo da proporción das clases dominantes en relación co resto da súa categoría\n",
    "for i,cat in enumerate(df_cat.drop(['name'], axis=1).columns):\n",
    "    val_counts = df_cat[cat].value_counts()\n",
    "    dominant_frac = val_counts.iloc[0] / num_rows\n",
    "    print(f'`{val_counts.index[0]}` contribúe por si sóa nun {round(dominant_frac * 100, 2)}% de {cat}')"
   ]
  },
  {
   "cell_type": "code",
   "execution_count": null,
   "metadata": {},
   "outputs": [],
   "source": [
    "# Funcionamento de value_counts\n",
    "# df_cat.cylinders.value_counts()"
   ]
  },
  {
   "cell_type": "code",
   "execution_count": null,
   "metadata": {},
   "outputs": [],
   "source": [
    "# NOVA INFORMACIÓN EXTRAÍDA DA ANÁLISE  -- Insights\n",
    "\n",
    "# - Orixe desequilibrado en favor de usa, maior que a suma dos competidores\n",
    "# - Cilindros desequilibrado en favor de 4\n",
    "# - mpg_level (que fixemos categórica) desequilibrio en favor de medium (que é un rango maior)\n",
    "# - model_year -> equilibrado"
   ]
  },
  {
   "cell_type": "code",
   "execution_count": null,
   "metadata": {},
   "outputs": [],
   "source": [
    "# analizar os nomes dos modelos 'name'\n",
    "print(f'Número de categorías diferentes en  `name`: {df_cat.name.nunique()}')\n",
    "print(f\"\\nListaxe de categorías en `name`:\\n\\n {df_cat.name.unique()}\")"
   ]
  },
  {
   "cell_type": "code",
   "execution_count": null,
   "metadata": {},
   "outputs": [],
   "source": [
    "# Os nomes inclúen a marca!\n",
    "\n",
    "# Podemos extraer a marca/compañía de `name` , coa intención de crear unha nova categoría \n",
    "df_cat['car_company'] = df_cat['name'].apply(lambda x: x.split()[0])\n",
    "\n",
    "# Eliminamos a Compañía e deixamos só o modelo\n",
    "df_cat['car_name'] = df_cat['name'].apply(lambda x: ' '.join(x.split()[1:]))\n",
    "df_cat.drop('name', axis=1, inplace=True)\n",
    "\n",
    "cats.extend(['car_company', 'car_name'])\n",
    "cats.remove('name')\n",
    "\n",
    "print(f'Variables categóricas:  {cats}')\n",
    "df_cat.head()"
   ]
  },
  {
   "cell_type": "code",
   "execution_count": null,
   "metadata": {},
   "outputs": [],
   "source": [
    "# Investigamos as categorías en `car_company`\n",
    "print(f'Número de categorías en `car_company`: {df_cat.car_company.nunique()}')\n",
    "print(f\"\\nListaxe de categorías en `car_company`:\\n\\n {df_cat.car_company.unique()}\")"
   ]
  },
  {
   "cell_type": "code",
   "execution_count": null,
   "metadata": {},
   "outputs": [],
   "source": [
    "# Agora xa podemos analizar a distribución dos datos en función da marca/compañía\n",
    "fig = plt.figure(1, (18, 4))\n",
    "\n",
    "ax1 = plt.subplot(1,1,1)\n",
    "sns.countplot(data=df_cat,x='car_company', order=df_cat['car_company'].value_counts().index)\n",
    "ax1.set_xticklabels(ax1.get_xticklabels(), rotation=75)\n",
    "\n",
    "plt.show()"
   ]
  },
  {
   "cell_type": "code",
   "execution_count": null,
   "metadata": {},
   "outputs": [],
   "source": [
    "df_cat.car_company.value_counts()[:2]"
   ]
  },
  {
   "cell_type": "code",
   "execution_count": null,
   "metadata": {},
   "outputs": [],
   "source": [
    "# NOVA INFORMACIÓN EXTRAÍDA DA ANÁLISE  -- Insights\n",
    "\n",
    "# - car_name ten demasiadas categorías, practicamente unha por liña, polo que non nos daría ningunha información útil\n",
    "# - creamos unha nova variable 'car_company' para as marcas dos coches, reducindo en gran medida o número de categorías\n",
    "# - a distribución de car_company non é uniforme e poucas compañías abarcan a maior parte dos modelos de coche"
   ]
  },
  {
   "cell_type": "code",
   "execution_count": null,
   "metadata": {},
   "outputs": [],
   "source": [
    "# CONCLUSIÓNS\n",
    "\n",
    "# * Todos os atributos categóricos (excepto model_year) están moi desbalanceados e lonxe da distribución uniforme.\n",
    "# * En todos os datos concéntranse en poucas categorías"
   ]
  },
  {
   "cell_type": "code",
   "execution_count": null,
   "metadata": {},
   "outputs": [],
   "source": [
    "# Recordamos o índice:\n",
    "\n",
    "# Fases do EDA\n",
    "# 1. Preprocesar os datos\n",
    "# 2. EDA sobre atributos categóricos: analizar distribución e relacións con outros categóricos\n",
    "# 3. EDA sobre atributos numéricos: analizar distribució e relacións con outros numéricos\n",
    "# 4. Análise da relación entre categóricos e numéricos\n",
    "\n",
    "# Seguiríamos no punto 2, na parte de buscar relacións entre variable categóricas"
   ]
  },
  {
   "cell_type": "code",
   "execution_count": null,
   "metadata": {},
   "outputs": [],
   "source": [
    "import itertools\n",
    "combos = itertools.combinations(['origin', 'cylinders', 'mpg_level'], 2)\n",
    "\n",
    "fig = plt.figure(1, (18, 8))\n",
    "\n",
    "i = 0\n",
    "for pair in combos:\n",
    "#     i+=1\n",
    "#     ax = plt.subplot(2,3,i)\n",
    "#     sns.countplot(x=pair[0], hue=pair[1], data=df_cat)\n",
    "#     ax.set_xlabel(None)\n",
    "#     ax.set_title(f'{pair[0]} bifurcated by {pair[1]}')\n",
    "#     plt.tight_layout()\n",
    "\n",
    "    i+=1\n",
    "    ax = plt.subplot(2,3,i)\n",
    "    sns.countplot(x=pair[1], hue=pair[0], data=df_cat)\n",
    "    ax.set_xlabel(None)\n",
    "    ax.set_title(f'{pair[1]} bifurcated by {pair[0]}')\n",
    "    plt.tight_layout()\n"
   ]
  },
  {
   "cell_type": "code",
   "execution_count": null,
   "metadata": {},
   "outputs": [],
   "source": [
    "# CONCLUSIÓNS - Insights\n",
    "\n",
    "# Pode apreciarse o desvalanceo das categorías"
   ]
  },
  {
   "cell_type": "markdown",
   "metadata": {},
   "source": [
    "**Cilindros por orixe**\n",
    "- Xapón é a única orixe con vehículos de 3 cilindros\n",
    "- Europa é a única orixe con vehículos de 5 cilindros\n",
    "- USA é a única con vehículos de 8 cilindros\n",
    "- Todas as orixes teñen vehículos de 4 cilindros mais ou menos na mesma proporción xa que é o máis común\n",
    "- Toas as orixes teñen vechículos de 6 cindros, aínda que USA ten mais, pois é a que ten maior número de coches en total"
   ]
  },
  {
   "cell_type": "markdown",
   "metadata": {},
   "source": [
    "**mpg_level por orixe**\n",
    "- Xapón non ten vehículos de baixo mpg_level, Europa apenas e practicamente todos os dese nivel son de USA\n",
    "- USA ten a maioría dos vehículos con nivel medio"
   ]
  },
  {
   "cell_type": "markdown",
   "metadata": {},
   "source": [
    "**mpg_level por cilindros**\n",
    "- Vehículos con baixo mpg_level teñen 6 ou 8 cilindros, principalmente 8\n",
    "- Case todos os vehículos de alto mpg_level son de 4 cilindros\n"
   ]
  },
  {
   "cell_type": "markdown",
   "metadata": {},
   "source": [
    "**Análise de cruzado das tres variables**"
   ]
  },
  {
   "cell_type": "code",
   "execution_count": null,
   "metadata": {},
   "outputs": [],
   "source": [
    "sns.catplot(x='mpg_level', hue='cylinders', col='origin', data=df_cat, kind='count')\n",
    "plt.show()"
   ]
  },
  {
   "cell_type": "markdown",
   "metadata": {},
   "source": [
    "**Insights**\n",
    "- Xapón non ten vehículos con log mpg_level e a maioría teñen un high mpg_level, con 4 cilindros\n",
    "- En Europa case todos os coches teñen mpg_level medio ou alto e son de 4 cilindros\n",
    "- USA ten poucos coches con mpg_level alto en comparación con outras zonas, a pesar de que a maior parte dos datos son de USA"
   ]
  },
  {
   "cell_type": "markdown",
   "metadata": {},
   "source": [
    "**Conclusións**\n",
    "- Xapón sería a zona que ten maior proporción de coches cun alto mpg_level\n",
    "- Parece que a medida que o número de cilindros aumenta o mpg_level diminúe (é dicir, consumen máis os coches de maior cilindrada)"
   ]
  },
  {
   "cell_type": "markdown",
   "metadata": {},
   "source": [
    "#### Análise de 'model_year'"
   ]
  },
  {
   "cell_type": "code",
   "execution_count": null,
   "metadata": {},
   "outputs": [],
   "source": [
    "fig = plt.figure(1, (18,4))\n",
    "sns.countplot(x='model_year', hue='mpg_level', data=df_cat)\n",
    "sns.relplot(x='model_year', y='mpg', data=df)\n",
    "plt.show()"
   ]
  },
  {
   "cell_type": "markdown",
   "metadata": {},
   "source": [
    "**Insights**\n",
    "- A medida que avanzan os anos baixa o número de modelos con low level (é dicir, coches de alto consumo) a ta que desaparecen no ano 79\n",
    "- A medida que avanzan os anos medra o número de modelos con high level\n",
    "- Non houbo cambios significativos na produción de modelos con medium level\n",
    "- No scatter plot vese unha tendencia de aumento do nivel mpg a medida que pasan os anos"
   ]
  },
  {
   "cell_type": "code",
   "execution_count": null,
   "metadata": {},
   "outputs": [],
   "source": [
    "fig = plt.figure(1, (18,4))\n",
    "sns.countplot(x='model_year', hue='cylinders', data=df_cat)\n",
    "plt.show()"
   ]
  },
  {
   "cell_type": "markdown",
   "metadata": {},
   "source": [
    "**Insights**\n",
    "- A medida que pasan os anos descende o número de coches de 8 e 6 cilindros\n",
    "- A medida que pasan os anos aumentan o número de coches con menos cilindros\n",
    "- Os 4 cilindros impóñense como estándar coa maioría de modelos fabricados"
   ]
  },
  {
   "cell_type": "code",
   "execution_count": null,
   "metadata": {},
   "outputs": [],
   "source": [
    "fig = plt.figure(1, (18,4))\n",
    "sns.countplot(x='model_year', hue='origin', data=df_cat)\n",
    "plt.show()"
   ]
  },
  {
   "cell_type": "markdown",
   "metadata": {},
   "source": [
    "**Insights**\n",
    "- Nos primeiros anos USA domina o mercado con ampla diferenza\n",
    "- A medida que pasan os anos, especialmente a partir do 80, Europa e Xapón aumentan a súa produción ante unha caída moi pronunciada de USA"
   ]
  },
  {
   "cell_type": "markdown",
   "metadata": {},
   "source": [
    "#### Análise de 'car_company'"
   ]
  },
  {
   "cell_type": "code",
   "execution_count": null,
   "metadata": {},
   "outputs": [],
   "source": [
    "# Como vimos anteriormente, os modelos concéntranse en poucas marcas\n",
    "fig = plt.figure(1, (18, 4))\n",
    "\n",
    "ax1 = plt.subplot(1,1,1)\n",
    "sns.countplot(data=df_cat,x='car_company', order=df_cat['car_company'].value_counts().index)\n",
    "ax1.set_xticklabels(ax1.get_xticklabels(), rotation=75)\n",
    "\n",
    "plt.show()"
   ]
  },
  {
   "cell_type": "code",
   "execution_count": null,
   "metadata": {},
   "outputs": [],
   "source": [
    "#Seleccionamos só un subconxunto das marcas con mais modelos\n",
    "top_car_companies = df_cat.car_company.value_counts()[:15].index\n",
    "top_car_companies"
   ]
  },
  {
   "cell_type": "code",
   "execution_count": null,
   "metadata": {},
   "outputs": [],
   "source": [
    "df_cat_top_comp = df_cat[df_cat.car_company.isin(top_car_companies)]\n",
    "df_cat_top_comp.shape"
   ]
  },
  {
   "cell_type": "code",
   "execution_count": null,
   "metadata": {},
   "outputs": [],
   "source": [
    "fig = plt.figure(1, (18,12))\n",
    "\n",
    "for i,cat in enumerate(['mpg_level', 'origin', 'cylinders']):\n",
    "    ax = plt.subplot(3,1,i+1)\n",
    "    sns.countplot(x='car_company', hue=cat, data=df_cat_top_comp)\n",
    "    ax.set_xticklabels(ax.get_xticklabels(), rotation=75)\n",
    "    plt.tight_layout()"
   ]
  },
  {
   "cell_type": "markdown",
   "metadata": {},
   "source": [
    "**Insights**\n",
    "- As compañías con máis modelos teñen vehículos con todos os niveis de consumo mentres que as compañías que teñen pouca producción céntranse nos modelos de alto ou medio consumo.\n",
    "- A maoiría das empresas con máis producción son USA, e esa é unha das razóns polas que predominan os coches estadounidenses no dataset\n",
    "- As compañías top céntranse en vechiculos con 4, 6 e 8 cilindros mentres que o resto céntranse en modelos de menos cilindros"
   ]
  },
  {
   "cell_type": "code",
   "execution_count": null,
   "metadata": {},
   "outputs": [],
   "source": [
    "# Ate este punto chega a análise das variables categórigas. Todos os atributos son de interese, excepto 'car_name'\n",
    "# que podemos eliminar do dataset.\n",
    "# A reducción de características é unha parte do proceso, eliminar os datos que non nos aportan información."
   ]
  },
  {
   "cell_type": "code",
   "execution_count": null,
   "metadata": {},
   "outputs": [],
   "source": [
    "# Preparamos o dataframe para almacenalo antes de pasar ao seguinte punto da análise\n",
    "df = pd.concat((df_cat.loc[:, 'origin':'car_company'], df.loc[:, 'mpg':'acceleration']), axis=1)\n",
    "df.head()"
   ]
  },
  {
   "cell_type": "code",
   "execution_count": null,
   "metadata": {},
   "outputs": [],
   "source": [
    "# Gardamos os cambios a un novo ficheiro\n",
    "df.to_csv('mpg_cated.csv', index=False)"
   ]
  },
  {
   "cell_type": "code",
   "execution_count": null,
   "metadata": {},
   "outputs": [],
   "source": []
  }
 ],
 "metadata": {
  "interpreter": {
   "hash": "2eaf50c46cca8d47f8fbdccf847348d8678fdaff72e1c7be6ae8fbe014f877f9"
  },
  "kernelspec": {
   "display_name": "Python 3.8.12 64-bit ('SistemasBigData': conda)",
   "language": "python",
   "name": "python3"
  },
  "language_info": {
   "codemirror_mode": {
    "name": "ipython",
    "version": 3
   },
   "file_extension": ".py",
   "mimetype": "text/x-python",
   "name": "python",
   "nbconvert_exporter": "python",
   "pygments_lexer": "ipython3",
   "version": "3.7.15"
  },
  "orig_nbformat": 4
 },
 "nbformat": 4,
 "nbformat_minor": 2
}
