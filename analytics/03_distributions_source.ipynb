{
 "cells": [
  {
   "cell_type": "markdown",
   "metadata": {},
   "source": [
    "# Graphs with python. 2\n",
    "## Distribution\n",
    "\n",
    "We have several graphs to show how our data are distributed, i.e., which values are more or less frequent."
   ]
  },
  {
   "cell_type": "markdown",
   "metadata": {},
   "source": [
    "![imaxe-graficas-distribucion](img/distribucions.png)"
   ]
  },
  {
   "cell_type": "code",
   "execution_count": null,
   "metadata": {},
   "outputs": [],
   "source": [
    "import pandas as pd\n",
    "import matplotlib.pyplot as plt\n",
    "import seaborn as sns"
   ]
  },
  {
   "cell_type": "code",
   "execution_count": null,
   "metadata": {},
   "outputs": [],
   "source": [
    "# Dataset height, weight, gender\n",
    "# https://www.kaggle.com/mustafaali96/weight-height/version/1"
   ]
  },
  {
   "cell_type": "code",
   "execution_count": null,
   "metadata": {},
   "outputs": [],
   "source": [
    "df = pd.read_csv('../datasets/weight-height.csv')\n",
    "df.head()"
   ]
  },
  {
   "cell_type": "markdown",
   "metadata": {},
   "source": [
    "### Displot function\n",
    "https://seaborn.pydata.org/generated/seaborn.displot.html\n",
    "\n",
    "Different approaches: \n",
    "- histplot\n",
    "- kdeplot\n",
    "- ecdf"
   ]
  },
  {
   "cell_type": "code",
   "execution_count": null,
   "metadata": {},
   "outputs": [],
   "source": [
    "# The default representation is of type 'histogram'.\n",
    "sns.displot(data=df.Height)"
   ]
  },
  {
   "cell_type": "code",
   "execution_count": null,
   "metadata": {},
   "outputs": [],
   "source": [
    "# Other way to call the function\n",
    "sns.displot(data=df,x='Height')"
   ]
  },
  {
   "cell_type": "code",
   "execution_count": null,
   "metadata": {},
   "outputs": [],
   "source": [
    "# KDE type representation (Kernel Density Estimates)\n",
    "sns.displot(data=df.Height, kind='kde')"
   ]
  },
  {
   "cell_type": "code",
   "execution_count": null,
   "metadata": {},
   "outputs": [],
   "source": [
    "# A third type of distribution graph would be the ECDF, which shows the data cumulatively.\n",
    "# Graphically we will detect steeper slopes in the values where more data are located.\n",
    "sns.displot(data=df.Height, kind='ecdf')"
   ]
  },
  {
   "cell_type": "code",
   "execution_count": null,
   "metadata": {},
   "outputs": [],
   "source": [
    "# Normal distribution\n",
    "# Previous distribution graphs show a pattern similar to the NORMAL DISTRIBUTION."
   ]
  },
  {
   "cell_type": "code",
   "execution_count": null,
   "metadata": {},
   "outputs": [],
   "source": [
    "# After representing the height values let's look at the weights.\n",
    "sns.displot(data=df,x='Weight')\n"
   ]
  },
  {
   "cell_type": "code",
   "execution_count": null,
   "metadata": {},
   "outputs": [],
   "source": [
    "# Transform inches to cms\n",
    "df['altura'] = df.Height / 0.39370\n",
    "\n",
    "# Transform pounds to kgs\n",
    "df['peso'] = df.Weight / 2.2046"
   ]
  },
  {
   "cell_type": "code",
   "execution_count": null,
   "metadata": {},
   "outputs": [],
   "source": [
    "df_pesoaltura = df[['Gender','peso','altura']]\n",
    "df_pesoaltura.head()"
   ]
  },
  {
   "cell_type": "code",
   "execution_count": null,
   "metadata": {},
   "outputs": [],
   "source": [
    "# Now I have a dataframe with cms and kg\n",
    "\n",
    "sns.displot(data=df_pesoaltura.altura)\n",
    "plt.title('Distribución de alturas')\n",
    "plt.xlabel('altura en cm\\'s')"
   ]
  },
  {
   "cell_type": "code",
   "execution_count": null,
   "metadata": {},
   "outputs": [],
   "source": [
    "sns.displot(data=df_pesoaltura.peso)\n",
    "plt.title('Distribución de peso')\n",
    "# We detected two peaks!\n",
    "# The distribution does not conform to the NORMAL, as expected."
   ]
  },
  {
   "cell_type": "code",
   "execution_count": null,
   "metadata": {},
   "outputs": [],
   "source": [
    "# We can represent weight by indicating a categorical variable.\n",
    "sns.displot(data=df_pesoaltura, x='peso', hue='Gender')\n",
    "plt.title('Distribución de peso')"
   ]
  },
  {
   "cell_type": "code",
   "execution_count": null,
   "metadata": {},
   "outputs": [],
   "source": [
    "sns.displot(data=df_pesoaltura, x='peso', hue='Gender', kind = 'kde')\n",
    "plt.title('Distribución de peso')"
   ]
  },
  {
   "cell_type": "code",
   "execution_count": null,
   "metadata": {},
   "outputs": [],
   "source": [
    "# Displot also allows to represent the distribution as a function of two variables\n",
    "# Color intensity indicates the largest or smallest distribution.\n",
    "sns.displot(data=df_pesoaltura, x='altura',y='peso')"
   ]
  },
  {
   "cell_type": "code",
   "execution_count": null,
   "metadata": {},
   "outputs": [],
   "source": [
    "sns.displot(data=df_pesoaltura, x='altura',y='peso', kind='kde')"
   ]
  },
  {
   "cell_type": "code",
   "execution_count": null,
   "metadata": {},
   "outputs": [],
   "source": [
    "# Again we detect the two \"peaks\".\n",
    "sns.displot(data=df_pesoaltura, x='altura',y='peso', kind='kde', hue='Gender')"
   ]
  },
  {
   "cell_type": "code",
   "execution_count": null,
   "metadata": {},
   "outputs": [],
   "source": []
  }
 ],
 "metadata": {
  "kernelspec": {
   "display_name": "systems",
   "language": "python",
   "name": "python3"
  },
  "language_info": {
   "codemirror_mode": {
    "name": "ipython",
    "version": 3
   },
   "file_extension": ".py",
   "mimetype": "text/x-python",
   "name": "python",
   "nbconvert_exporter": "python",
   "pygments_lexer": "ipython3",
   "version": "3.7.15"
  },
  "orig_nbformat": 4,
  "vscode": {
   "interpreter": {
    "hash": "63eb1e5c3aa5268319f56c3b664e0523445c946ec0f1445e261f1f92702f6b14"
   }
  }
 },
 "nbformat": 4,
 "nbformat_minor": 2
}
