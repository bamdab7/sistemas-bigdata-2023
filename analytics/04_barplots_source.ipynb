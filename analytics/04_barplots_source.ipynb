{
 "cells": [
  {
   "cell_type": "markdown",
   "metadata": {},
   "source": [
    "# Graphs with python. 3\n",
    "## Barplots\n",
    "\n",
    "API SEABORN - Barplot\n",
    "\n",
    "https://seaborn.pydata.org/generated/seaborn.barplot.html\n",
    "\n",
    "Bar charts represent the values of a numerical variable in relation to a categorical variable, that is to say, it shows the numerical values according to the different levels.\n",
    "\n",
    "In one axis it represents the categories and in the others the values.\n",
    "\n",
    "Barplots are similar to histograms, although they simply show how a single numerical variable is distributed (without taking into account categories)\n"
   ]
  },
  {
   "cell_type": "code",
   "execution_count": null,
   "metadata": {},
   "outputs": [],
   "source": [
    "import pandas as pd\n",
    "import seaborn as sns\n",
    "import matplotlib.pyplot as plt"
   ]
  },
  {
   "cell_type": "code",
   "execution_count": null,
   "metadata": {},
   "outputs": [],
   "source": [
    "categorias = ['A', 'B', 'C']\n",
    "valores = [1, 5, 3]\n",
    "\n",
    "sns.barplot(x=categorias, y=valores)"
   ]
  },
  {
   "cell_type": "code",
   "execution_count": null,
   "metadata": {},
   "outputs": [],
   "source": [
    "tendas = ['A Coruña', 'Betanzos', 'Oleiros']\n",
    "vendas = [100000, 10000, 30000]\n",
    "\n",
    "sns.barplot(x=tendas, y=vendas)"
   ]
  },
  {
   "cell_type": "code",
   "execution_count": null,
   "metadata": {},
   "outputs": [],
   "source": [
    "# When to use a bar chart?\n",
    "# A bar chart is useful for finding or highlighting differences between different groups of data."
   ]
  },
  {
   "cell_type": "code",
   "execution_count": null,
   "metadata": {},
   "outputs": [],
   "source": [
    "# Data on arms sales in 2020\n",
    "# Source: https://www.data-to-viz.com/story/OneNumOneCat.html\n",
    "# SIPRI Arms Industry Database: https://sipri.org/databases/armsindustry\n",
    "\n",
    "df_venda_armas = pd.read_csv('../datasets/venda_armas_paises.csv')\n",
    "df_venda_armas\n"
   ]
  },
  {
   "cell_type": "code",
   "execution_count": null,
   "metadata": {},
   "outputs": [],
   "source": [
    "sns.barplot(data=df_venda_armas, x='country',y='total_sales')"
   ]
  },
  {
   "cell_type": "code",
   "execution_count": null,
   "metadata": {},
   "outputs": [],
   "source": [
    "# Problems with the visualization:\n",
    "# - We cannot read country identifiers."
   ]
  },
  {
   "cell_type": "code",
   "execution_count": null,
   "metadata": {},
   "outputs": [],
   "source": [
    "# We increase the size of the graphic\n",
    "plt.figure(figsize=(20,7))\n",
    "sns.barplot(data=df_venda_armas, x='country',y='total_sales', )"
   ]
  },
  {
   "cell_type": "code",
   "execution_count": null,
   "metadata": {},
   "outputs": [],
   "source": [
    "# It still doesn't work\n",
    "# We can change the orientation of the graphic\n",
    "plt.figure(figsize=(12,10))\n",
    "sns.barplot(data=df_venda_armas, y='country',x='total_sales')"
   ]
  },
  {
   "cell_type": "code",
   "execution_count": null,
   "metadata": {},
   "outputs": [],
   "source": [
    "# Problem: it is difficult to identify the order of the countries.\n",
    "# Solution: order the dataframe\n",
    "df_venda_armas.sort_values(by='total_sales',ascending=False,inplace=True)\n",
    "plt.figure(figsize=(12,10))\n",
    "sns.barplot(data=df_venda_armas, y='country',x='total_sales')"
   ]
  },
  {
   "cell_type": "code",
   "execution_count": null,
   "metadata": {},
   "outputs": [],
   "source": [
    "# Os datos non sempre estarán preparados, senón que teremos que facer cálculos\n",
    "\n",
    "# The data will not always be ready, but we will have to make calculations.\n",
    "df_armas = pd.read_csv('../datasets/venda_armas_2020.csv',sep=';')\n",
    "df_armas.head()"
   ]
  },
  {
   "cell_type": "code",
   "execution_count": null,
   "metadata": {},
   "outputs": [],
   "source": [
    "# Barplot pintaría as medias dos países\n",
    "\n",
    "# Barplot would paint the averages of two countries\n",
    "df_armas.sort_values(by='total_sales',ascending=False,inplace=True)\n",
    "plt.figure(figsize=(12,10))\n",
    "sns.barplot(data=df_armas, y='country',x='total_sales')"
   ]
  },
  {
   "cell_type": "code",
   "execution_count": null,
   "metadata": {},
   "outputs": [],
   "source": [
    "df_armas_agrupadas = df_armas.groupby('country',as_index=False)\n",
    "#df_armas_agrupadas = df_armas.groupby('country')\n",
    "df_armas_por_pais = df_armas_agrupadas.sum()\n",
    "df_armas_por_pais"
   ]
  },
  {
   "cell_type": "code",
   "execution_count": null,
   "metadata": {},
   "outputs": [],
   "source": [
    "sns.barplot(data=df_armas_por_pais.sort_values(by='total_sales',ascending=False), y='country',x='total_sales')"
   ]
  },
  {
   "cell_type": "code",
   "execution_count": null,
   "metadata": {},
   "outputs": [],
   "source": [
    "# Although we are representing the summations in our example, to visualize total quantities,\n",
    "# it is very common to use bar charts to show how a variable behaves as a function of \n",
    "# certain categories. That's why the default barplot function is the mean (avg) makes sense.\n",
    "\n",
    "# In addition to painting the means, Barplot also represents the variability of the values using black lines\n",
    "# lines that it adds to the graph."
   ]
  },
  {
   "cell_type": "code",
   "execution_count": null,
   "metadata": {},
   "outputs": [],
   "source": [
    "# For testing purposes, loads the famous dataset with data from the Titanic's crew.\n",
    "# Seaborn provides some\n",
    "df_titanic = sns.load_dataset('titanic')"
   ]
  },
  {
   "cell_type": "code",
   "execution_count": null,
   "metadata": {},
   "outputs": [],
   "source": [
    "df_titanic.head()"
   ]
  },
  {
   "cell_type": "code",
   "execution_count": null,
   "metadata": {},
   "outputs": [],
   "source": [
    "# We can visualize the average ages of the different travelers according to sex.\n",
    "# Or, in other words, we can answer the following question:\n",
    "# Are there differences between ages according to sex?\n",
    "sns.barplot(data = df_titanic, x = 'sex', y= 'age')"
   ]
  },
  {
   "cell_type": "code",
   "execution_count": null,
   "metadata": {},
   "outputs": [],
   "source": [
    "# Are the rates different for men and women?\n",
    "sns.barplot(data = df_titanic, x = 'sex', y= 'fare')"
   ]
  },
  {
   "cell_type": "code",
   "execution_count": null,
   "metadata": {},
   "outputs": [],
   "source": [
    "# We can consider bool variables as numeric. In this case 'survived' is also a numeric type.\n",
    "# Question: were women more likely to survive the catastrophe?\n",
    "sns.barplot(data = df_titanic, x = 'sex', y= 'survived')"
   ]
  },
  {
   "cell_type": "code",
   "execution_count": null,
   "metadata": {},
   "outputs": [],
   "source": [
    "# Xogar coa orientación pode axudar a acentuar ou decrementar as diferenzas e contrastes\n",
    "# Cal dos gráficos pensas que proxecta unha diferenza maior?\n",
    "\n",
    "# Playing with orientation can help to accentuate or decrease the differences and contrasts.\n",
    "# Which of the graphs do you think makes the biggest difference?\n",
    "sns.barplot(data = df_titanic, y = 'sex', x= 'survived')"
   ]
  },
  {
   "cell_type": "code",
   "execution_count": null,
   "metadata": {},
   "outputs": [],
   "source": [
    "# In relation to the type of ticket of the passengers, did this influence your chances of salvation?\n",
    "# Did you expect this result?\n",
    "sns.barplot(data = df_titanic, x = 'class', y= 'survived')"
   ]
  },
  {
   "cell_type": "code",
   "execution_count": null,
   "metadata": {},
   "outputs": [],
   "source": [
    "# Was age an important factor in survival?\n",
    "sns.barplot(data = df_titanic, x = 'age', y= 'survived')"
   ]
  },
  {
   "cell_type": "code",
   "execution_count": null,
   "metadata": {},
   "outputs": [],
   "source": [
    "# Too many categories for a barplot, right?\n",
    "# Remember that a barplot is useful to represent numerical values versus categorical variables."
   ]
  },
  {
   "cell_type": "code",
   "execution_count": null,
   "metadata": {},
   "outputs": [],
   "source": [
    "# And now, for something completely different..\n",
    "\n",
    "# LAMBDA functions\n",
    "\n",
    "# Lambda functions are unnamed functions that will be applied only once, so it is not worth defining them globally.\n",
    "# it is not worth defining them in a global way.\n",
    "\n",
    "# A very simple example would be a lambda function that multiplies by 10\n",
    "\n",
    "# ( lambda function definition)\n",
    "# ( variable lambda: operation on the variable)\n",
    "\n",
    "(lambda x: x * 10) (7)\n",
    "\n",
    "# Exemplo: Aplicada á 7 devolve 70\n"
   ]
  },
  {
   "cell_type": "code",
   "execution_count": null,
   "metadata": {},
   "outputs": [],
   "source": [
    "# The lambda functions are applied to dataframes by \"apply\"."
   ]
  },
  {
   "cell_type": "code",
   "execution_count": null,
   "metadata": {},
   "outputs": [],
   "source": [
    "datos_1 = {\n",
    "        'id': ['Ana', 'Berto', 'Carla', 'Dani', 'Elia'],\n",
    "        'aval1': [9, 8, 7, 6, 5],\n",
    "        'aval2': [8, 7, 8, 4, 3]}\n",
    "df_avaliacion = pd.DataFrame(datos_1)\n",
    "df_avaliacion"
   ]
  },
  {
   "cell_type": "code",
   "execution_count": null,
   "metadata": {},
   "outputs": [],
   "source": [
    "# What would happen if a point were added in the second evaluation?\n",
    "# We can operate on columns\n",
    "df_avaliacion['aval2_extra'] = df_avaliacion['aval2'] + 1\n",
    "df_avaliacion"
   ]
  },
  {
   "cell_type": "code",
   "execution_count": null,
   "metadata": {},
   "outputs": [],
   "source": [
    "# We can perform basic operations with columns, such as calculating the average of the columns.\n",
    "df_avaliacion['final'] = (df_avaliacion.aval1 + df_avaliacion.aval2)/2\n",
    "df_avaliacion"
   ]
  },
  {
   "cell_type": "code",
   "execution_count": null,
   "metadata": {},
   "outputs": [],
   "source": [
    "# If we want to perform more complex operations we can use lambda functions.\n",
    "# For example: passes or fails\n",
    "df_avaliacion['nota'] = df_avaliacion['final'].apply(lambda x: 'suspenso' if x<5 else 'aprobado')\n",
    "df_avaliacion"
   ]
  },
  {
   "cell_type": "code",
   "execution_count": null,
   "metadata": {},
   "outputs": [],
   "source": [
    "# Returning to the previous example of a barplot with too many categories...\n",
    "\n",
    "# Sometimes it can be useful to artificially construct the categories from a numerical variable...\n",
    "\n",
    "# For example: young people, average age, seniors (low, medium, high)"
   ]
  },
  {
   "cell_type": "code",
   "execution_count": null,
   "metadata": {},
   "outputs": [],
   "source": [
    "df_titanic['age_level'] = df_titanic['age'].apply(lambda x: 'low' if x<25 else 'high' if x>50 else 'medium')\n",
    "df_titanic.head()"
   ]
  },
  {
   "cell_type": "code",
   "execution_count": null,
   "metadata": {},
   "outputs": [],
   "source": [
    "# Now we can paint the graph using age_level\n",
    "\n",
    "sns.barplot(data = df_titanic, x = 'age_level', y= 'survived')\n",
    "\n",
    "# What explanation would you give to this situation? What did you expect?"
   ]
  },
  {
   "cell_type": "code",
   "execution_count": null,
   "metadata": {},
   "outputs": [],
   "source": []
  }
 ],
 "metadata": {
  "kernelspec": {
   "display_name": "Python 3",
   "language": "python",
   "name": "python3"
  },
  "language_info": {
   "codemirror_mode": {
    "name": "ipython",
    "version": 3
   },
   "file_extension": ".py",
   "mimetype": "text/x-python",
   "name": "python",
   "nbconvert_exporter": "python",
   "pygments_lexer": "ipython3",
   "version": "3.7.15"
  },
  "orig_nbformat": 4,
  "vscode": {
   "interpreter": {
    "hash": "916dbcbb3f70747c44a77c7bcd40155683ae19c65e1c03b4aa3499c5328201f1"
   }
  }
 },
 "nbformat": 4,
 "nbformat_minor": 2
}
